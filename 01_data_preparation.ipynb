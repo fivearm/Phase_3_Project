{
 "cells": [
  {
   "cell_type": "code",
   "execution_count": 1,
   "metadata": {},
   "outputs": [],
   "source": [
    "# imports\n",
    "import pandas as pd\n",
    "import numpy as np\n",
    "import matplotlib.pyplot as plt\n",
    "import seaborn as sns\n",
    "# from imblearn.over_sampling import SMOTE\n",
    "from sklearn.model_selection import train_test_split, cross_val_score\n",
    "from sklearn.dummy import DummyClassifier\n",
    "import statsmodels.api as sm"
   ]
  },
  {
   "cell_type": "code",
   "execution_count": 2,
   "metadata": {},
   "outputs": [],
   "source": [
    "X_train = pd.read_csv('data/Training_set_values.csv', index_col='id')\n",
    "X_test = pd.read_csv('data/Test_set_values.csv', index_col='id')\n",
    "y_train = pd.read_csv('data/Training_set_labels.csv', index_col='id')"
   ]
  },
  {
   "cell_type": "code",
   "execution_count": 3,
   "metadata": {},
   "outputs": [
    {
     "data": {
      "text/html": [
       "<div>\n",
       "<style scoped>\n",
       "    .dataframe tbody tr th:only-of-type {\n",
       "        vertical-align: middle;\n",
       "    }\n",
       "\n",
       "    .dataframe tbody tr th {\n",
       "        vertical-align: top;\n",
       "    }\n",
       "\n",
       "    .dataframe thead th {\n",
       "        text-align: right;\n",
       "    }\n",
       "</style>\n",
       "<table border=\"1\" class=\"dataframe\">\n",
       "  <thead>\n",
       "    <tr style=\"text-align: right;\">\n",
       "      <th></th>\n",
       "      <th>amount_tsh</th>\n",
       "      <th>date_recorded</th>\n",
       "      <th>funder</th>\n",
       "      <th>gps_height</th>\n",
       "      <th>installer</th>\n",
       "      <th>longitude</th>\n",
       "      <th>latitude</th>\n",
       "      <th>wpt_name</th>\n",
       "      <th>num_private</th>\n",
       "      <th>basin</th>\n",
       "      <th>...</th>\n",
       "      <th>payment_type</th>\n",
       "      <th>water_quality</th>\n",
       "      <th>quality_group</th>\n",
       "      <th>quantity</th>\n",
       "      <th>quantity_group</th>\n",
       "      <th>source</th>\n",
       "      <th>source_type</th>\n",
       "      <th>source_class</th>\n",
       "      <th>waterpoint_type</th>\n",
       "      <th>waterpoint_type_group</th>\n",
       "    </tr>\n",
       "    <tr>\n",
       "      <th>id</th>\n",
       "      <th></th>\n",
       "      <th></th>\n",
       "      <th></th>\n",
       "      <th></th>\n",
       "      <th></th>\n",
       "      <th></th>\n",
       "      <th></th>\n",
       "      <th></th>\n",
       "      <th></th>\n",
       "      <th></th>\n",
       "      <th></th>\n",
       "      <th></th>\n",
       "      <th></th>\n",
       "      <th></th>\n",
       "      <th></th>\n",
       "      <th></th>\n",
       "      <th></th>\n",
       "      <th></th>\n",
       "      <th></th>\n",
       "      <th></th>\n",
       "      <th></th>\n",
       "    </tr>\n",
       "  </thead>\n",
       "  <tbody>\n",
       "    <tr>\n",
       "      <th>69572</th>\n",
       "      <td>6000.0</td>\n",
       "      <td>2011-03-14</td>\n",
       "      <td>Roman</td>\n",
       "      <td>1390</td>\n",
       "      <td>Roman</td>\n",
       "      <td>34.938093</td>\n",
       "      <td>-9.856322</td>\n",
       "      <td>none</td>\n",
       "      <td>0</td>\n",
       "      <td>Lake Nyasa</td>\n",
       "      <td>...</td>\n",
       "      <td>annually</td>\n",
       "      <td>soft</td>\n",
       "      <td>good</td>\n",
       "      <td>enough</td>\n",
       "      <td>enough</td>\n",
       "      <td>spring</td>\n",
       "      <td>spring</td>\n",
       "      <td>groundwater</td>\n",
       "      <td>communal standpipe</td>\n",
       "      <td>communal standpipe</td>\n",
       "    </tr>\n",
       "    <tr>\n",
       "      <th>8776</th>\n",
       "      <td>0.0</td>\n",
       "      <td>2013-03-06</td>\n",
       "      <td>Grumeti</td>\n",
       "      <td>1399</td>\n",
       "      <td>GRUMETI</td>\n",
       "      <td>34.698766</td>\n",
       "      <td>-2.147466</td>\n",
       "      <td>Zahanati</td>\n",
       "      <td>0</td>\n",
       "      <td>Lake Victoria</td>\n",
       "      <td>...</td>\n",
       "      <td>never pay</td>\n",
       "      <td>soft</td>\n",
       "      <td>good</td>\n",
       "      <td>insufficient</td>\n",
       "      <td>insufficient</td>\n",
       "      <td>rainwater harvesting</td>\n",
       "      <td>rainwater harvesting</td>\n",
       "      <td>surface</td>\n",
       "      <td>communal standpipe</td>\n",
       "      <td>communal standpipe</td>\n",
       "    </tr>\n",
       "    <tr>\n",
       "      <th>34310</th>\n",
       "      <td>25.0</td>\n",
       "      <td>2013-02-25</td>\n",
       "      <td>Lottery Club</td>\n",
       "      <td>686</td>\n",
       "      <td>World vision</td>\n",
       "      <td>37.460664</td>\n",
       "      <td>-3.821329</td>\n",
       "      <td>Kwa Mahundi</td>\n",
       "      <td>0</td>\n",
       "      <td>Pangani</td>\n",
       "      <td>...</td>\n",
       "      <td>per bucket</td>\n",
       "      <td>soft</td>\n",
       "      <td>good</td>\n",
       "      <td>enough</td>\n",
       "      <td>enough</td>\n",
       "      <td>dam</td>\n",
       "      <td>dam</td>\n",
       "      <td>surface</td>\n",
       "      <td>communal standpipe multiple</td>\n",
       "      <td>communal standpipe</td>\n",
       "    </tr>\n",
       "    <tr>\n",
       "      <th>67743</th>\n",
       "      <td>0.0</td>\n",
       "      <td>2013-01-28</td>\n",
       "      <td>Unicef</td>\n",
       "      <td>263</td>\n",
       "      <td>UNICEF</td>\n",
       "      <td>38.486161</td>\n",
       "      <td>-11.155298</td>\n",
       "      <td>Zahanati Ya Nanyumbu</td>\n",
       "      <td>0</td>\n",
       "      <td>Ruvuma / Southern Coast</td>\n",
       "      <td>...</td>\n",
       "      <td>never pay</td>\n",
       "      <td>soft</td>\n",
       "      <td>good</td>\n",
       "      <td>dry</td>\n",
       "      <td>dry</td>\n",
       "      <td>machine dbh</td>\n",
       "      <td>borehole</td>\n",
       "      <td>groundwater</td>\n",
       "      <td>communal standpipe multiple</td>\n",
       "      <td>communal standpipe</td>\n",
       "    </tr>\n",
       "    <tr>\n",
       "      <th>19728</th>\n",
       "      <td>0.0</td>\n",
       "      <td>2011-07-13</td>\n",
       "      <td>Action In A</td>\n",
       "      <td>0</td>\n",
       "      <td>Artisan</td>\n",
       "      <td>31.130847</td>\n",
       "      <td>-1.825359</td>\n",
       "      <td>Shuleni</td>\n",
       "      <td>0</td>\n",
       "      <td>Lake Victoria</td>\n",
       "      <td>...</td>\n",
       "      <td>never pay</td>\n",
       "      <td>soft</td>\n",
       "      <td>good</td>\n",
       "      <td>seasonal</td>\n",
       "      <td>seasonal</td>\n",
       "      <td>rainwater harvesting</td>\n",
       "      <td>rainwater harvesting</td>\n",
       "      <td>surface</td>\n",
       "      <td>communal standpipe</td>\n",
       "      <td>communal standpipe</td>\n",
       "    </tr>\n",
       "  </tbody>\n",
       "</table>\n",
       "<p>5 rows × 39 columns</p>\n",
       "</div>"
      ],
      "text/plain": [
       "       amount_tsh date_recorded        funder  gps_height     installer  \\\n",
       "id                                                                        \n",
       "69572      6000.0    2011-03-14         Roman        1390         Roman   \n",
       "8776          0.0    2013-03-06       Grumeti        1399       GRUMETI   \n",
       "34310        25.0    2013-02-25  Lottery Club         686  World vision   \n",
       "67743         0.0    2013-01-28        Unicef         263        UNICEF   \n",
       "19728         0.0    2011-07-13   Action In A           0       Artisan   \n",
       "\n",
       "       longitude   latitude              wpt_name  num_private  \\\n",
       "id                                                               \n",
       "69572  34.938093  -9.856322                  none            0   \n",
       "8776   34.698766  -2.147466              Zahanati            0   \n",
       "34310  37.460664  -3.821329           Kwa Mahundi            0   \n",
       "67743  38.486161 -11.155298  Zahanati Ya Nanyumbu            0   \n",
       "19728  31.130847  -1.825359               Shuleni            0   \n",
       "\n",
       "                         basin  ... payment_type water_quality  quality_group  \\\n",
       "id                              ...                                             \n",
       "69572               Lake Nyasa  ...     annually          soft           good   \n",
       "8776             Lake Victoria  ...    never pay          soft           good   \n",
       "34310                  Pangani  ...   per bucket          soft           good   \n",
       "67743  Ruvuma / Southern Coast  ...    never pay          soft           good   \n",
       "19728            Lake Victoria  ...    never pay          soft           good   \n",
       "\n",
       "           quantity quantity_group                source  \\\n",
       "id                                                         \n",
       "69572        enough         enough                spring   \n",
       "8776   insufficient   insufficient  rainwater harvesting   \n",
       "34310        enough         enough                   dam   \n",
       "67743           dry            dry           machine dbh   \n",
       "19728      seasonal       seasonal  rainwater harvesting   \n",
       "\n",
       "                source_type source_class              waterpoint_type  \\\n",
       "id                                                                      \n",
       "69572                spring  groundwater           communal standpipe   \n",
       "8776   rainwater harvesting      surface           communal standpipe   \n",
       "34310                   dam      surface  communal standpipe multiple   \n",
       "67743              borehole  groundwater  communal standpipe multiple   \n",
       "19728  rainwater harvesting      surface           communal standpipe   \n",
       "\n",
       "      waterpoint_type_group  \n",
       "id                           \n",
       "69572    communal standpipe  \n",
       "8776     communal standpipe  \n",
       "34310    communal standpipe  \n",
       "67743    communal standpipe  \n",
       "19728    communal standpipe  \n",
       "\n",
       "[5 rows x 39 columns]"
      ]
     },
     "execution_count": 3,
     "metadata": {},
     "output_type": "execute_result"
    }
   ],
   "source": [
    "X_train.head()"
   ]
  },
  {
   "cell_type": "code",
   "execution_count": 4,
   "metadata": {},
   "outputs": [
    {
     "data": {
      "text/html": [
       "<div>\n",
       "<style scoped>\n",
       "    .dataframe tbody tr th:only-of-type {\n",
       "        vertical-align: middle;\n",
       "    }\n",
       "\n",
       "    .dataframe tbody tr th {\n",
       "        vertical-align: top;\n",
       "    }\n",
       "\n",
       "    .dataframe thead th {\n",
       "        text-align: right;\n",
       "    }\n",
       "</style>\n",
       "<table border=\"1\" class=\"dataframe\">\n",
       "  <thead>\n",
       "    <tr style=\"text-align: right;\">\n",
       "      <th></th>\n",
       "      <th>status_group</th>\n",
       "    </tr>\n",
       "    <tr>\n",
       "      <th>id</th>\n",
       "      <th></th>\n",
       "    </tr>\n",
       "  </thead>\n",
       "  <tbody>\n",
       "    <tr>\n",
       "      <th>69572</th>\n",
       "      <td>functional</td>\n",
       "    </tr>\n",
       "    <tr>\n",
       "      <th>8776</th>\n",
       "      <td>functional</td>\n",
       "    </tr>\n",
       "    <tr>\n",
       "      <th>34310</th>\n",
       "      <td>functional</td>\n",
       "    </tr>\n",
       "    <tr>\n",
       "      <th>67743</th>\n",
       "      <td>non functional</td>\n",
       "    </tr>\n",
       "    <tr>\n",
       "      <th>19728</th>\n",
       "      <td>functional</td>\n",
       "    </tr>\n",
       "  </tbody>\n",
       "</table>\n",
       "</div>"
      ],
      "text/plain": [
       "         status_group\n",
       "id                   \n",
       "69572      functional\n",
       "8776       functional\n",
       "34310      functional\n",
       "67743  non functional\n",
       "19728      functional"
      ]
     },
     "execution_count": 4,
     "metadata": {},
     "output_type": "execute_result"
    }
   ],
   "source": [
    "y_train.head()"
   ]
  },
  {
   "cell_type": "markdown",
   "metadata": {},
   "source": [
    "## Merging the X and y train data."
   ]
  },
  {
   "cell_type": "code",
   "execution_count": 5,
   "metadata": {},
   "outputs": [],
   "source": [
    "df = X_train.merge(y_train, on='id')"
   ]
  },
  {
   "cell_type": "markdown",
   "metadata": {},
   "source": [
    "We merged the X train and y train data to build a dataframe that we could use to testing our different models on. The data set from where the data came did not have a y test dataset. We will split the merged dataset and create a hold out group later."
   ]
  },
  {
   "cell_type": "code",
   "execution_count": 6,
   "metadata": {},
   "outputs": [
    {
     "name": "stdout",
     "output_type": "stream",
     "text": [
      "<class 'pandas.core.frame.DataFrame'>\n",
      "Int64Index: 59400 entries, 69572 to 26348\n",
      "Data columns (total 40 columns):\n",
      " #   Column                 Non-Null Count  Dtype  \n",
      "---  ------                 --------------  -----  \n",
      " 0   amount_tsh             59400 non-null  float64\n",
      " 1   date_recorded          59400 non-null  object \n",
      " 2   funder                 55765 non-null  object \n",
      " 3   gps_height             59400 non-null  int64  \n",
      " 4   installer              55745 non-null  object \n",
      " 5   longitude              59400 non-null  float64\n",
      " 6   latitude               59400 non-null  float64\n",
      " 7   wpt_name               59400 non-null  object \n",
      " 8   num_private            59400 non-null  int64  \n",
      " 9   basin                  59400 non-null  object \n",
      " 10  subvillage             59029 non-null  object \n",
      " 11  region                 59400 non-null  object \n",
      " 12  region_code            59400 non-null  int64  \n",
      " 13  district_code          59400 non-null  int64  \n",
      " 14  lga                    59400 non-null  object \n",
      " 15  ward                   59400 non-null  object \n",
      " 16  population             59400 non-null  int64  \n",
      " 17  public_meeting         56066 non-null  object \n",
      " 18  recorded_by            59400 non-null  object \n",
      " 19  scheme_management      55523 non-null  object \n",
      " 20  scheme_name            31234 non-null  object \n",
      " 21  permit                 56344 non-null  object \n",
      " 22  construction_year      59400 non-null  int64  \n",
      " 23  extraction_type        59400 non-null  object \n",
      " 24  extraction_type_group  59400 non-null  object \n",
      " 25  extraction_type_class  59400 non-null  object \n",
      " 26  management             59400 non-null  object \n",
      " 27  management_group       59400 non-null  object \n",
      " 28  payment                59400 non-null  object \n",
      " 29  payment_type           59400 non-null  object \n",
      " 30  water_quality          59400 non-null  object \n",
      " 31  quality_group          59400 non-null  object \n",
      " 32  quantity               59400 non-null  object \n",
      " 33  quantity_group         59400 non-null  object \n",
      " 34  source                 59400 non-null  object \n",
      " 35  source_type            59400 non-null  object \n",
      " 36  source_class           59400 non-null  object \n",
      " 37  waterpoint_type        59400 non-null  object \n",
      " 38  waterpoint_type_group  59400 non-null  object \n",
      " 39  status_group           59400 non-null  object \n",
      "dtypes: float64(3), int64(6), object(31)\n",
      "memory usage: 18.6+ MB\n"
     ]
    }
   ],
   "source": [
    "df.info()"
   ]
  },
  {
   "cell_type": "markdown",
   "metadata": {},
   "source": [
    "# Data Cleaning"
   ]
  },
  {
   "cell_type": "code",
   "execution_count": 7,
   "metadata": {},
   "outputs": [
    {
     "data": {
      "text/plain": [
       "GeoData Consultants Ltd    59400\n",
       "Name: recorded_by, dtype: int64"
      ]
     },
     "execution_count": 7,
     "metadata": {},
     "output_type": "execute_result"
    }
   ],
   "source": [
    "df['recorded_by'].value_counts()"
   ]
  },
  {
   "cell_type": "code",
   "execution_count": 8,
   "metadata": {},
   "outputs": [],
   "source": [
    "# funder: 1898 unique values; source of funding less relevant to pump functionality which should be better captured by installer"
   ]
  },
  {
   "cell_type": "code",
   "execution_count": 9,
   "metadata": {},
   "outputs": [
    {
     "data": {
      "text/plain": [
       "1897"
      ]
     },
     "execution_count": 9,
     "metadata": {},
     "output_type": "execute_result"
    }
   ],
   "source": [
    "df.funder.nunique()"
   ]
  },
  {
   "cell_type": "code",
   "execution_count": 10,
   "metadata": {},
   "outputs": [
    {
     "data": {
      "text/plain": [
       "Government Of Tanzania    9084\n",
       "Danida                    3114\n",
       "Hesawa                    2202\n",
       "Rwssp                     1374\n",
       "World Bank                1349\n",
       "                          ... \n",
       "Othod                        1\n",
       "Pentecosta Seela             1\n",
       "Yasini Selemani              1\n",
       "Su-ki Jang                   1\n",
       "Mwamvita Rajabu              1\n",
       "Name: funder, Length: 1897, dtype: int64"
      ]
     },
     "execution_count": 10,
     "metadata": {},
     "output_type": "execute_result"
    }
   ],
   "source": [
    "df['funder'].value_counts()"
   ]
  },
  {
   "cell_type": "code",
   "execution_count": 11,
   "metadata": {},
   "outputs": [
    {
     "name": "stdout",
     "output_type": "stream",
     "text": [
      "gravity                      26780\n",
      "nira/tanira                   8154\n",
      "other                         6430\n",
      "submersible                   4764\n",
      "swn 80                        3670\n",
      "mono                          2865\n",
      "india mark ii                 2400\n",
      "afridev                       1770\n",
      "ksb                           1415\n",
      "other - rope pump              451\n",
      "other - swn 81                 229\n",
      "windmill                       117\n",
      "india mark iii                  98\n",
      "cemo                            90\n",
      "other - play pump               85\n",
      "walimi                          48\n",
      "climax                          32\n",
      "other - mkulima/shinyanga        2\n",
      "Name: extraction_type, dtype: int64\n",
      "----------------------------------------------\n",
      "gravity            26780\n",
      "nira/tanira         8154\n",
      "other               6430\n",
      "submersible         6179\n",
      "swn 80              3670\n",
      "mono                2865\n",
      "india mark ii       2400\n",
      "afridev             1770\n",
      "rope pump            451\n",
      "other handpump       364\n",
      "other motorpump      122\n",
      "wind-powered         117\n",
      "india mark iii        98\n",
      "Name: extraction_type_group, dtype: int64\n",
      "----------------------------------------------\n",
      "gravity         26780\n",
      "handpump        16456\n",
      "other            6430\n",
      "submersible      6179\n",
      "motorpump        2987\n",
      "rope pump         451\n",
      "wind-powered      117\n",
      "Name: extraction_type_class, dtype: int64\n",
      "----------------------------------------------\n"
     ]
    }
   ],
   "source": [
    "print(df['extraction_type'].value_counts()) # The kind of extraction the waterpoint uses **KEEP**\n",
    "print('----------------------------------------------')\n",
    "print(df['extraction_type_group'].value_counts()) # The kind of extraction the waterpoint uses **DROP**\n",
    "print('----------------------------------------------')\n",
    "print(df['extraction_type_class'].value_counts()) # The kind of extraction the waterpoint uses **DROP**\n",
    "print('----------------------------------------------')"
   ]
  },
  {
   "cell_type": "code",
   "execution_count": 12,
   "metadata": {},
   "outputs": [
    {
     "name": "stdout",
     "output_type": "stream",
     "text": [
      "Madukani        508\n",
      "Shuleni         506\n",
      "Majengo         502\n",
      "Kati            373\n",
      "Mtakuja         262\n",
      "               ... \n",
      "Lotima A          1\n",
      "Kichiwa Kati      1\n",
      "Komshasha         1\n",
      "Ikunbirunde       1\n",
      "Siki              1\n",
      "Name: subvillage, Length: 19287, dtype: int64\n",
      "----------------------------------------------\n",
      "Iringa           5294\n",
      "Shinyanga        4982\n",
      "Mbeya            4639\n",
      "Kilimanjaro      4379\n",
      "Morogoro         4006\n",
      "Arusha           3350\n",
      "Kagera           3316\n",
      "Mwanza           3102\n",
      "Kigoma           2816\n",
      "Ruvuma           2640\n",
      "Pwani            2635\n",
      "Tanga            2547\n",
      "Dodoma           2201\n",
      "Singida          2093\n",
      "Mara             1969\n",
      "Tabora           1959\n",
      "Rukwa            1808\n",
      "Mtwara           1730\n",
      "Manyara          1583\n",
      "Lindi            1546\n",
      "Dar es Salaam     805\n",
      "Name: region, dtype: int64\n",
      "----------------------------------------------\n",
      "11    5300\n",
      "17    5011\n",
      "12    4639\n",
      "3     4379\n",
      "5     4040\n",
      "18    3324\n",
      "19    3047\n",
      "2     3024\n",
      "16    2816\n",
      "10    2640\n",
      "4     2513\n",
      "1     2201\n",
      "13    2093\n",
      "14    1979\n",
      "20    1969\n",
      "15    1808\n",
      "6     1609\n",
      "21    1583\n",
      "80    1238\n",
      "60    1025\n",
      "90     917\n",
      "7      805\n",
      "99     423\n",
      "9      390\n",
      "24     326\n",
      "8      300\n",
      "40       1\n",
      "Name: region_code, dtype: int64\n",
      "----------------------------------------------\n",
      "1     12203\n",
      "2     11173\n",
      "3      9998\n",
      "4      8999\n",
      "5      4356\n",
      "6      4074\n",
      "7      3343\n",
      "8      1043\n",
      "30      995\n",
      "33      874\n",
      "53      745\n",
      "43      505\n",
      "13      391\n",
      "23      293\n",
      "63      195\n",
      "62      109\n",
      "60       63\n",
      "0        23\n",
      "80       12\n",
      "67        6\n",
      "Name: district_code, dtype: int64\n",
      "----------------------------------------------\n",
      "Njombe          2503\n",
      "Arusha Rural    1252\n",
      "Moshi Rural     1251\n",
      "Bariadi         1177\n",
      "Rungwe          1106\n",
      "                ... \n",
      "Moshi Urban       79\n",
      "Kigoma Urban      71\n",
      "Arusha Urban      63\n",
      "Lindi Urban       21\n",
      "Nyamagana          1\n",
      "Name: lga, Length: 125, dtype: int64\n",
      "----------------------------------------------\n",
      "Igosi        307\n",
      "Imalinyi     252\n",
      "Siha Kati    232\n",
      "Mdandu       231\n",
      "Nduruma      217\n",
      "            ... \n",
      "Burungura      1\n",
      "Simbay         1\n",
      "Linda          1\n",
      "Mlimani        1\n",
      "Korongoni      1\n",
      "Name: ward, Length: 2092, dtype: int64\n",
      "----------------------------------------------\n"
     ]
    }
   ],
   "source": [
    "print(df['subvillage'].value_counts()) # The kind of extraction the waterpoint uses **KEEP**\n",
    "print('----------------------------------------------')\n",
    "print(df['region'].value_counts()) # The kind of extraction the waterpoint uses **DROP**\n",
    "print('----------------------------------------------')\n",
    "print(df['region_code'].value_counts()) # The kind of extraction the waterpoint uses **DROP**\n",
    "print('----------------------------------------------')\n",
    "print(df['district_code'].value_counts()) # The kind of extraction the waterpoint uses **DROP**\n",
    "print('----------------------------------------------')\n",
    "print(df['lga'].value_counts()) # The kind of extraction the waterpoint uses **DROP**\n",
    "print('----------------------------------------------')\n",
    "print(df['ward'].value_counts()) # The kind of extraction the waterpoint uses **DROP**\n",
    "print('----------------------------------------------')"
   ]
  },
  {
   "cell_type": "code",
   "execution_count": 13,
   "metadata": {},
   "outputs": [
    {
     "data": {
      "text/plain": [
       "21"
      ]
     },
     "execution_count": 13,
     "metadata": {},
     "output_type": "execute_result"
    }
   ],
   "source": [
    "df['region'].nunique()"
   ]
  },
  {
   "cell_type": "code",
   "execution_count": null,
   "metadata": {},
   "outputs": [],
   "source": []
  },
  {
   "cell_type": "code",
   "execution_count": 14,
   "metadata": {},
   "outputs": [],
   "source": [
    "# amount_tsh - Total static head (amount water available to waterpoint)      **DROP** A majority of the rows for this feature do not have values. \n",
    "\n",
    "# date_recorded - The date the row was entered                               **DROP**\n",
    "\n",
    "# funder - Who funded the well                                               **DROP**\n",
    "\n",
    "# gps_height - Altitude of the well\n",
    "\n",
    "# installer - Organization that installed the well                           **DROP**\n",
    "\n",
    "# wpt_name - Name of the waterpoint if there is one                          **DROP**\n",
    "\n",
    "# num_private -                                                              **DROP**\n",
    "\n",
    "# -----------------------------------------------------------------------------------------------------------------------------------------------------------\n",
    "\n",
    "# ***LOCATION METRICS***\n",
    "\n",
    "# longitude - GPS coordinate\n",
    "# latitude - GPS coordinate\n",
    "# basin - Geographic water basin\n",
    "# subvillage - Geographic location                                           **DROP**\n",
    "# region - Geographic location\n",
    "# region_code - Geographic location (coded)                                  **DROP** 'region' has more information\n",
    "# district_code - Geographic location (coded)\n",
    "# lga - Geographic location                                                  **DROP**\n",
    "# ward - Geographic location                                                 **DROP**\n",
    "# -----------------------------------------------------------------------------------------------------------------------------------------------------------\n",
    "\n",
    "# population - Population around the well\n",
    "\n",
    "# public_meeting - True/False\n",
    "\n",
    "# recorded_by - Group entering this row of data                              **DROP**\n",
    "\n",
    "# -----------------------------------------------------------------------------------------------------------------------------------------------------------\n",
    "# scheme_management - Who operates the waterpoint\n",
    "# scheme_name - Who operates the waterpoint                                  **DROP**\n",
    "\n",
    "# permit - If the waterpoint is permitted\n",
    "\n",
    "# construction_year - Year the waterpoint was constructed\n",
    "\n",
    "# extraction_type - The kind of extraction the waterpoint uses\n",
    "# extraction_type_group - The kind of extraction the waterpoint uses         **DROP**\n",
    "# extraction_type_class - The kind of extraction the waterpoint uses         **DROP**\n",
    "\n",
    "# management - How the waterpoint is managed\n",
    "# management_group - How the waterpoint is managed                           **DROP**\n",
    "\n",
    "# payment - What the water costs\n",
    "# payment_type - What the water costs                                        **DROP**\n",
    "\n",
    "# water_quality - The quality of the water\n",
    "# quality_group - The quality of the water                                   **DROP**\n",
    "\n",
    "# quantity - The quantity of water\n",
    "# quantity_group - The quantity of water                                     **DROP**                              \n",
    "\n",
    "# source - The source of the water\n",
    "# source_type - The source of the water                                      **DROP**\n",
    "# source_class - The source of the water                                     **DROP**\n",
    "\n",
    "# waterpoint_type - The kind of waterpoint\n",
    "# waterpoint_type_group - The kind of waterpoint                             **DROP**"
   ]
  },
  {
   "cell_type": "code",
   "execution_count": 15,
   "metadata": {},
   "outputs": [],
   "source": [
    "# funder - Who funded the well\n",
    "# gps_height - Altitude of the well\n",
    "# installer - Organization that installed the well\n",
    "# longitude - GPS coordinate\n",
    "# latitude - GPS coordinate\n",
    "# basin - Geographic water basin\n",
    "# region - Geographic location\n",
    "# district_code - Geographic location (coded)\n",
    "# population - Population around the well\n",
    "# public_meeting - True/False\n",
    "# scheme_management - Who operates the waterpoint\n",
    "# permit - If the waterpoint is permitted\n",
    "# construction_year - Year the waterpoint was constructed\n",
    "# extraction_type - The kind of extraction the waterpoint uses\n",
    "# management - How the waterpoint is managed\n",
    "# payment - What the water costs\n",
    "# water_quality - The quality of the water\n",
    "# quantity - The quantity of water\n",
    "# source - The source of the water\n",
    "# waterpoint_type - The kind of waterpoint"
   ]
  },
  {
   "cell_type": "code",
   "execution_count": 16,
   "metadata": {},
   "outputs": [
    {
     "name": "stdout",
     "output_type": "stream",
     "text": [
      "Government Of Tanzania    9084\n",
      "Danida                    3114\n",
      "Hesawa                    2202\n",
      "Rwssp                     1374\n",
      "World Bank                1349\n",
      "                          ... \n",
      "Othod                        1\n",
      "Pentecosta Seela             1\n",
      "Yasini Selemani              1\n",
      "Su-ki Jang                   1\n",
      "Mwamvita Rajabu              1\n",
      "Name: funder, Length: 1897, dtype: int64\n",
      "----------------------------------------------\n",
      " 0       20438\n",
      "-15         60\n",
      "-16         55\n",
      "-13         55\n",
      "-20         52\n",
      "         ...  \n",
      " 2285        1\n",
      " 2424        1\n",
      " 2552        1\n",
      " 2413        1\n",
      " 2385        1\n",
      "Name: gps_height, Length: 2428, dtype: int64\n",
      "----------------------------------------------\n",
      "DWE                          17402\n",
      "Government                    1825\n",
      "RWE                           1206\n",
      "Commu                         1060\n",
      "DANIDA                        1050\n",
      "                             ...  \n",
      "SUMO                             1\n",
      "COW                              1\n",
      "NYAKILANGANI  CO                 1\n",
      "Rotary club kitchener            1\n",
      "Grobal resource  alliance        1\n",
      "Name: installer, Length: 2145, dtype: int64\n",
      "----------------------------------------------\n",
      "Lake Victoria              10248\n",
      "Pangani                     8940\n",
      "Rufiji                      7976\n",
      "Internal                    7785\n",
      "Lake Tanganyika             6432\n",
      "Wami / Ruvu                 5987\n",
      "Lake Nyasa                  5085\n",
      "Ruvuma / Southern Coast     4493\n",
      "Lake Rukwa                  2454\n",
      "Name: basin, dtype: int64\n",
      "----------------------------------------------\n",
      "Iringa           5294\n",
      "Shinyanga        4982\n",
      "Mbeya            4639\n",
      "Kilimanjaro      4379\n",
      "Morogoro         4006\n",
      "Arusha           3350\n",
      "Kagera           3316\n",
      "Mwanza           3102\n",
      "Kigoma           2816\n",
      "Ruvuma           2640\n",
      "Pwani            2635\n",
      "Tanga            2547\n",
      "Dodoma           2201\n",
      "Singida          2093\n",
      "Mara             1969\n",
      "Tabora           1959\n",
      "Rukwa            1808\n",
      "Mtwara           1730\n",
      "Manyara          1583\n",
      "Lindi            1546\n",
      "Dar es Salaam     805\n",
      "Name: region, dtype: int64\n",
      "----------------------------------------------\n",
      "1     12203\n",
      "2     11173\n",
      "3      9998\n",
      "4      8999\n",
      "5      4356\n",
      "6      4074\n",
      "7      3343\n",
      "8      1043\n",
      "30      995\n",
      "33      874\n",
      "53      745\n",
      "43      505\n",
      "13      391\n",
      "23      293\n",
      "63      195\n",
      "62      109\n",
      "60       63\n",
      "0        23\n",
      "80       12\n",
      "67        6\n",
      "Name: district_code, dtype: int64\n",
      "----------------------------------------------\n",
      "0       21381\n",
      "1        7025\n",
      "200      1940\n",
      "150      1892\n",
      "250      1681\n",
      "        ...  \n",
      "3241        1\n",
      "1960        1\n",
      "1685        1\n",
      "2248        1\n",
      "1439        1\n",
      "Name: population, Length: 1049, dtype: int64\n",
      "----------------------------------------------\n",
      "True     51011\n",
      "False     5055\n",
      "Name: public_meeting, dtype: int64\n",
      "----------------------------------------------\n",
      "VWC                 36793\n",
      "WUG                  5206\n",
      "Water authority      3153\n",
      "WUA                  2883\n",
      "Water Board          2748\n",
      "Parastatal           1680\n",
      "Private operator     1063\n",
      "Company              1061\n",
      "Other                 766\n",
      "SWC                    97\n",
      "Trust                  72\n",
      "None                    1\n",
      "Name: scheme_management, dtype: int64\n",
      "----------------------------------------------\n",
      "True     38852\n",
      "False    17492\n",
      "Name: permit, dtype: int64\n",
      "----------------------------------------------\n",
      "0       20709\n",
      "2010     2645\n",
      "2008     2613\n",
      "2009     2533\n",
      "2000     2091\n",
      "2007     1587\n",
      "2006     1471\n",
      "2003     1286\n",
      "2011     1256\n",
      "2004     1123\n",
      "2012     1084\n",
      "2002     1075\n",
      "1978     1037\n",
      "1995     1014\n",
      "2005     1011\n",
      "1999      979\n",
      "1998      966\n",
      "1990      954\n",
      "1985      945\n",
      "1980      811\n",
      "1996      811\n",
      "1984      779\n",
      "1982      744\n",
      "1994      738\n",
      "1972      708\n",
      "1974      676\n",
      "1997      644\n",
      "1992      640\n",
      "1993      608\n",
      "2001      540\n",
      "1988      521\n",
      "1983      488\n",
      "1975      437\n",
      "1986      434\n",
      "1976      414\n",
      "1970      411\n",
      "1991      324\n",
      "1989      316\n",
      "1987      302\n",
      "1981      238\n",
      "1977      202\n",
      "1979      192\n",
      "1973      184\n",
      "2013      176\n",
      "1971      145\n",
      "1960      102\n",
      "1967       88\n",
      "1963       85\n",
      "1968       77\n",
      "1969       59\n",
      "1964       40\n",
      "1962       30\n",
      "1961       21\n",
      "1965       19\n",
      "1966       17\n",
      "Name: construction_year, dtype: int64\n",
      "----------------------------------------------\n",
      "gravity                      26780\n",
      "nira/tanira                   8154\n",
      "other                         6430\n",
      "submersible                   4764\n",
      "swn 80                        3670\n",
      "mono                          2865\n",
      "india mark ii                 2400\n",
      "afridev                       1770\n",
      "ksb                           1415\n",
      "other - rope pump              451\n",
      "other - swn 81                 229\n",
      "windmill                       117\n",
      "india mark iii                  98\n",
      "cemo                            90\n",
      "other - play pump               85\n",
      "walimi                          48\n",
      "climax                          32\n",
      "other - mkulima/shinyanga        2\n",
      "Name: extraction_type, dtype: int64\n",
      "----------------------------------------------\n",
      "vwc                 40507\n",
      "wug                  6515\n",
      "water board          2933\n",
      "wua                  2535\n",
      "private operator     1971\n",
      "parastatal           1768\n",
      "water authority       904\n",
      "other                 844\n",
      "company               685\n",
      "unknown               561\n",
      "other - school         99\n",
      "trust                  78\n",
      "Name: management, dtype: int64\n",
      "----------------------------------------------\n",
      "never pay                25348\n",
      "pay per bucket            8985\n",
      "pay monthly               8300\n",
      "unknown                   8157\n",
      "pay when scheme fails     3914\n",
      "pay annually              3642\n",
      "other                     1054\n",
      "Name: payment, dtype: int64\n",
      "----------------------------------------------\n",
      "soft                  50818\n",
      "salty                  4856\n",
      "unknown                1876\n",
      "milky                   804\n",
      "coloured                490\n",
      "salty abandoned         339\n",
      "fluoride                200\n",
      "fluoride abandoned       17\n",
      "Name: water_quality, dtype: int64\n",
      "----------------------------------------------\n",
      "enough          33186\n",
      "insufficient    15129\n",
      "dry              6246\n",
      "seasonal         4050\n",
      "unknown           789\n",
      "Name: quantity, dtype: int64\n",
      "----------------------------------------------\n",
      "spring                  17021\n",
      "shallow well            16824\n",
      "machine dbh             11075\n",
      "river                    9612\n",
      "rainwater harvesting     2295\n",
      "hand dtw                  874\n",
      "lake                      765\n",
      "dam                       656\n",
      "other                     212\n",
      "unknown                    66\n",
      "Name: source, dtype: int64\n",
      "----------------------------------------------\n",
      "communal standpipe             28522\n",
      "hand pump                      17488\n",
      "other                           6380\n",
      "communal standpipe multiple     6103\n",
      "improved spring                  784\n",
      "cattle trough                    116\n",
      "dam                                7\n",
      "Name: waterpoint_type, dtype: int64\n",
      "----------------------------------------------\n"
     ]
    }
   ],
   "source": [
    "print(df['funder'].value_counts())\n",
    "print('----------------------------------------------')\n",
    "print(df['gps_height'].value_counts())\n",
    "print('----------------------------------------------')\n",
    "print(df['installer'].value_counts())\n",
    "print('----------------------------------------------')\n",
    "print(df['basin'].value_counts())\n",
    "print('----------------------------------------------')\n",
    "print(df['region'].value_counts())\n",
    "print('----------------------------------------------')\n",
    "print(df['district_code'].value_counts())\n",
    "print('----------------------------------------------')\n",
    "print(df['population'].value_counts())\n",
    "print('----------------------------------------------')\n",
    "print(df['public_meeting'].value_counts())\n",
    "print('----------------------------------------------')\n",
    "print(df['scheme_management'].value_counts())\n",
    "print('----------------------------------------------')\n",
    "print(df['permit'].value_counts())\n",
    "print('----------------------------------------------')\n",
    "print(df['construction_year'].value_counts())\n",
    "print('----------------------------------------------')\n",
    "print(df['extraction_type'].value_counts())\n",
    "print('----------------------------------------------')\n",
    "print(df['management'].value_counts())\n",
    "print('----------------------------------------------')\n",
    "print(df['payment'].value_counts())\n",
    "print('----------------------------------------------')\n",
    "print(df['water_quality'].value_counts())\n",
    "print('----------------------------------------------')\n",
    "print(df['quantity'].value_counts())\n",
    "print('----------------------------------------------')\n",
    "print(df['source'].value_counts())\n",
    "print('----------------------------------------------')\n",
    "print(df['waterpoint_type'].value_counts())\n",
    "print('----------------------------------------------')"
   ]
  },
  {
   "cell_type": "code",
   "execution_count": 17,
   "metadata": {},
   "outputs": [
    {
     "data": {
      "text/plain": [
       "communal standpipe             28522\n",
       "hand pump                      17488\n",
       "other                           6380\n",
       "communal standpipe multiple     6103\n",
       "improved spring                  784\n",
       "cattle trough                    116\n",
       "dam                                7\n",
       "Name: waterpoint_type, dtype: int64"
      ]
     },
     "execution_count": 17,
     "metadata": {},
     "output_type": "execute_result"
    }
   ],
   "source": [
    "df['waterpoint_type'].value_counts()"
   ]
  },
  {
   "cell_type": "code",
   "execution_count": null,
   "metadata": {},
   "outputs": [],
   "source": []
  },
  {
   "cell_type": "code",
   "execution_count": 18,
   "metadata": {},
   "outputs": [],
   "source": [
    "## FEATURE ENGINEERING IDEAS\n",
    "\n",
    "# water_quality by region: Type: Object\n",
    "# water_quality by extraction type: Type: Object\n",
    "# water_quality by waterpoint_type: Type: Object\n",
    "# water_quality by source: Type: Object\n",
    "# water_quality by scheme_management: Type: Object\n",
    "# water_quality by permit: Type: Object"
   ]
  },
  {
   "cell_type": "code",
   "execution_count": 19,
   "metadata": {},
   "outputs": [
    {
     "name": "stdout",
     "output_type": "stream",
     "text": [
      "soft                  50818\n",
      "salty                  4856\n",
      "unknown                1876\n",
      "milky                   804\n",
      "coloured                490\n",
      "salty abandoned         339\n",
      "fluoride                200\n",
      "fluoride abandoned       17\n",
      "Name: water_quality, dtype: int64\n",
      "----------------------------------------------\n",
      "Iringa           5294\n",
      "Shinyanga        4982\n",
      "Mbeya            4639\n",
      "Kilimanjaro      4379\n",
      "Morogoro         4006\n",
      "Arusha           3350\n",
      "Kagera           3316\n",
      "Mwanza           3102\n",
      "Kigoma           2816\n",
      "Ruvuma           2640\n",
      "Pwani            2635\n",
      "Tanga            2547\n",
      "Dodoma           2201\n",
      "Singida          2093\n",
      "Mara             1969\n",
      "Tabora           1959\n",
      "Rukwa            1808\n",
      "Mtwara           1730\n",
      "Manyara          1583\n",
      "Lindi            1546\n",
      "Dar es Salaam     805\n",
      "Name: region, dtype: int64\n",
      "----------------------------------------------\n",
      "gravity                      26780\n",
      "nira/tanira                   8154\n",
      "other                         6430\n",
      "submersible                   4764\n",
      "swn 80                        3670\n",
      "mono                          2865\n",
      "india mark ii                 2400\n",
      "afridev                       1770\n",
      "ksb                           1415\n",
      "other - rope pump              451\n",
      "other - swn 81                 229\n",
      "windmill                       117\n",
      "india mark iii                  98\n",
      "cemo                            90\n",
      "other - play pump               85\n",
      "walimi                          48\n",
      "climax                          32\n",
      "other - mkulima/shinyanga        2\n",
      "Name: extraction_type, dtype: int64\n",
      "----------------------------------------------\n",
      "communal standpipe             28522\n",
      "hand pump                      17488\n",
      "other                           6380\n",
      "communal standpipe multiple     6103\n",
      "improved spring                  784\n",
      "cattle trough                    116\n",
      "dam                                7\n",
      "Name: waterpoint_type, dtype: int64\n",
      "----------------------------------------------\n",
      "spring                  17021\n",
      "shallow well            16824\n",
      "machine dbh             11075\n",
      "river                    9612\n",
      "rainwater harvesting     2295\n",
      "hand dtw                  874\n",
      "lake                      765\n",
      "dam                       656\n",
      "other                     212\n",
      "unknown                    66\n",
      "Name: source, dtype: int64\n",
      "----------------------------------------------\n",
      "VWC                 36793\n",
      "WUG                  5206\n",
      "Water authority      3153\n",
      "WUA                  2883\n",
      "Water Board          2748\n",
      "Parastatal           1680\n",
      "Private operator     1063\n",
      "Company              1061\n",
      "Other                 766\n",
      "SWC                    97\n",
      "Trust                  72\n",
      "None                    1\n",
      "Name: scheme_management, dtype: int64\n",
      "----------------------------------------------\n",
      "True     38852\n",
      "False    17492\n",
      "Name: permit, dtype: int64\n"
     ]
    }
   ],
   "source": [
    "print(df['water_quality'].value_counts())\n",
    "print('----------------------------------------------')\n",
    "print(df['region'].value_counts())\n",
    "print('----------------------------------------------')\n",
    "print(df['extraction_type'].value_counts())\n",
    "print('----------------------------------------------')\n",
    "print(df['waterpoint_type'].value_counts())\n",
    "print('----------------------------------------------')\n",
    "print(df['source'].value_counts())\n",
    "print('----------------------------------------------')\n",
    "print(df['scheme_management'].value_counts())\n",
    "print('----------------------------------------------')\n",
    "print(df['permit'].value_counts())"
   ]
  },
  {
   "cell_type": "code",
   "execution_count": 20,
   "metadata": {},
   "outputs": [
    {
     "name": "stdout",
     "output_type": "stream",
     "text": [
      "8\n",
      "21\n",
      "18\n",
      "7\n",
      "10\n",
      "12\n",
      "2\n"
     ]
    }
   ],
   "source": [
    "print(df['water_quality'].nunique())\n",
    "print(df['region'].nunique())\n",
    "print(df['extraction_type'].nunique())\n",
    "print(df['waterpoint_type'].nunique())\n",
    "print(df['source'].nunique())\n",
    "print(df['scheme_management'].nunique())\n",
    "print(df['permit'].nunique())"
   ]
  },
  {
   "cell_type": "code",
   "execution_count": 21,
   "metadata": {},
   "outputs": [
    {
     "data": {
      "text/plain": [
       "gravity                      26780\n",
       "nira/tanira                   8154\n",
       "other                         6430\n",
       "submersible                   4764\n",
       "swn 80                        3670\n",
       "mono                          2865\n",
       "india mark ii                 2400\n",
       "afridev                       1770\n",
       "ksb                           1415\n",
       "other - rope pump              451\n",
       "other - swn 81                 229\n",
       "windmill                       117\n",
       "india mark iii                  98\n",
       "cemo                            90\n",
       "other - play pump               85\n",
       "walimi                          48\n",
       "climax                          32\n",
       "other - mkulima/shinyanga        2\n",
       "Name: extraction_type, dtype: int64"
      ]
     },
     "execution_count": 21,
     "metadata": {},
     "output_type": "execute_result"
    }
   ],
   "source": [
    "df['extraction_type'].value_counts()"
   ]
  },
  {
   "cell_type": "code",
   "execution_count": 22,
   "metadata": {},
   "outputs": [],
   "source": [
    "# converting exisiting features to ternary values to be able to multiply them together"
   ]
  },
  {
   "cell_type": "code",
   "execution_count": 24,
   "metadata": {},
   "outputs": [],
   "source": [
    "tern_water_quality = {'soft':0,\n",
    "                      'salty':1,\n",
    "                      'unkown': 2,\n",
    "                      'milky': 3,\n",
    "                      'coloured':4,\n",
    "                      'salty abandoned': 5, \n",
    "                      'fluoride': 6,\n",
    "                      'fluoride abandoned': 7\n",
    "}\n",
    "\n",
    "tern_region = {'soft':0,\n",
    "               'salty':1,\n",
    "               'unkown': 2,\n",
    "               'milky': 3,\n",
    "               'coloured':4,\n",
    "               'salty abandoned': 5, \n",
    "               'fluoride': 6,\n",
    "               'fluoride abandoned': 7\n",
    "}\n",
    "\n",
    "tern_region = {'Iringa':0,\n",
    "               'Shinyanga':1,\n",
    "               'Mbeya':2,\n",
    "               'Kilimanjaro':3,\n",
    "               'Morogoro':4,\n",
    "               'Arusha':5,\n",
    "               'Kagera':6,\n",
    "               'Mwanza':7,\n",
    "               'Kigoma':8,\n",
    "               'Ruvuma':9,\n",
    "               'Pwani':10,\n",
    "               'Tanga':11,\n",
    "               'Dodoma':12,\n",
    "               'Singida':13,\n",
    "               'Mara':14,\n",
    "               'Tabora':15,\n",
    "               'Rukwa':16,\n",
    "               'Mtwara':17,\n",
    "               'Manyara':18,\n",
    "               'Lindi':19,\n",
    "               'Dar es Salaam':20                                     \n",
    "}\n",
    "\n",
    "tern_waterpoint_type = {'gravity':0,\n",
    "                        'nira/tanira':1,\n",
    "                        'other':2,\n",
    "                        'submersible':3,\n",
    "                        'swn 80':4,\n",
    "                        'mono':5,\n",
    "                        'india mark ii':6,\n",
    "                        'afridev':7,\n",
    "                        'ksb':8,\n",
    "                        'other - rope pump':9,\n",
    "                        'other - swn 81':10,\n",
    "                        'windmill':11,\n",
    "                        'india mark iii':12,\n",
    "                        'cemo':13,\n",
    "                        'other - play pump':14,\n",
    "                        'walimi':15,\n",
    "                        'climax':16,\n",
    "                        'other - mkulima/shinyanga':17\n",
    "}\n",
    "\n",
    "\n",
    "tern_source = { 'spring':0,\n",
    "                'shallow well':1,\n",
    "                'machine dbh':2,\n",
    "                'river':3,\n",
    "                'rainwater harvesting':4,\n",
    "                'hand dtw':5,\n",
    "                'lake':6,\n",
    "                'dam':7,\n",
    "                'other':8,\n",
    "                'unknown':9\n",
    "}\n",
    "\n",
    "tern_scheme_management =   {'VWC':0,\n",
    "                            'WUG':1,\n",
    "                            'Water authority':2,\n",
    "                            'WUA':3,\n",
    "                            'Water Board':4,\n",
    "                            'Parastatal':5,\n",
    "                            'Private operator':6,\n",
    "                            'Company':7,\n",
    "                            'Other':8,\n",
    "                            'SWC':9,\n",
    "                            'Trust':10,\n",
    "                            'None':11\n",
    "}\n",
    "\n",
    "\n",
    "tern_permit = {'True':0,\n",
    "               'False':1\n",
    "    \n",
    "}"
   ]
  },
  {
   "cell_type": "code",
   "execution_count": 30,
   "metadata": {},
   "outputs": [
    {
     "data": {
      "text/plain": [
       "Index(['amount_tsh', 'date_recorded', 'funder', 'gps_height', 'installer',\n",
       "       'longitude', 'latitude', 'wpt_name', 'num_private', 'basin',\n",
       "       'subvillage', 'region', 'region_code', 'district_code', 'lga', 'ward',\n",
       "       'population', 'public_meeting', 'recorded_by', 'scheme_management',\n",
       "       'scheme_name', 'permit', 'construction_year', 'extraction_type',\n",
       "       'extraction_type_group', 'extraction_type_class', 'management',\n",
       "       'management_group', 'payment', 'payment_type', 'water_quality',\n",
       "       'quality_group', 'quantity', 'quantity_group', 'source', 'source_type',\n",
       "       'source_class', 'waterpoint_type', 'waterpoint_type_group',\n",
       "       'status_group'],\n",
       "      dtype='object')"
      ]
     },
     "execution_count": 30,
     "metadata": {},
     "output_type": "execute_result"
    }
   ],
   "source": [
    "df.water_quality = [tern_water_quality[x] for x in df.water_quality]\n",
    "df.region = [tern_region[x] for x in df.region]\n",
    "\n",
    "\n",
    "tern_water_quality = {'soft':0,\n",
    "                      'salty':1,\n",
    "                      'unkown': 2,\n",
    "                      'milky': 3,\n",
    "                      'coloured':4,\n",
    "                      'salty abandoned': 5, \n",
    "                      'fluoride': 6,\n",
    "                      'fluoride abandoned': 7\n",
    "}\n",
    "\n",
    "tern_region = {'soft':0,\n",
    "               'salty':1,\n",
    "               'unkown': 2,\n",
    "               'milky': 3,\n",
    "               'coloured':4,\n",
    "               'salty abandoned': 5, \n",
    "               'fluoride': 6,\n",
    "               'fluoride abandoned': 7\n",
    "}\n",
    "\n",
    "tern_region = {'Iringa':0,\n",
    "               'Shinyanga':1,\n",
    "               'Mbeya':2,\n",
    "               'Kilimanjaro':3,\n",
    "               'Morogoro':4,\n",
    "               'Arusha':5,\n",
    "               'Kagera':6,\n",
    "               'Mwanza':7,\n",
    "               'Kigoma':8,\n",
    "               'Ruvuma':9,\n",
    "               'Pwani':10,\n",
    "               'Tanga':11,\n",
    "               'Dodoma':12,\n",
    "               'Singida':13,\n",
    "               'Mara':14,\n",
    "               'Tabora':15,\n",
    "               'Rukwa':16,\n",
    "               'Mtwara':17,\n",
    "               'Manyara':18,\n",
    "               'Lindi':19,\n",
    "               'Dar es Salaam':20                                     \n",
    "}\n",
    "\n",
    "tern_waterpoint_type = {'gravity':0,\n",
    "                        'nira/tanira':1,\n",
    "                        'other':2,\n",
    "                        'submersible':3,\n",
    "                        'swn 80':4,\n",
    "                        'mono':5,\n",
    "                        'india mark ii':6,\n",
    "                        'afridev':7,\n",
    "                        'ksb':8,\n",
    "                        'other - rope pump':9,\n",
    "                        'other - swn 81':10,\n",
    "                        'windmill':11,\n",
    "                        'india mark iii':12,\n",
    "                        'cemo':13,\n",
    "                        'other - play pump':14,\n",
    "                        'walimi':15,\n",
    "                        'climax':16,\n",
    "                        'other - mkulima/shinyanga':17\n",
    "}\n",
    "\n",
    "tern_source = { 'spring':0,\n",
    "                'shallow well':1,\n",
    "                'machine dbh':2,\n",
    "                'river':3,\n",
    "                'rainwater harvesting':4,\n",
    "                'hand dtw':5,\n",
    "                'lake':6,\n",
    "                'dam':7,\n",
    "                'other':8,\n",
    "                'unknown':9\n",
    "}\n",
    "\n",
    "tern_scheme_management =   {'VWC':0,\n",
    "                            'WUG':1,\n",
    "                            'Water authority':2,\n",
    "                            'WUA':3,\n",
    "                            'Water Board':4,\n",
    "                            'Parastatal':5,\n",
    "                            'Private operator':6,\n",
    "                            'Company':7,\n",
    "                            'Other':8,\n",
    "                            'SWC':9,\n",
    "                            'Trust':10,\n",
    "                            'None':11\n",
    "}\n",
    "\n",
    "\n",
    "tern_permit = {'True':0,\n",
    "               'False':1\n",
    "    \n",
    "}"
   ]
  },
  {
   "cell_type": "code",
   "execution_count": 31,
   "metadata": {},
   "outputs": [
    {
     "data": {
      "text/plain": [
       "0     5294\n",
       "1     4982\n",
       "2     4639\n",
       "3     4379\n",
       "4     4006\n",
       "5     3350\n",
       "6     3316\n",
       "7     3102\n",
       "8     2816\n",
       "9     2640\n",
       "10    2635\n",
       "11    2547\n",
       "12    2201\n",
       "13    2093\n",
       "14    1969\n",
       "15    1959\n",
       "16    1808\n",
       "17    1730\n",
       "18    1583\n",
       "19    1546\n",
       "20     805\n",
       "Name: region, dtype: int64"
      ]
     },
     "execution_count": 31,
     "metadata": {},
     "output_type": "execute_result"
    }
   ],
   "source": [
    "df['region'].value_counts()"
   ]
  },
  {
   "cell_type": "code",
   "execution_count": null,
   "metadata": {},
   "outputs": [],
   "source": []
  },
  {
   "cell_type": "code",
   "execution_count": null,
   "metadata": {},
   "outputs": [],
   "source": []
  },
  {
   "cell_type": "code",
   "execution_count": null,
   "metadata": {},
   "outputs": [],
   "source": []
  },
  {
   "cell_type": "code",
   "execution_count": null,
   "metadata": {},
   "outputs": [],
   "source": []
  },
  {
   "cell_type": "code",
   "execution_count": null,
   "metadata": {},
   "outputs": [],
   "source": [
    "# Adding the new features to our dataframe\n",
    "\n",
    "df.ternary_water_quality = df.water_quality.map({'True':0,\n",
    "               'False':1})\n",
    "df.head()\n"
   ]
  },
  {
   "cell_type": "code",
   "execution_count": null,
   "metadata": {},
   "outputs": [],
   "source": [
    "df.ternary_water_quality"
   ]
  },
  {
   "cell_type": "code",
   "execution_count": null,
   "metadata": {},
   "outputs": [],
   "source": [
    "### installer column - take top 20, keep those and categorize the rest as others\n"
   ]
  },
  {
   "cell_type": "code",
   "execution_count": null,
   "metadata": {},
   "outputs": [],
   "source": []
  },
  {
   "cell_type": "code",
   "execution_count": null,
   "metadata": {},
   "outputs": [],
   "source": []
  },
  {
   "cell_type": "code",
   "execution_count": null,
   "metadata": {},
   "outputs": [],
   "source": [
    "df['permit'].value_counts()"
   ]
  },
  {
   "cell_type": "code",
   "execution_count": null,
   "metadata": {},
   "outputs": [],
   "source": []
  },
  {
   "cell_type": "code",
   "execution_count": null,
   "metadata": {},
   "outputs": [],
   "source": []
  },
  {
   "cell_type": "code",
   "execution_count": null,
   "metadata": {},
   "outputs": [],
   "source": []
  },
  {
   "cell_type": "code",
   "execution_count": null,
   "metadata": {},
   "outputs": [],
   "source": []
  },
  {
   "cell_type": "code",
   "execution_count": null,
   "metadata": {},
   "outputs": [],
   "source": []
  },
  {
   "cell_type": "code",
   "execution_count": null,
   "metadata": {},
   "outputs": [],
   "source": [
    "# FEATURE ENGINEERING IDEAS\n",
    "\n",
    "water_quality by region: Type: Object\n",
    "water_quality by extraction type: Type: Object\n",
    "water_quality by waterpoint_type: Type: Object\n",
    "water_quality by source: Type: Object\n",
    "water_quality by scheme_management: Type: Object\n",
    "water_quality by permit: Type: Object"
   ]
  },
  {
   "cell_type": "code",
   "execution_count": null,
   "metadata": {},
   "outputs": [],
   "source": []
  },
  {
   "cell_type": "code",
   "execution_count": null,
   "metadata": {},
   "outputs": [],
   "source": []
  },
  {
   "cell_type": "code",
   "execution_count": null,
   "metadata": {},
   "outputs": [],
   "source": []
  },
  {
   "cell_type": "code",
   "execution_count": null,
   "metadata": {},
   "outputs": [],
   "source": [
    "df.info()"
   ]
  },
  {
   "cell_type": "code",
   "execution_count": null,
   "metadata": {},
   "outputs": [],
   "source": [
    "## ADDING COLUMNS FOR OUR NEW FEATURES\n",
    "df['water_quality_by_region'] = df.water_quality * df.region\n",
    "df['water_quality_by_extraction_type'] = df.water_quality * df.extraction_type\n",
    "df['water_quality_by_waterpoint_type'] = df.water_quality * df.waterpoint_type\n",
    "df['water_quality_by_source'] = df.water_quality * df.source\n",
    "df['water_quality_by_scheme_management'] = df.water_quality * df.scheme_management\n",
    "df['water_quality_by_permit'] = df.water_quality * df.permit"
   ]
  },
  {
   "cell_type": "code",
   "execution_count": null,
   "metadata": {},
   "outputs": [],
   "source": [
    "df['water_quality'].nunique()"
   ]
  },
  {
   "cell_type": "code",
   "execution_count": null,
   "metadata": {},
   "outputs": [],
   "source": [
    "df['region'].nunique()"
   ]
  },
  {
   "cell_type": "code",
   "execution_count": null,
   "metadata": {},
   "outputs": [],
   "source": []
  },
  {
   "cell_type": "code",
   "execution_count": null,
   "metadata": {},
   "outputs": [],
   "source": [
    "print(df['extraction_type'].value_counts()) # The kind of extraction the waterpoint uses **KEEP**\n",
    "print('----------------------------------------------')\n",
    "print(df['extraction_type_group'].value_counts()) # The kind of extraction the waterpoint uses **DROP**\n",
    "print('----------------------------------------------')\n",
    "print(df['extraction_type_class'].value_counts()) # The kind of extraction the waterpoint uses **DROP**\n",
    "print('----------------------------------------------')"
   ]
  },
  {
   "cell_type": "code",
   "execution_count": null,
   "metadata": {},
   "outputs": [],
   "source": [
    "print(df['waterpoint_type'].value_counts()) # The kind of extraction the waterpoint uses **KEEP**\n",
    "print('----------------------------------------------')\n",
    "print(df['waterpoint_type_group'].value_counts()) # The kind of extraction the waterpoint uses **DROP**\n",
    "print('----------------------------------------------')"
   ]
  },
  {
   "cell_type": "code",
   "execution_count": null,
   "metadata": {},
   "outputs": [],
   "source": [
    "print(df['quantity'].value_counts()) # The kind of extraction the waterpoint uses **KEEP**\n",
    "print('----------------------------------------------')\n",
    "print(df['quantity_group'].value_counts()) # The kind of extraction the waterpoint uses **DROP**\n",
    "print('----------------------------------------------')"
   ]
  },
  {
   "cell_type": "code",
   "execution_count": null,
   "metadata": {},
   "outputs": [],
   "source": [
    "print(df['payment'].value_counts()) # The kind of extraction the waterpoint uses **KEEP**\n",
    "print('----------------------------------------------')\n",
    "print(df['payment_type'].value_counts()) # The kind of extraction the waterpoint uses **DROP**\n",
    "print('----------------------------------------------')"
   ]
  },
  {
   "cell_type": "code",
   "execution_count": null,
   "metadata": {},
   "outputs": [],
   "source": [
    "print(df['source'].value_counts()) # The kind of extraction the waterpoint uses **KEEP**\n",
    "print('----------------------------------------------')\n",
    "print(df['source_type'].value_counts()) # The kind of extraction the waterpoint uses **DROP**\n",
    "print('----------------------------------------------')\n",
    "print(df['source_class'].value_counts()) # The kind of extraction the waterpoint uses **DROP**\n",
    "print('----------------------------------------------')"
   ]
  },
  {
   "cell_type": "code",
   "execution_count": null,
   "metadata": {
    "scrolled": true
   },
   "outputs": [],
   "source": [
    "df.isna().sum()"
   ]
  },
  {
   "cell_type": "code",
   "execution_count": null,
   "metadata": {},
   "outputs": [],
   "source": []
  },
  {
   "cell_type": "code",
   "execution_count": null,
   "metadata": {},
   "outputs": [],
   "source": []
  },
  {
   "cell_type": "code",
   "execution_count": null,
   "metadata": {},
   "outputs": [],
   "source": []
  },
  {
   "cell_type": "code",
   "execution_count": null,
   "metadata": {},
   "outputs": [],
   "source": [
    "df.drop(columns=['management_group','scheme_management','quantity_group','source_class','source_type','quality_group',\n",
    "                'payment_type','extraction_type_class','extraction_type', 'waterpoint_type_group'],inplace=True )"
   ]
  },
  {
   "cell_type": "code",
   "execution_count": null,
   "metadata": {},
   "outputs": [],
   "source": [
    "# df = df.drop(['scheme_name', 'date_recorded', 'wpt_name', 'subvillage', 'lga', 'ward', 'recorded_by', \n",
    "#               'quantity_group', 'payment_type', 'funder'], axis = 1)\n",
    "# df = df.fillna('missing', axis = 1)"
   ]
  },
  {
   "cell_type": "markdown",
   "metadata": {},
   "source": [
    "With so many unique values for some features, onehotencoding creates more than 60,000 columns (out of a dataframe with 59,400 entries), making our models computationally prohibitive.  We use common sense and topical knowledge to eliminate some features and drop those columns from our dataframe.  Here are the dropped columns and our reasoning for excluding them: <br><br>\n",
    "`date recorded`:  the age of the well is captured by the `construction_year` column <br>\n",
    "`scheme_name`:  over 28,000 missing values <br>\n",
    "`wpt_name`:  37,400 unique values <br>\n",
    "`subvillage`: 19,288 unique values and location is captured elsewhere by `latitude` and `longitude` <br>\n",
    "`lga`:  125 unique values and location is captured elsewhere by `latitude` and `longitude` <br>\n",
    "`ward`:  2092 unique values and location is captured elsewhere by `latitude` and `longitude` <br>\n",
    "`recorded_by`:  all values are the same <br>\n",
    "`quantity_group`:  same as `quantity` <br>\n",
    "`payment_type`:  same as `payment` <br>\n",
    "`funder`: 1898 unique values; source of funding less relevant to pump functionality which should be better captured by `installer` <br>\n",
    "\n",
    "We replaced NaN values with `missing` to keep the rows in our dataframe. We will onehotencode the data frame later."
   ]
  },
  {
   "cell_type": "code",
   "execution_count": null,
   "metadata": {},
   "outputs": [],
   "source": [
    "df.info()"
   ]
  },
  {
   "cell_type": "markdown",
   "metadata": {},
   "source": [
    "We are creating a hold out data set which we will test our final model on."
   ]
  },
  {
   "cell_type": "code",
   "execution_count": null,
   "metadata": {
    "scrolled": true
   },
   "outputs": [],
   "source": [
    "df, holdout = train_test_split(df, test_size = .1)"
   ]
  },
  {
   "cell_type": "code",
   "execution_count": null,
   "metadata": {},
   "outputs": [],
   "source": [
    "X = df.drop('status_group', axis=1)\n",
    "y = df['status_group']\n",
    "X_train, X_test, y_train, y_test = train_test_split(X, y, stratify=y, random_state=42)"
   ]
  },
  {
   "cell_type": "code",
   "execution_count": null,
   "metadata": {},
   "outputs": [],
   "source": [
    "X_train.head()"
   ]
  },
  {
   "cell_type": "code",
   "execution_count": null,
   "metadata": {},
   "outputs": [],
   "source": [
    "X_train.to_csv('data/X_train.csv')\n",
    "X_test.to_csv('data/X_test.csv')\n",
    "y_train.to_csv('data/y_train.csv')\n",
    "y_test.to_csv('data/y_test.csv')\n",
    "\n",
    "df.to_csv('data/holdout_data.csv')"
   ]
  },
  {
   "cell_type": "markdown",
   "metadata": {},
   "source": [
    "# Inferential Plots"
   ]
  },
  {
   "cell_type": "code",
   "execution_count": null,
   "metadata": {},
   "outputs": [],
   "source": [
    "cols = df.select_dtypes('int64', 'float64').columns\n",
    "fig, axes = plt.subplots(ncols=3, nrows=2, figsize=(12, 6))\n",
    "fig.set_tight_layout(True)\n",
    "for index, col in enumerate(cols): \n",
    "    ax = axes[index//3][index%3]\n",
    "    ax.scatter(df[col], df.status_group, alpha=0.2)\n",
    "    ax.set_xlabel(col)\n",
    "    ax.set_ylabel(\"Pump Status\")"
   ]
  },
  {
   "cell_type": "code",
   "execution_count": null,
   "metadata": {},
   "outputs": [],
   "source": [
    "fig, ax = plt.subplots()\n",
    "ax.scatter(df.amount_tsh, df.status_group)\n",
    "ax.set_xlabel('Total Static Head')\n",
    "ax.set_title('Total Static Head by Pump Status');"
   ]
  },
  {
   "cell_type": "code",
   "execution_count": null,
   "metadata": {},
   "outputs": [],
   "source": [
    "fig, ax = plt.subplots()\n",
    "ax.scatter(df.construction_year.loc[df.construction_year != 0], \n",
    "           df.status_group.loc[df.construction_year !=0])\n",
    "ax.set_xlabel('Construction Year')\n",
    "ax.set_title('Construction Year by Pump Status');"
   ]
  },
  {
   "cell_type": "code",
   "execution_count": null,
   "metadata": {
    "scrolled": true
   },
   "outputs": [],
   "source": [
    "fig, ax = plt.subplots()\n",
    "ax.scatter(df.population, df.status_group)\n",
    "ax.set_xlabel('Population Around the Well')\n",
    "ax.set_title('Population by Pump Status');"
   ]
  },
  {
   "cell_type": "markdown",
   "metadata": {},
   "source": [
    "# Baseline Dummy Model"
   ]
  },
  {
   "cell_type": "code",
   "execution_count": null,
   "metadata": {},
   "outputs": [],
   "source": [
    "dummy_model = DummyClassifier(strategy='most_frequent', random_state=42)\n",
    "dummy_model.fit(X_train, y_train)"
   ]
  },
  {
   "cell_type": "code",
   "execution_count": null,
   "metadata": {},
   "outputs": [],
   "source": [
    "print('Accuracy Score Train:', dummy_model.score(X_train, y_train))\n",
    "print('Accuracy Score Test:', dummy_model.score(X_test, y_test))"
   ]
  },
  {
   "cell_type": "code",
   "execution_count": null,
   "metadata": {},
   "outputs": [],
   "source": [
    "log_loss_dummy = cross_val_score(dummy_model, X_train, y_train, scoring='neg_log_loss')\n",
    "log_loss_dummy = -log_loss_dummy.mean()\n",
    "print('Log Loss:', log_loss_dummy)"
   ]
  },
  {
   "cell_type": "markdown",
   "metadata": {},
   "source": [
    "# Model Building"
   ]
  },
  {
   "cell_type": "code",
   "execution_count": null,
   "metadata": {},
   "outputs": [],
   "source": [
    "df.status_group.value_counts().plot(kind='bar', color='red')\n",
    "plt.title('Class Distribution', fontsize = 20)\n",
    "plt.tight_layout()"
   ]
  },
  {
   "cell_type": "code",
   "execution_count": null,
   "metadata": {},
   "outputs": [],
   "source": [
    "df.columns"
   ]
  },
  {
   "cell_type": "code",
   "execution_count": null,
   "metadata": {},
   "outputs": [],
   "source": [
    "viz_df = df.copy(deep=True)"
   ]
  },
  {
   "cell_type": "code",
   "execution_count": null,
   "metadata": {},
   "outputs": [],
   "source": [
    "viz_df = viz_df.drop(viz_df[viz_df['longitude']==0].index)"
   ]
  },
  {
   "cell_type": "code",
   "execution_count": null,
   "metadata": {},
   "outputs": [],
   "source": [
    "viz_df[viz_df['longitude']==0]"
   ]
  },
  {
   "cell_type": "code",
   "execution_count": null,
   "metadata": {},
   "outputs": [],
   "source": []
  },
  {
   "cell_type": "code",
   "execution_count": null,
   "metadata": {},
   "outputs": [],
   "source": []
  },
  {
   "cell_type": "code",
   "execution_count": null,
   "metadata": {},
   "outputs": [],
   "source": [
    "# color palette as dictionary\n",
    "\n",
    "palette = {\"functional\":\"xkcd:soft green\",\n",
    "\"non functional\":\"xkcd:light red\",\n",
    "\"functional needs repair\":\"xkcd:cerulean\"\n",
    "}\n",
    "\n",
    "# https://xkcd.com/color/rgb/ - color options"
   ]
  },
  {
   "cell_type": "code",
   "execution_count": null,
   "metadata": {},
   "outputs": [],
   "source": [
    "fig, ax = plt.subplots(figsize=(10,6))\n",
    "sns.scatterplot(x='longitude', y='latitude', hue='status_group', palette=palette, sizes=(1, 8), data=viz_df, ax=ax)\n",
    "plt.xlabel(\"Longitude\", fontweight='bold', size=12)\n",
    "plt.ylabel(\"Latitude\", fontweight='bold', size=12)\n",
    "plt.legend(bbox_to_anchor=(1.0, 1), borderaxespad=0)\n",
    "plt.title('Tanzania Well Status by Coordinates',fontweight='bold', size=16) # change this title\n",
    "plt.tight_layout()\n",
    "# fig.savefig('./images/map.png')\n",
    "\n",
    "# palette=\"ch: r=-.2, d=.3_r\"\n"
   ]
  },
  {
   "cell_type": "code",
   "execution_count": null,
   "metadata": {},
   "outputs": [],
   "source": [
    "viz_df.info()"
   ]
  },
  {
   "cell_type": "code",
   "execution_count": null,
   "metadata": {},
   "outputs": [],
   "source": [
    "df['latitude'].value_counts()"
   ]
  },
  {
   "cell_type": "code",
   "execution_count": null,
   "metadata": {},
   "outputs": [],
   "source": [
    "from sklearn.preprocessing import OneHotEncoder, StandardScaler, RobustScaler\n",
    "from sklearn.impute import MissingIndicator, SimpleImputer\n",
    "from sklearn.dummy import DummyClassifier\n",
    "from sklearn.linear_model import LogisticRegression\n",
    "from sklearn.model_selection import train_test_split, cross_val_score, cross_validate, GridSearchCV\n",
    "from sklearn.feature_selection import SelectFromModel\n",
    "from xgboost import XGBClassifier\n",
    "from sklearn.naive_bayes import MultinomialNB\n",
    "from sklearn.ensemble import RandomForestClassifier, BaggingClassifier\n",
    "from sklearn.tree import DecisionTreeClassifier\n",
    "from sklearn.svm import SVC\n",
    "from sklearn.feature_selection import RFE\n",
    "from imblearn.pipeline import make_pipeline\n",
    "from imblearn.over_sampling import SMOTE\n",
    "# import category_encoders as ce\n",
    "from sklearn.compose import ColumnTransformer\n",
    "\n",
    "# plot_confusion_matrix is a handy visual tool, added in the latest version of scikit-learn\n",
    "# if you are running an older version, comment out this line and just use confusion_matrix\n",
    "\n",
    "from sklearn.metrics import plot_confusion_matrix, f1_score\n",
    "from sklearn.metrics import confusion_matrix\n",
    "from sklearn.metrics import plot_roc_curve\n",
    "from sklearn.metrics import make_scorer\n",
    "from sklearn.metrics import classification_report"
   ]
  },
  {
   "cell_type": "code",
   "execution_count": null,
   "metadata": {},
   "outputs": [],
   "source": [
    "df.columns"
   ]
  },
  {
   "cell_type": "code",
   "execution_count": null,
   "metadata": {},
   "outputs": [],
   "source": [
    "# identifying features and target\n",
    "features = df.drop('status_group', axis=1)\n",
    "target = df.status_group\n",
    "\n",
    "# dummy the features\n",
    "dummy_features = pd.get_dummies(features, drop_first=True)\n",
    "dummy_features.head()"
   ]
  },
  {
   "cell_type": "code",
   "execution_count": null,
   "metadata": {},
   "outputs": [],
   "source": [
    "# Create Pipeline\n",
    "\n",
    "from sklearn.pipeline import Pipeline\n",
    "def machine_learn(model):\n",
    "    model_pipeline = Pipeline([('ss', StandardScaler()), ('model', model)])\n",
    "    fitted_model = model_pipeline.fit(X_train, y_train)\n",
    "    print(\"Accuracy Score:\", fitted_model.score(X_test, y_test))\n",
    "    preds = fitted_model.predict(X_test)\n",
    "    print(classification_report(y_test, preds))\n",
    "    print(sns.heatmap(confusion_matrix(y_test, preds)));"
   ]
  },
  {
   "cell_type": "code",
   "execution_count": null,
   "metadata": {},
   "outputs": [],
   "source": [
    "# Split the data into training and test sets\n",
    "X_train, X_test, y_train, y_test = train_test_split(dummy_features, target, test_size=0.2, random_state=123)\n",
    "\n",
    "# SMOTE\n",
    "X_resampled, y_resampled = SMOTE(sampling_strategy='minority',random_state = 123).fit_sample(X_train, y_train)"
   ]
  },
  {
   "cell_type": "code",
   "execution_count": null,
   "metadata": {},
   "outputs": [],
   "source": [
    "# # Build model\n",
    "# tree = DecisionTreeClassifier(random_state=123)\n",
    "\n",
    "# machine_learn(tree)"
   ]
  },
  {
   "cell_type": "code",
   "execution_count": null,
   "metadata": {},
   "outputs": [],
   "source": [
    "# # Build model\n",
    "# forest = RandomForestClassifier(random_state=123, verbose=1)\n",
    "\n",
    "# machine_learn(forest)"
   ]
  },
  {
   "cell_type": "code",
   "execution_count": null,
   "metadata": {},
   "outputs": [],
   "source": [
    "# parameters_forest = {\n",
    "#     'max_depth': [15, 20, 25] ,\n",
    "#     'n_estimators': [150, 200, 250, 300],\n",
    "#     'criterion': ['gini', 'entropy']}"
   ]
  },
  {
   "cell_type": "code",
   "execution_count": null,
   "metadata": {},
   "outputs": [],
   "source": [
    "# grid_search_forest = GridSearchCV(\n",
    "#     estimator=forest,\n",
    "#     param_grid=parameters_forest,\n",
    "#     n_jobs = -1,\n",
    "#     cv = 5,\n",
    "#     verbose=True\n",
    "# )"
   ]
  },
  {
   "cell_type": "code",
   "execution_count": null,
   "metadata": {},
   "outputs": [],
   "source": [
    "# grid_search_forest.fit(X_train, y_train)"
   ]
  },
  {
   "cell_type": "code",
   "execution_count": null,
   "metadata": {},
   "outputs": [],
   "source": [
    "# xgb = XGBClassifier(learning_rate=0.05, max_depth=35, random_state=123, objective = 'multi:softprob', num_class=3, verbosity=1)\n",
    "# machine_learn(xgb)"
   ]
  },
  {
   "cell_type": "code",
   "execution_count": null,
   "metadata": {},
   "outputs": [],
   "source": [
    "df['decade'] = df['construction_year']"
   ]
  },
  {
   "cell_type": "code",
   "execution_count": null,
   "metadata": {},
   "outputs": [],
   "source": [
    "df['decade'].replace(to_replace = (1960, 1961, 1962, 1963, 1964, 1965,1966,1967,1968,1969, 1970,1971,1972,1973,1974,1975,1976,1977,1978,1979,1980,1981,1982,1983,1984,1985,1986,1987,1988,1989, 1990,1991,1992,1993,1994,1995,1996,1997,1998,1999 ), value = '20th Century')\n",
    "\n",
    "df['decade'].replace(to_replace = (2000,2001,2002,2003,2004,2005,2006,2007,2008,2009, 2010,2011,2012,2013), value = '21st Century')\n",
    "\n"
   ]
  },
  {
   "cell_type": "code",
   "execution_count": null,
   "metadata": {},
   "outputs": [],
   "source": []
  }
 ],
 "metadata": {
  "kernelspec": {
   "display_name": "Python (learn-env)",
   "language": "python",
   "name": "learn-env"
  },
  "language_info": {
   "codemirror_mode": {
    "name": "ipython",
    "version": 3
   },
   "file_extension": ".py",
   "mimetype": "text/x-python",
   "name": "python",
   "nbconvert_exporter": "python",
   "pygments_lexer": "ipython3",
   "version": "3.8.5"
  }
 },
 "nbformat": 4,
 "nbformat_minor": 4
}
