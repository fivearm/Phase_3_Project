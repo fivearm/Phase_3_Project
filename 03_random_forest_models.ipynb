{
 "cells": [
  {
   "cell_type": "markdown",
   "metadata": {},
   "source": [
    "# random forest models"
   ]
  },
  {
   "cell_type": "code",
   "execution_count": 231,
   "metadata": {},
   "outputs": [],
   "source": [
    "# imports\n",
    "import pandas as pd\n",
    "import numpy as np\n",
    "from sklearn.ensemble import RandomForestClassifier, GradientBoostingClassifier\n",
    "from sklearn.model_selection import cross_val_score, RandomizedSearchCV, GridSearchCV\n",
    "from sklearn.pipeline import Pipeline\n",
    "from sklearn.preprocessing import StandardScaler, OneHotEncoder\n",
    "from sklearn.compose import ColumnTransformer\n",
    "from imblearn.over_sampling import SMOTE\n",
    "from imblearn.pipeline import Pipeline as imbPipeline\n",
    "from sklearn.metrics import confusion_matrix, plot_confusion_matrix, classification_report\n",
    "import matplotlib.pyplot as plt"
   ]
  },
  {
   "cell_type": "code",
   "execution_count": 2,
   "metadata": {},
   "outputs": [],
   "source": [
    "# Import the presplit data\n",
    "X_train = pd.read_csv('data/X_train.csv', index_col='id')\n",
    "X_test = pd.read_csv('data/X_test.csv', index_col='id')\n",
    "y_train = pd.read_csv('data/y_train.csv', index_col='id')\n",
    "y_test = pd.read_csv('data/y_test.csv', index_col='id')"
   ]
  },
  {
   "cell_type": "code",
   "execution_count": 3,
   "metadata": {},
   "outputs": [
    {
     "name": "stdout",
     "output_type": "stream",
     "text": [
      "<class 'pandas.core.frame.DataFrame'>\n",
      "Int64Index: 40095 entries, 58975 to 23269\n",
      "Data columns (total 21 columns):\n",
      " #   Column             Non-Null Count  Dtype  \n",
      "---  ------             --------------  -----  \n",
      " 0   gps_height         40095 non-null  int64  \n",
      " 1   installer          40095 non-null  object \n",
      " 2   longitude          40095 non-null  float64\n",
      " 3   latitude           40095 non-null  float64\n",
      " 4   num_private        40095 non-null  int64  \n",
      " 5   basin              40095 non-null  object \n",
      " 6   region             40095 non-null  object \n",
      " 7   region_code        40095 non-null  int64  \n",
      " 8   district_code      40095 non-null  int64  \n",
      " 9   population         40095 non-null  int64  \n",
      " 10  public_meeting     40095 non-null  object \n",
      " 11  scheme_management  40095 non-null  object \n",
      " 12  permit             40095 non-null  object \n",
      " 13  construction_year  40095 non-null  int64  \n",
      " 14  extraction_type    40095 non-null  object \n",
      " 15  management         40095 non-null  object \n",
      " 16  payment            40095 non-null  object \n",
      " 17  water_quality      40095 non-null  object \n",
      " 18  quantity           40095 non-null  object \n",
      " 19  source             40095 non-null  object \n",
      " 20  waterpoint_type    40095 non-null  object \n",
      "dtypes: float64(2), int64(6), object(13)\n",
      "memory usage: 6.7+ MB\n"
     ]
    }
   ],
   "source": [
    "X_train.info()"
   ]
  },
  {
   "cell_type": "code",
   "execution_count": 4,
   "metadata": {},
   "outputs": [],
   "source": [
    "# This function will taken in a given model, X_test, y_test and return the accuracy for each type of well status\n",
    "def model_predictions(model, X=X_test, y=y_test):\n",
    "    y_pred = model.predict(X)\n",
    "    cm = confusion_matrix(y_test, y_pred)\n",
    "    func = cm[0][0] / (cm[0][0] + cm[0][1] + cm[0][2])\n",
    "    func_nr = cm[1][1] / (cm[1][0] + cm[1][1] + cm[1][2])\n",
    "    non_func = cm[2][2] / (cm[2][0] + cm[2][1] + cm[2][2])\n",
    "    print(f'The model correctly predicts {round(func*100, 2)}% of the funtional wells.')\n",
    "    print(f'The model correctly predicts {round(func_nr*100, 2)}% of the funtional-needs-repair wells.')\n",
    "    print(f'The model correctly predicts {round(non_func*100, 2)}% of the non-functional wells.')"
   ]
  },
  {
   "cell_type": "code",
   "execution_count": 6,
   "metadata": {},
   "outputs": [],
   "source": [
    "y_train = np.array(y_train)\n",
    "y_train = y_train.reshape(40095, )"
   ]
  },
  {
   "cell_type": "code",
   "execution_count": 7,
   "metadata": {},
   "outputs": [],
   "source": [
    "y_test = np.array(y_test)\n",
    "y_test = y_test.reshape(13365, )"
   ]
  },
  {
   "cell_type": "markdown",
   "metadata": {},
   "source": [
    "# first model"
   ]
  },
  {
   "cell_type": "code",
   "execution_count": 8,
   "metadata": {},
   "outputs": [],
   "source": [
    "rfc = RandomForestClassifier()\n",
    "ss = StandardScaler()\n",
    "\n",
    "X_train_nums = X_train.select_dtypes(exclude=object)\n",
    "X_test_nums = X_test.select_dtypes(exclude=object)\n",
    "\n",
    "X_train_nums_scaled = ss.fit_transform(X_train_nums)\n",
    "X_test_nums_scaled = ss.transform(X_test_nums)"
   ]
  },
  {
   "cell_type": "code",
   "execution_count": 9,
   "metadata": {},
   "outputs": [
    {
     "name": "stdout",
     "output_type": "stream",
     "text": [
      "Wall time: 0 ns\n"
     ]
    }
   ],
   "source": [
    "%time\n",
    "rfc.fit(X_train_nums_scaled, y_train)\n",
    "\n",
    "preds = rfc.predict(X_test_nums_scaled)"
   ]
  },
  {
   "cell_type": "code",
   "execution_count": 10,
   "metadata": {
    "scrolled": true
   },
   "outputs": [
    {
     "name": "stdout",
     "output_type": "stream",
     "text": [
      "The Mode's accuracy on the training data is 0.9858\n",
      "The Model's accuracy on the test data is 0.7074\n"
     ]
    }
   ],
   "source": [
    "train_scores = rfc.score(X_train_nums_scaled, y_train)\n",
    "test_scores = rfc.score(X_test_nums_scaled, y_test)\n",
    "print('The Mode\\'s accuracy on the training data is', round(train_scores, 4))\n",
    "print('The Model\\'s accuracy on the test data is', round(test_scores, 4))"
   ]
  },
  {
   "cell_type": "code",
   "execution_count": 11,
   "metadata": {},
   "outputs": [
    {
     "name": "stdout",
     "output_type": "stream",
     "text": [
      "Log Loss: 1.0631506182793364\n"
     ]
    }
   ],
   "source": [
    "log_loss_rfc = cross_val_score(rfc, X_train_nums_scaled, y_train, scoring='neg_log_loss', n_jobs = -2, cv = 2)\n",
    "log_loss_rfc = -log_loss_rfc.mean()\n",
    "print('Log Loss:', log_loss_rfc)"
   ]
  },
  {
   "cell_type": "code",
   "execution_count": 82,
   "metadata": {},
   "outputs": [
    {
     "name": "stdout",
     "output_type": "stream",
     "text": [
      "Log Loss: 1.1205784311647673\n"
     ]
    }
   ],
   "source": [
    "log_loss_rfc = cross_val_score(rfc, X_test_nums_scaled, y_test, scoring='neg_log_loss', n_jobs = -2, cv = 2)\n",
    "log_loss_rfc = -log_loss_rfc.mean()\n",
    "print('Log Loss:', log_loss_rfc)"
   ]
  },
  {
   "cell_type": "code",
   "execution_count": 12,
   "metadata": {},
   "outputs": [
    {
     "data": {
      "image/png": "[encoded data removed]",
      "text/plain": [
       "<Figure size 432x288 with 2 Axes>"
      ]
     },
     "metadata": {
      "needs_background": "light"
     },
     "output_type": "display_data"
    }
   ],
   "source": [
    "plot_confusion_matrix(rfc, X_test_nums_scaled, y_test, xticks_rotation='vertical');"
   ]
  },
  {
   "cell_type": "code",
   "execution_count": 13,
   "metadata": {
    "scrolled": true
   },
   "outputs": [
    {
     "name": "stdout",
     "output_type": "stream",
     "text": [
      "The model correctly predicts 80.53% of the funtional wells.\n",
      "The model correctly predicts 26.72% of the funtional-needs-repair wells.\n",
      "The model correctly predicts 65.24% of the non-functional wells.\n"
     ]
    }
   ],
   "source": [
    "model_predictions(rfc, X_test_nums_scaled, y_test)"
   ]
  },
  {
   "cell_type": "markdown",
   "metadata": {},
   "source": [
    "*  this inital model that only contains numerical data is severly overfitting the data. the next model will need to tune some hyperparameters to reduce the gap between the training and testing data. our log loss has been decreased from the dummy classifer, but there is still room for improvement. the total score of non-functional and functional needs repairs is only 91.96%, which is very low."
   ]
  },
  {
   "cell_type": "markdown",
   "metadata": {},
   "source": [
    "### tuning some hyperparameters to see if the model can be improved\n",
    "\n",
    "*  no categorial colums have yet been introduced."
   ]
  },
  {
   "cell_type": "code",
   "execution_count": 73,
   "metadata": {},
   "outputs": [],
   "source": [
    "pipline_1 = imbPipeline([('ss', StandardScaler()), ('smote', SMOTE(random_state=42)), ('rfc', RandomForestClassifier())])"
   ]
  },
  {
   "cell_type": "code",
   "execution_count": 74,
   "metadata": {
    "collapsed": true,
    "jupyter": {
     "outputs_hidden": true
    }
   },
   "outputs": [
    {
     "data": {
      "text/plain": [
       "{'memory': None,\n",
       " 'steps': [('ss', StandardScaler()),\n",
       "  ('smote', SMOTE(random_state=42)),\n",
       "  ('rfc', RandomForestClassifier())],\n",
       " 'verbose': False,\n",
       " 'ss': StandardScaler(),\n",
       " 'smote': SMOTE(random_state=42),\n",
       " 'rfc': RandomForestClassifier(),\n",
       " 'ss__copy': True,\n",
       " 'ss__with_mean': True,\n",
       " 'ss__with_std': True,\n",
       " 'smote__k_neighbors': 5,\n",
       " 'smote__n_jobs': None,\n",
       " 'smote__random_state': 42,\n",
       " 'smote__sampling_strategy': 'auto',\n",
       " 'rfc__bootstrap': True,\n",
       " 'rfc__ccp_alpha': 0.0,\n",
       " 'rfc__class_weight': None,\n",
       " 'rfc__criterion': 'gini',\n",
       " 'rfc__max_depth': None,\n",
       " 'rfc__max_features': 'auto',\n",
       " 'rfc__max_leaf_nodes': None,\n",
       " 'rfc__max_samples': None,\n",
       " 'rfc__min_impurity_decrease': 0.0,\n",
       " 'rfc__min_impurity_split': None,\n",
       " 'rfc__min_samples_leaf': 1,\n",
       " 'rfc__min_samples_split': 2,\n",
       " 'rfc__min_weight_fraction_leaf': 0.0,\n",
       " 'rfc__n_estimators': 100,\n",
       " 'rfc__n_jobs': None,\n",
       " 'rfc__oob_score': False,\n",
       " 'rfc__random_state': None,\n",
       " 'rfc__verbose': 0,\n",
       " 'rfc__warm_start': False}"
      ]
     },
     "execution_count": 74,
     "metadata": {},
     "output_type": "execute_result"
    }
   ],
   "source": [
    "pipline_1.get_params()"
   ]
  },
  {
   "cell_type": "code",
   "execution_count": 75,
   "metadata": {},
   "outputs": [],
   "source": [
    "params_1 = {\n",
    "    'rfc__max_depth': list(range(5,50,5)),\n",
    "    'rfc__min_samples_leaf': list(range(5,50,5)),\n",
    "    'rfc__n_estimators': list(range(25,500,25)),\n",
    "}"
   ]
  },
  {
   "cell_type": "code",
   "execution_count": 76,
   "metadata": {
    "collapsed": true,
    "jupyter": {
     "outputs_hidden": true
    }
   },
   "outputs": [
    {
     "name": "stdout",
     "output_type": "stream",
     "text": [
      "Fitting 5 folds for each of 10 candidates, totalling 50 fits\n"
     ]
    },
    {
     "name": "stderr",
     "output_type": "stream",
     "text": [
      "[Parallel(n_jobs=-2)]: Using backend LokyBackend with 7 concurrent workers.\n",
      "[Parallel(n_jobs=-2)]: Done  18 tasks      | elapsed:  1.4min\n",
      "[Parallel(n_jobs=-2)]: Done  50 out of  50 | elapsed:  3.4min finished\n"
     ]
    },
    {
     "data": {
      "text/plain": [
       "RandomizedSearchCV(estimator=Pipeline(steps=[('ss', StandardScaler()),\n",
       "                                             ('smote', SMOTE(random_state=42)),\n",
       "                                             ('rfc',\n",
       "                                              RandomForestClassifier())]),\n",
       "                   n_jobs=-2,\n",
       "                   param_distributions={'rfc__max_depth': [5, 10, 15, 20, 25,\n",
       "                                                           30, 35, 40, 45],\n",
       "                                        'rfc__min_samples_leaf': [5, 10, 15, 20,\n",
       "                                                                  25, 30, 35,\n",
       "                                                                  40, 45],\n",
       "                                        'rfc__n_estimators': [25, 50, 75, 100,\n",
       "                                                              125, 150, 175,\n",
       "                                                              200, 225, 250,\n",
       "                                                              275, 300, 325,\n",
       "                                                              350, 375, 400,\n",
       "                                                              425, 450, 475]},\n",
       "                   verbose=3)"
      ]
     },
     "execution_count": 76,
     "metadata": {},
     "output_type": "execute_result"
    }
   ],
   "source": [
    "rs_1 = RandomizedSearchCV(pipline_1, params_1, n_jobs=-2, verbose=3, n_iter=10)\n",
    "\n",
    "rs_1.fit(X_train_nums, y_train)"
   ]
  },
  {
   "cell_type": "code",
   "execution_count": 77,
   "metadata": {
    "scrolled": true
   },
   "outputs": [
    {
     "name": "stdout",
     "output_type": "stream",
     "text": [
      "The train score for the random search with some hyperparameter tuning is 0.6772\n",
      "\n",
      "The test score for the random search with some hyperparameter tuning is 0.6227\n"
     ]
    }
   ],
   "source": [
    "print('The train score for the random search with some hyperparameter tuning is',\n",
    "      round(rs_1.score(X_train_nums, y_train), 4))\n",
    "print('')\n",
    "print('The test score for the random search with some hyperparameter tuning is',\n",
    "      round(rs_1.score(X_test_nums, y_test), 4))"
   ]
  },
  {
   "cell_type": "code",
   "execution_count": 78,
   "metadata": {},
   "outputs": [
    {
     "data": {
      "text/plain": [
       "{'rfc__n_estimators': 425, 'rfc__min_samples_leaf': 20, 'rfc__max_depth': 25}"
      ]
     },
     "execution_count": 78,
     "metadata": {},
     "output_type": "execute_result"
    }
   ],
   "source": [
    "rs_1.best_params_"
   ]
  },
  {
   "cell_type": "code",
   "execution_count": 79,
   "metadata": {},
   "outputs": [
    {
     "name": "stderr",
     "output_type": "stream",
     "text": [
      "[Parallel(n_jobs=-2)]: Using backend LokyBackend with 7 concurrent workers.\n"
     ]
    },
    {
     "name": "stdout",
     "output_type": "stream",
     "text": [
      "Log Loss: 0.8391490806851118\n"
     ]
    },
    {
     "name": "stderr",
     "output_type": "stream",
     "text": [
      "[Parallel(n_jobs=-2)]: Done   2 out of   2 | elapsed:  2.4min finished\n"
     ]
    }
   ],
   "source": [
    "log_loss_rfc = cross_val_score(rs_1, X_train_nums_scaled, y_train, scoring='neg_log_loss', n_jobs = -2, verbose=1, cv = 2)\n",
    "log_loss_rfc = -log_loss_rfc.mean()\n",
    "print('Log Loss:', log_loss_rfc)"
   ]
  },
  {
   "cell_type": "code",
   "execution_count": 92,
   "metadata": {},
   "outputs": [
    {
     "name": "stderr",
     "output_type": "stream",
     "text": [
      "[Parallel(n_jobs=-2)]: Using backend LokyBackend with 7 concurrent workers.\n"
     ]
    },
    {
     "name": "stdout",
     "output_type": "stream",
     "text": [
      "Log Loss: 0.838843045591305\n"
     ]
    },
    {
     "name": "stderr",
     "output_type": "stream",
     "text": [
      "[Parallel(n_jobs=-2)]: Done   2 out of   2 | elapsed:  1.3min finished\n"
     ]
    }
   ],
   "source": [
    "log_loss_rfc = cross_val_score(rs_1, X_test_nums_scaled, y_test, scoring='neg_log_loss', n_jobs = -2, verbose=1, cv = 2)\n",
    "log_loss_rfc = -log_loss_rfc.mean()\n",
    "print('Log Loss:', log_loss_rfc)"
   ]
  },
  {
   "cell_type": "code",
   "execution_count": 80,
   "metadata": {},
   "outputs": [
    {
     "data": {
      "image/png": "[encoded data removed]",
      "text/plain": [
       "<Figure size 432x288 with 2 Axes>"
      ]
     },
     "metadata": {
      "needs_background": "light"
     },
     "output_type": "display_data"
    }
   ],
   "source": [
    "plot_confusion_matrix(rs_1, X_test_nums_scaled, y_test, xticks_rotation='vertical');"
   ]
  },
  {
   "cell_type": "code",
   "execution_count": 81,
   "metadata": {
    "scrolled": true
   },
   "outputs": [
    {
     "name": "stdout",
     "output_type": "stream",
     "text": [
      "The model correctly predicts 0.0% of the funtional wells.\n",
      "The model correctly predicts 99.18% of the funtional-needs-repair wells.\n",
      "The model correctly predicts 3.26% of the non-functional wells.\n"
     ]
    }
   ],
   "source": [
    "model_predictions(rs_1, X_test_nums_scaled, y_test)"
   ]
  },
  {
   "cell_type": "markdown",
   "metadata": {},
   "source": [
    "*  this model is very inaccurate. "
   ]
  },
  {
   "cell_type": "markdown",
   "metadata": {},
   "source": [
    "# model 1"
   ]
  },
  {
   "cell_type": "markdown",
   "metadata": {},
   "source": [
    "*  this is he first model that will contain the categorical colums, there will be no hyperparameter tuning done yet. "
   ]
  },
  {
   "cell_type": "code",
   "execution_count": 23,
   "metadata": {},
   "outputs": [],
   "source": [
    "X_train_nums = X_train.select_dtypes(exclude = object)\n",
    "\n",
    "X_train_cat = X_train.select_dtypes('object')"
   ]
  },
  {
   "cell_type": "code",
   "execution_count": 24,
   "metadata": {},
   "outputs": [],
   "source": [
    "numerical_pipeline = Pipeline(steps=[\n",
    "    ('ss', StandardScaler())\n",
    "])\n",
    "                \n",
    "categorical_pipeline = Pipeline(steps=[\n",
    "    ('ohe', OneHotEncoder(handle_unknown = 'ignore'))\n",
    "])\n"
   ]
  },
  {
   "cell_type": "code",
   "execution_count": 26,
   "metadata": {},
   "outputs": [],
   "source": [
    "trans = ColumnTransformer(transformers=[\n",
    "    ('numerical', numerical_pipeline, X_train_nums.columns),\n",
    "    ('categorical', categorical_pipeline, X_train_cat.columns)\n",
    "], verbose=True, n_jobs=-1)"
   ]
  },
  {
   "cell_type": "code",
   "execution_count": 27,
   "metadata": {},
   "outputs": [],
   "source": [
    "model_pipe = imbPipeline(steps=[\n",
    "    ('trans', trans),\n",
    "    ('smote', SMOTE(random_state=42)),\n",
    "    ('rfc', RandomForestClassifier(verbose=1, n_jobs=-2))\n",
    "])"
   ]
  },
  {
   "cell_type": "code",
   "execution_count": 28,
   "metadata": {
    "collapsed": true,
    "jupyter": {
     "outputs_hidden": true
    }
   },
   "outputs": [
    {
     "name": "stderr",
     "output_type": "stream",
     "text": [
      "[Parallel(n_jobs=-2)]: Using backend ThreadingBackend with 7 concurrent workers.\n",
      "[Parallel(n_jobs=-2)]: Done  36 tasks      | elapsed:   16.9s\n",
      "[Parallel(n_jobs=-2)]: Done 100 out of 100 | elapsed:   41.7s finished\n"
     ]
    },
    {
     "data": {
      "text/plain": [
       "Pipeline(steps=[('trans',\n",
       "                 ColumnTransformer(n_jobs=-1,\n",
       "                                   transformers=[('numerical',\n",
       "                                                  Pipeline(steps=[('ss',\n",
       "                                                                   StandardScaler())]),\n",
       "                                                  Index(['gps_height', 'longitude', 'latitude', 'num_private', 'region_code',\n",
       "       'district_code', 'population', 'construction_year'],\n",
       "      dtype='object')),\n",
       "                                                 ('categorical',\n",
       "                                                  Pipeline(steps=[('ohe',\n",
       "                                                                   OneHotEncoder(handle_unknown='ignore'))]),\n",
       "                                                  Index(['installer', 'basin', 'region', 'public_meeting', 'scheme_management',\n",
       "       'permit', 'extraction_type', 'management', 'payment', 'water_quality',\n",
       "       'quantity', 'source', 'waterpoint_type'],\n",
       "      dtype='object'))],\n",
       "                                   verbose=True)),\n",
       "                ('smote', SMOTE(random_state=42)),\n",
       "                ('rfc', RandomForestClassifier(n_jobs=-2, verbose=1))])"
      ]
     },
     "execution_count": 28,
     "metadata": {},
     "output_type": "execute_result"
    }
   ],
   "source": [
    "model_pipe.fit(X_train, y_train)"
   ]
  },
  {
   "cell_type": "code",
   "execution_count": 29,
   "metadata": {},
   "outputs": [
    {
     "name": "stderr",
     "output_type": "stream",
     "text": [
      "[Parallel(n_jobs=7)]: Using backend ThreadingBackend with 7 concurrent workers.\n",
      "[Parallel(n_jobs=7)]: Done  36 tasks      | elapsed:    0.0s\n",
      "[Parallel(n_jobs=7)]: Done 100 out of 100 | elapsed:    0.2s finished\n"
     ]
    },
    {
     "data": {
      "text/plain": [
       "0.9945629130814316"
      ]
     },
     "execution_count": 29,
     "metadata": {},
     "output_type": "execute_result"
    }
   ],
   "source": [
    "model_pipe.score(X_train, y_train)"
   ]
  },
  {
   "cell_type": "code",
   "execution_count": 30,
   "metadata": {
    "scrolled": true
   },
   "outputs": [
    {
     "name": "stderr",
     "output_type": "stream",
     "text": [
      "[Parallel(n_jobs=7)]: Using backend ThreadingBackend with 7 concurrent workers.\n",
      "[Parallel(n_jobs=7)]: Done  36 tasks      | elapsed:    0.0s\n",
      "[Parallel(n_jobs=7)]: Done 100 out of 100 | elapsed:    0.0s finished\n"
     ]
    },
    {
     "data": {
      "text/plain": [
       "0.7852600074822297"
      ]
     },
     "execution_count": 30,
     "metadata": {},
     "output_type": "execute_result"
    }
   ],
   "source": [
    "model_pipe.score(X_test, y_test)"
   ]
  },
  {
   "cell_type": "code",
   "execution_count": 31,
   "metadata": {},
   "outputs": [
    {
     "name": "stderr",
     "output_type": "stream",
     "text": [
      "[Parallel(n_jobs=-2)]: Using backend LokyBackend with 7 concurrent workers.\n",
      "[Parallel(n_jobs=-2)]: Done   2 out of   2 | elapsed:   31.0s remaining:    0.0s\n",
      "[Parallel(n_jobs=-2)]: Done   2 out of   2 | elapsed:   31.0s finished\n"
     ]
    },
    {
     "data": {
      "text/plain": [
       "0.8667377196519679"
      ]
     },
     "execution_count": 31,
     "metadata": {},
     "output_type": "execute_result"
    }
   ],
   "source": [
    "cv_1 = cross_val_score(model_pipe, X_train, y_train, scoring='neg_log_loss', n_jobs = -2, verbose = 3, cv = 2)\n",
    "-cv_1.mean()"
   ]
  },
  {
   "cell_type": "code",
   "execution_count": 32,
   "metadata": {},
   "outputs": [
    {
     "name": "stderr",
     "output_type": "stream",
     "text": [
      "[Parallel(n_jobs=-2)]: Using backend LokyBackend with 7 concurrent workers.\n",
      "[Parallel(n_jobs=-2)]: Done   2 out of   2 | elapsed:    6.4s remaining:    0.0s\n",
      "[Parallel(n_jobs=-2)]: Done   2 out of   2 | elapsed:    6.4s finished\n"
     ]
    },
    {
     "data": {
      "text/plain": [
       "0.9319778467828422"
      ]
     },
     "execution_count": 32,
     "metadata": {},
     "output_type": "execute_result"
    }
   ],
   "source": [
    "cv_1 = cross_val_score(model_pipe, X_test, y_test, scoring='neg_log_loss', n_jobs = -2, verbose = 3, cv = 2)\n",
    "-cv_1.mean()"
   ]
  },
  {
   "cell_type": "code",
   "execution_count": 33,
   "metadata": {},
   "outputs": [
    {
     "name": "stderr",
     "output_type": "stream",
     "text": [
      "[Parallel(n_jobs=7)]: Using backend ThreadingBackend with 7 concurrent workers.\n",
      "[Parallel(n_jobs=7)]: Done  36 tasks      | elapsed:    0.0s\n",
      "[Parallel(n_jobs=7)]: Done 100 out of 100 | elapsed:    0.0s finished\n"
     ]
    },
    {
     "data": {
      "image/png": "[encoded data removed]",
      "text/plain": [
       "<Figure size 432x288 with 2 Axes>"
      ]
     },
     "metadata": {
      "needs_background": "light"
     },
     "output_type": "display_data"
    }
   ],
   "source": [
    "plot_confusion_matrix(model_pipe, X_test, y_test, xticks_rotation='vertical');"
   ]
  },
  {
   "cell_type": "code",
   "execution_count": 34,
   "metadata": {},
   "outputs": [
    {
     "name": "stdout",
     "output_type": "stream",
     "text": [
      "The model correctly predicts 83.18% of the funtional wells.\n",
      "The model correctly predicts 47.07% of the funtional-needs-repair wells.\n",
      "The model correctly predicts 77.9% of the non-functional wells.\n"
     ]
    },
    {
     "name": "stderr",
     "output_type": "stream",
     "text": [
      "[Parallel(n_jobs=7)]: Using backend ThreadingBackend with 7 concurrent workers.\n",
      "[Parallel(n_jobs=7)]: Done  36 tasks      | elapsed:    0.0s\n",
      "[Parallel(n_jobs=7)]: Done 100 out of 100 | elapsed:    0.0s finished\n"
     ]
    }
   ],
   "source": [
    "model_predictions(model_pipe, X_test, y_test)"
   ]
  },
  {
   "cell_type": "markdown",
   "metadata": {},
   "source": [
    "*  this first model is a significant improvement from the first random forest classifer model. the train score increase by $0.0736$. However, the model is still significanly overfitting and that will need to be reduced by hyperparameter tuning. \n",
    "\n",
    "*  the log loss also improved from about $1$ with the first model with only numeric colums to about $0.88$ with all colums included. This was an improvement of about $0.12$.\n",
    "\n",
    "*  the total accuracy score of non-functional and functional needs repairs is $124.97$, which is better than the previous model, but there is till remove for improvement. "
   ]
  },
  {
   "cell_type": "markdown",
   "metadata": {},
   "source": [
    "# hyperparameter tuning"
   ]
  },
  {
   "cell_type": "markdown",
   "metadata": {},
   "source": [
    "## the first model"
   ]
  },
  {
   "cell_type": "markdown",
   "metadata": {},
   "source": [
    "*  since the training scores are severly overfitting the test scores in the data, we will first limit the max depth of the tree. this should certainly help to limit overfitting. we will leave other hyperparamters in their default state for now."
   ]
  },
  {
   "cell_type": "code",
   "execution_count": 35,
   "metadata": {},
   "outputs": [],
   "source": [
    "model_pipe_1 = imbPipeline(steps=[\n",
    "    ('trans', trans),\n",
    "    ('smote', SMOTE(random_state=42)),\n",
    "    ('rfc', RandomForestClassifier(verbose=1, n_jobs=-2))\n",
    "])"
   ]
  },
  {
   "cell_type": "code",
   "execution_count": 36,
   "metadata": {
    "collapsed": true,
    "jupyter": {
     "outputs_hidden": true
    }
   },
   "outputs": [
    {
     "data": {
      "text/plain": [
       "{'memory': None,\n",
       " 'steps': [('trans', ColumnTransformer(n_jobs=-1,\n",
       "                     transformers=[('numerical',\n",
       "                                    Pipeline(steps=[('ss', StandardScaler())]),\n",
       "                                    Index(['gps_height', 'longitude', 'latitude', 'num_private', 'region_code',\n",
       "          'district_code', 'population', 'construction_year'],\n",
       "         dtype='object')),\n",
       "                                   ('categorical',\n",
       "                                    Pipeline(steps=[('ohe',\n",
       "                                                     OneHotEncoder(handle_unknown='ignore'))]),\n",
       "                                    Index(['installer', 'basin', 'region', 'public_meeting', 'scheme_management',\n",
       "          'permit', 'extraction_type', 'management', 'payment', 'water_quality',\n",
       "          'quantity', 'source', 'waterpoint_type'],\n",
       "         dtype='object'))],\n",
       "                     verbose=True)),\n",
       "  ('smote', SMOTE(random_state=42)),\n",
       "  ('rfc', RandomForestClassifier(n_jobs=-2, verbose=1))],\n",
       " 'verbose': False,\n",
       " 'trans': ColumnTransformer(n_jobs=-1,\n",
       "                   transformers=[('numerical',\n",
       "                                  Pipeline(steps=[('ss', StandardScaler())]),\n",
       "                                  Index(['gps_height', 'longitude', 'latitude', 'num_private', 'region_code',\n",
       "        'district_code', 'population', 'construction_year'],\n",
       "       dtype='object')),\n",
       "                                 ('categorical',\n",
       "                                  Pipeline(steps=[('ohe',\n",
       "                                                   OneHotEncoder(handle_unknown='ignore'))]),\n",
       "                                  Index(['installer', 'basin', 'region', 'public_meeting', 'scheme_management',\n",
       "        'permit', 'extraction_type', 'management', 'payment', 'water_quality',\n",
       "        'quantity', 'source', 'waterpoint_type'],\n",
       "       dtype='object'))],\n",
       "                   verbose=True),\n",
       " 'smote': SMOTE(random_state=42),\n",
       " 'rfc': RandomForestClassifier(n_jobs=-2, verbose=1),\n",
       " 'trans__n_jobs': -1,\n",
       " 'trans__remainder': 'drop',\n",
       " 'trans__sparse_threshold': 0.3,\n",
       " 'trans__transformer_weights': None,\n",
       " 'trans__transformers': [('numerical',\n",
       "   Pipeline(steps=[('ss', StandardScaler())]),\n",
       "   Index(['gps_height', 'longitude', 'latitude', 'num_private', 'region_code',\n",
       "          'district_code', 'population', 'construction_year'],\n",
       "         dtype='object')),\n",
       "  ('categorical',\n",
       "   Pipeline(steps=[('ohe', OneHotEncoder(handle_unknown='ignore'))]),\n",
       "   Index(['installer', 'basin', 'region', 'public_meeting', 'scheme_management',\n",
       "          'permit', 'extraction_type', 'management', 'payment', 'water_quality',\n",
       "          'quantity', 'source', 'waterpoint_type'],\n",
       "         dtype='object'))],\n",
       " 'trans__verbose': True,\n",
       " 'trans__numerical': Pipeline(steps=[('ss', StandardScaler())]),\n",
       " 'trans__categorical': Pipeline(steps=[('ohe', OneHotEncoder(handle_unknown='ignore'))]),\n",
       " 'trans__numerical__memory': None,\n",
       " 'trans__numerical__steps': [('ss', StandardScaler())],\n",
       " 'trans__numerical__verbose': False,\n",
       " 'trans__numerical__ss': StandardScaler(),\n",
       " 'trans__numerical__ss__copy': True,\n",
       " 'trans__numerical__ss__with_mean': True,\n",
       " 'trans__numerical__ss__with_std': True,\n",
       " 'trans__categorical__memory': None,\n",
       " 'trans__categorical__steps': [('ohe',\n",
       "   OneHotEncoder(handle_unknown='ignore'))],\n",
       " 'trans__categorical__verbose': False,\n",
       " 'trans__categorical__ohe': OneHotEncoder(handle_unknown='ignore'),\n",
       " 'trans__categorical__ohe__categories': 'auto',\n",
       " 'trans__categorical__ohe__drop': None,\n",
       " 'trans__categorical__ohe__dtype': numpy.float64,\n",
       " 'trans__categorical__ohe__handle_unknown': 'ignore',\n",
       " 'trans__categorical__ohe__sparse': True,\n",
       " 'smote__k_neighbors': 5,\n",
       " 'smote__n_jobs': None,\n",
       " 'smote__random_state': 42,\n",
       " 'smote__sampling_strategy': 'auto',\n",
       " 'rfc__bootstrap': True,\n",
       " 'rfc__ccp_alpha': 0.0,\n",
       " 'rfc__class_weight': None,\n",
       " 'rfc__criterion': 'gini',\n",
       " 'rfc__max_depth': None,\n",
       " 'rfc__max_features': 'auto',\n",
       " 'rfc__max_leaf_nodes': None,\n",
       " 'rfc__max_samples': None,\n",
       " 'rfc__min_impurity_decrease': 0.0,\n",
       " 'rfc__min_impurity_split': None,\n",
       " 'rfc__min_samples_leaf': 1,\n",
       " 'rfc__min_samples_split': 2,\n",
       " 'rfc__min_weight_fraction_leaf': 0.0,\n",
       " 'rfc__n_estimators': 100,\n",
       " 'rfc__n_jobs': -2,\n",
       " 'rfc__oob_score': False,\n",
       " 'rfc__random_state': None,\n",
       " 'rfc__verbose': 1,\n",
       " 'rfc__warm_start': False}"
      ]
     },
     "execution_count": 36,
     "metadata": {},
     "output_type": "execute_result"
    }
   ],
   "source": [
    "model_pipe_1.get_params()"
   ]
  },
  {
   "cell_type": "code",
   "execution_count": 37,
   "metadata": {},
   "outputs": [],
   "source": [
    "params = {\n",
    "    'rfc__max_depth': list(range(10,100,10))\n",
    "}"
   ]
  },
  {
   "cell_type": "code",
   "execution_count": 38,
   "metadata": {
    "collapsed": true,
    "jupyter": {
     "outputs_hidden": true
    }
   },
   "outputs": [
    {
     "name": "stdout",
     "output_type": "stream",
     "text": [
      "Fitting 2 folds for each of 9 candidates, totalling 18 fits\n"
     ]
    },
    {
     "name": "stderr",
     "output_type": "stream",
     "text": [
      "[Parallel(n_jobs=-2)]: Using backend LokyBackend with 7 concurrent workers.\n",
      "[Parallel(n_jobs=-2)]: Done  12 out of  18 | elapsed:  3.1min remaining:  1.6min\n",
      "[Parallel(n_jobs=-2)]: Done  18 out of  18 | elapsed:  3.9min finished\n",
      "[Parallel(n_jobs=-2)]: Using backend ThreadingBackend with 7 concurrent workers.\n",
      "[Parallel(n_jobs=-2)]: Done  36 tasks      | elapsed:   15.2s\n",
      "[Parallel(n_jobs=-2)]: Done 100 out of 100 | elapsed:   38.8s finished\n"
     ]
    },
    {
     "data": {
      "text/plain": [
       "GridSearchCV(cv=2,\n",
       "             estimator=Pipeline(steps=[('trans',\n",
       "                                        ColumnTransformer(n_jobs=-1,\n",
       "                                                          transformers=[('numerical',\n",
       "                                                                         Pipeline(steps=[('ss',\n",
       "                                                                                          StandardScaler())]),\n",
       "                                                                         Index(['gps_height', 'longitude', 'latitude', 'num_private', 'region_code',\n",
       "       'district_code', 'population', 'construction_year'],\n",
       "      dtype='object')),\n",
       "                                                                        ('categorical',\n",
       "                                                                         Pipeline(steps=[('ohe',\n",
       "                                                                                          OneHotEncoder(handle_unk...\n",
       "                                                                         Index(['installer', 'basin', 'region', 'public_meeting', 'scheme_management',\n",
       "       'permit', 'extraction_type', 'management', 'payment', 'water_quality',\n",
       "       'quantity', 'source', 'waterpoint_type'],\n",
       "      dtype='object'))],\n",
       "                                                          verbose=True)),\n",
       "                                       ('smote', SMOTE(random_state=42)),\n",
       "                                       ('rfc',\n",
       "                                        RandomForestClassifier(n_jobs=-2,\n",
       "                                                               verbose=1))]),\n",
       "             n_jobs=-2,\n",
       "             param_grid={'rfc__max_depth': [10, 20, 30, 40, 50, 60, 70, 80,\n",
       "                                            90]},\n",
       "             verbose=3)"
      ]
     },
     "execution_count": 38,
     "metadata": {},
     "output_type": "execute_result"
    }
   ],
   "source": [
    "gs_1 = GridSearchCV(model_pipe_1, params, n_jobs=-2, verbose=3, cv = 2)\n",
    "gs_1.fit(X_train, y_train)"
   ]
  },
  {
   "cell_type": "code",
   "execution_count": 39,
   "metadata": {
    "scrolled": true
   },
   "outputs": [
    {
     "name": "stderr",
     "output_type": "stream",
     "text": [
      "[Parallel(n_jobs=7)]: Using backend ThreadingBackend with 7 concurrent workers.\n",
      "[Parallel(n_jobs=7)]: Done  36 tasks      | elapsed:    0.0s\n",
      "[Parallel(n_jobs=7)]: Done 100 out of 100 | elapsed:    0.1s finished\n"
     ]
    },
    {
     "data": {
      "text/plain": [
       "0.9894001745853598"
      ]
     },
     "execution_count": 39,
     "metadata": {},
     "output_type": "execute_result"
    }
   ],
   "source": [
    "gs_1.score(X_train, y_train)"
   ]
  },
  {
   "cell_type": "code",
   "execution_count": 40,
   "metadata": {
    "scrolled": true
   },
   "outputs": [
    {
     "name": "stderr",
     "output_type": "stream",
     "text": [
      "[Parallel(n_jobs=7)]: Using backend ThreadingBackend with 7 concurrent workers.\n",
      "[Parallel(n_jobs=7)]: Done  36 tasks      | elapsed:    0.0s\n",
      "[Parallel(n_jobs=7)]: Done 100 out of 100 | elapsed:    0.0s finished\n"
     ]
    },
    {
     "data": {
      "text/plain": [
       "0.7857089412644969"
      ]
     },
     "execution_count": 40,
     "metadata": {},
     "output_type": "execute_result"
    }
   ],
   "source": [
    "gs_1.score(X_test, y_test)"
   ]
  },
  {
   "cell_type": "code",
   "execution_count": 41,
   "metadata": {
    "scrolled": true
   },
   "outputs": [
    {
     "name": "stderr",
     "output_type": "stream",
     "text": [
      "[Parallel(n_jobs=-2)]: Using backend LokyBackend with 7 concurrent workers.\n",
      "[Parallel(n_jobs=-2)]: Done   2 out of   2 | elapsed:   30.9s remaining:    0.0s\n",
      "[Parallel(n_jobs=-2)]: Done   2 out of   2 | elapsed:   30.9s finished\n"
     ]
    },
    {
     "data": {
      "text/plain": [
       "0.8564665638694997"
      ]
     },
     "execution_count": 41,
     "metadata": {},
     "output_type": "execute_result"
    }
   ],
   "source": [
    "cv_1 = cross_val_score(model_pipe_1, X_train, y_train, scoring='neg_log_loss', n_jobs = -2, verbose = 3, cv = 2)\n",
    "-cv_1.mean()"
   ]
  },
  {
   "cell_type": "code",
   "execution_count": 42,
   "metadata": {},
   "outputs": [
    {
     "name": "stderr",
     "output_type": "stream",
     "text": [
      "[Parallel(n_jobs=-2)]: Using backend LokyBackend with 7 concurrent workers.\n",
      "[Parallel(n_jobs=-2)]: Done   2 out of   2 | elapsed:    6.4s finished\n"
     ]
    },
    {
     "data": {
      "text/plain": [
       "0.9076737951221987"
      ]
     },
     "execution_count": 42,
     "metadata": {},
     "output_type": "execute_result"
    }
   ],
   "source": [
    "cv_1 = cross_val_score(model_pipe_1, X_test, y_test, scoring='neg_log_loss', n_jobs = -2, verbose = 1, cv = 2)\n",
    "-cv_1.mean()"
   ]
  },
  {
   "cell_type": "code",
   "execution_count": 43,
   "metadata": {
    "scrolled": true
   },
   "outputs": [
    {
     "data": {
      "text/plain": [
       "{'rfc__max_depth': 30}"
      ]
     },
     "execution_count": 43,
     "metadata": {},
     "output_type": "execute_result"
    }
   ],
   "source": [
    "gs_1.best_params_"
   ]
  },
  {
   "cell_type": "code",
   "execution_count": 44,
   "metadata": {},
   "outputs": [
    {
     "name": "stderr",
     "output_type": "stream",
     "text": [
      "[Parallel(n_jobs=7)]: Using backend ThreadingBackend with 7 concurrent workers.\n",
      "[Parallel(n_jobs=7)]: Done  36 tasks      | elapsed:    0.0s\n",
      "[Parallel(n_jobs=7)]: Done 100 out of 100 | elapsed:    0.0s finished\n"
     ]
    },
    {
     "data": {
      "image/png": "[encoded data removed]",
      "text/plain": [
       "<Figure size 432x288 with 2 Axes>"
      ]
     },
     "metadata": {
      "needs_background": "light"
     },
     "output_type": "display_data"
    }
   ],
   "source": [
    "plot_confusion_matrix(gs_1, X_test, y_test, xticks_rotation='vertical');"
   ]
  },
  {
   "cell_type": "code",
   "execution_count": 45,
   "metadata": {
    "scrolled": true
   },
   "outputs": [
    {
     "name": "stdout",
     "output_type": "stream",
     "text": [
      "The model correctly predicts 83.1% of the funtional wells.\n",
      "The model correctly predicts 48.82% of the funtional-needs-repair wells.\n",
      "The model correctly predicts 77.8% of the non-functional wells.\n"
     ]
    },
    {
     "name": "stderr",
     "output_type": "stream",
     "text": [
      "[Parallel(n_jobs=7)]: Using backend ThreadingBackend with 7 concurrent workers.\n",
      "[Parallel(n_jobs=7)]: Done  36 tasks      | elapsed:    0.0s\n",
      "[Parallel(n_jobs=7)]: Done 100 out of 100 | elapsed:    0.0s finished\n"
     ]
    }
   ],
   "source": [
    "model_predictions(gs_1, X_test, y_test)"
   ]
  },
  {
   "cell_type": "markdown",
   "metadata": {},
   "source": [
    "*  this model that limited the max depth of the trees had a slighly better log loss on the test data. the accuracy scores were about the same as the previous model.\n",
    "\n",
    "*  the total accuracy score of non-functional and functional needs repairs is $126.62$, which is a bit lower than the previous model, so now we will being to change some more hyperparamters."
   ]
  },
  {
   "cell_type": "markdown",
   "metadata": {},
   "source": [
    "## model 2"
   ]
  },
  {
   "cell_type": "markdown",
   "metadata": {},
   "source": [
    "*  in this second iteration we will still change max depth, but will also change the number of estimators to see how a change in the number of trees would effect the accuracy score. we will also use criterion to see if it has any effect on the score of the model."
   ]
  },
  {
   "cell_type": "code",
   "execution_count": 46,
   "metadata": {},
   "outputs": [],
   "source": [
    "model_pipe_2 = imbPipeline(steps=[\n",
    "    ('trans', trans),\n",
    "    ('smote', SMOTE(random_state=42)),\n",
    "    ('rfc', RandomForestClassifier(verbose=1, n_jobs=-2))\n",
    "])"
   ]
  },
  {
   "cell_type": "code",
   "execution_count": 47,
   "metadata": {},
   "outputs": [],
   "source": [
    "params = {\n",
    "    'rfc__max_depth': list(range(10,100,10)),\n",
    "    'rfc__criterion': ['gini', 'entropy'],\n",
    "    'rfc__n_estimators': list(range(50,250,50))   \n",
    "}"
   ]
  },
  {
   "cell_type": "code",
   "execution_count": 48,
   "metadata": {
    "collapsed": true,
    "jupyter": {
     "outputs_hidden": true
    }
   },
   "outputs": [
    {
     "name": "stdout",
     "output_type": "stream",
     "text": [
      "Fitting 2 folds for each of 72 candidates, totalling 144 fits\n"
     ]
    },
    {
     "name": "stderr",
     "output_type": "stream",
     "text": [
      "[Parallel(n_jobs=-2)]: Using backend LokyBackend with 7 concurrent workers.\n",
      "[Parallel(n_jobs=-2)]: Done  18 tasks      | elapsed:  3.1min\n",
      "[Parallel(n_jobs=-2)]: Done 114 tasks      | elapsed: 30.1min\n",
      "[Parallel(n_jobs=-2)]: Done 144 out of 144 | elapsed: 39.0min finished\n",
      "[Parallel(n_jobs=-2)]: Using backend ThreadingBackend with 7 concurrent workers.\n",
      "[Parallel(n_jobs=-2)]: Done  36 tasks      | elapsed:   16.8s\n",
      "[Parallel(n_jobs=-2)]: Done 186 tasks      | elapsed:  1.3min\n",
      "[Parallel(n_jobs=-2)]: Done 200 out of 200 | elapsed:  1.4min finished\n"
     ]
    },
    {
     "data": {
      "text/plain": [
       "GridSearchCV(cv=2,\n",
       "             estimator=Pipeline(steps=[('trans',\n",
       "                                        ColumnTransformer(n_jobs=-1,\n",
       "                                                          transformers=[('numerical',\n",
       "                                                                         Pipeline(steps=[('ss',\n",
       "                                                                                          StandardScaler())]),\n",
       "                                                                         Index(['gps_height', 'longitude', 'latitude', 'num_private', 'region_code',\n",
       "       'district_code', 'population', 'construction_year'],\n",
       "      dtype='object')),\n",
       "                                                                        ('categorical',\n",
       "                                                                         Pipeline(steps=[('ohe',\n",
       "                                                                                          OneHotEncoder(handle_unk...\n",
       "       'permit', 'extraction_type', 'management', 'payment', 'water_quality',\n",
       "       'quantity', 'source', 'waterpoint_type'],\n",
       "      dtype='object'))],\n",
       "                                                          verbose=True)),\n",
       "                                       ('smote', SMOTE(random_state=42)),\n",
       "                                       ('rfc',\n",
       "                                        RandomForestClassifier(n_jobs=-2,\n",
       "                                                               verbose=1))]),\n",
       "             n_jobs=-2,\n",
       "             param_grid={'rfc__criterion': ['gini', 'entropy'],\n",
       "                         'rfc__max_depth': [10, 20, 30, 40, 50, 60, 70, 80, 90],\n",
       "                         'rfc__n_estimators': [50, 100, 150, 200]},\n",
       "             verbose=3)"
      ]
     },
     "execution_count": 48,
     "metadata": {},
     "output_type": "execute_result"
    }
   ],
   "source": [
    "gs_2 = GridSearchCV(model_pipe_2, params, n_jobs=-2, verbose=3, cv = 2)\n",
    "gs_2.fit(X_train, y_train)"
   ]
  },
  {
   "cell_type": "code",
   "execution_count": 49,
   "metadata": {},
   "outputs": [
    {
     "name": "stderr",
     "output_type": "stream",
     "text": [
      "[Parallel(n_jobs=7)]: Using backend ThreadingBackend with 7 concurrent workers.\n",
      "[Parallel(n_jobs=7)]: Done  36 tasks      | elapsed:    0.0s\n",
      "[Parallel(n_jobs=7)]: Done 186 tasks      | elapsed:    0.4s\n",
      "[Parallel(n_jobs=7)]: Done 200 out of 200 | elapsed:    0.4s finished\n"
     ]
    },
    {
     "data": {
      "text/plain": [
       "0.9946127946127946"
      ]
     },
     "execution_count": 49,
     "metadata": {},
     "output_type": "execute_result"
    }
   ],
   "source": [
    "gs_2.score(X_train, y_train)"
   ]
  },
  {
   "cell_type": "code",
   "execution_count": 50,
   "metadata": {},
   "outputs": [
    {
     "name": "stderr",
     "output_type": "stream",
     "text": [
      "[Parallel(n_jobs=7)]: Using backend ThreadingBackend with 7 concurrent workers.\n",
      "[Parallel(n_jobs=7)]: Done  36 tasks      | elapsed:    0.0s\n",
      "[Parallel(n_jobs=7)]: Done 186 tasks      | elapsed:    0.1s\n",
      "[Parallel(n_jobs=7)]: Done 200 out of 200 | elapsed:    0.1s finished\n"
     ]
    },
    {
     "data": {
      "text/plain": [
       "0.786307519640853"
      ]
     },
     "execution_count": 50,
     "metadata": {},
     "output_type": "execute_result"
    }
   ],
   "source": [
    "gs_2.score(X_test, y_test)"
   ]
  },
  {
   "cell_type": "code",
   "execution_count": 51,
   "metadata": {},
   "outputs": [
    {
     "name": "stderr",
     "output_type": "stream",
     "text": [
      "[Parallel(n_jobs=-2)]: Using backend LokyBackend with 7 concurrent workers.\n",
      "[Parallel(n_jobs=-2)]: Done   2 out of   2 | elapsed:   31.5s finished\n"
     ]
    },
    {
     "data": {
      "text/plain": [
       "0.8838584446795634"
      ]
     },
     "execution_count": 51,
     "metadata": {},
     "output_type": "execute_result"
    }
   ],
   "source": [
    "cv_2 = cross_val_score(model_pipe_2, X_train, y_train, scoring='neg_log_loss', n_jobs = -2, verbose = 1, cv = 2)\n",
    "-cv_2.mean()"
   ]
  },
  {
   "cell_type": "code",
   "execution_count": 52,
   "metadata": {},
   "outputs": [
    {
     "name": "stderr",
     "output_type": "stream",
     "text": [
      "[Parallel(n_jobs=-2)]: Using backend LokyBackend with 7 concurrent workers.\n",
      "[Parallel(n_jobs=-2)]: Done   2 out of   2 | elapsed:    6.7s finished\n"
     ]
    },
    {
     "data": {
      "text/plain": [
       "0.8885423380360911"
      ]
     },
     "execution_count": 52,
     "metadata": {},
     "output_type": "execute_result"
    }
   ],
   "source": [
    "cv_2 = cross_val_score(model_pipe_2, X_test, y_test, scoring='neg_log_loss', n_jobs = -2, verbose = 1, cv = 2)\n",
    "-cv_2.mean()"
   ]
  },
  {
   "cell_type": "code",
   "execution_count": 53,
   "metadata": {
    "scrolled": true
   },
   "outputs": [
    {
     "data": {
      "text/plain": [
       "{'rfc__criterion': 'gini', 'rfc__max_depth': 80, 'rfc__n_estimators': 200}"
      ]
     },
     "execution_count": 53,
     "metadata": {},
     "output_type": "execute_result"
    }
   ],
   "source": [
    "gs_2.best_params_"
   ]
  },
  {
   "cell_type": "code",
   "execution_count": 54,
   "metadata": {},
   "outputs": [
    {
     "name": "stderr",
     "output_type": "stream",
     "text": [
      "[Parallel(n_jobs=7)]: Using backend ThreadingBackend with 7 concurrent workers.\n",
      "[Parallel(n_jobs=7)]: Done  36 tasks      | elapsed:    0.0s\n",
      "[Parallel(n_jobs=7)]: Done 186 tasks      | elapsed:    0.1s\n",
      "[Parallel(n_jobs=7)]: Done 200 out of 200 | elapsed:    0.1s finished\n"
     ]
    },
    {
     "data": {
      "image/png": "[encoded data removed]",
      "text/plain": [
       "<Figure size 432x288 with 2 Axes>"
      ]
     },
     "metadata": {
      "needs_background": "light"
     },
     "output_type": "display_data"
    }
   ],
   "source": [
    "plot_confusion_matrix(gs_2, X_test, y_test, xticks_rotation='vertical');"
   ]
  },
  {
   "cell_type": "code",
   "execution_count": 55,
   "metadata": {
    "scrolled": true
   },
   "outputs": [
    {
     "name": "stderr",
     "output_type": "stream",
     "text": [
      "[Parallel(n_jobs=7)]: Using backend ThreadingBackend with 7 concurrent workers.\n",
      "[Parallel(n_jobs=7)]: Done  36 tasks      | elapsed:    0.0s\n",
      "[Parallel(n_jobs=7)]: Done 186 tasks      | elapsed:    0.1s\n"
     ]
    },
    {
     "name": "stdout",
     "output_type": "stream",
     "text": [
      "The model correctly predicts 83.29% of the funtional wells.\n",
      "The model correctly predicts 47.17% of the funtional-needs-repair wells.\n",
      "The model correctly predicts 77.99% of the non-functional wells.\n"
     ]
    },
    {
     "name": "stderr",
     "output_type": "stream",
     "text": [
      "[Parallel(n_jobs=7)]: Done 200 out of 200 | elapsed:    0.1s finished\n"
     ]
    }
   ],
   "source": [
    "model_predictions(gs_2, X_test, y_test)\n",
    "# The model correctly predicts 91.69% of the funtional wells.\n",
    "# The model correctly predicts 27.85% of the funtional-needs-repair wells.\n",
    "# The model correctly predicts 73.78% of the non-functional wells."
   ]
  },
  {
   "cell_type": "markdown",
   "metadata": {},
   "source": [
    "*  this second model with more hyperparamter tuning done to it has still a better log loss on the test data, but like all previous models it is still overfitting on the training data. the accuracy scores were no better than the previous model. \n",
    "\n",
    "*  the total accuracy score of non-functional and functional needs repairs is $125.16$, which is similar to the previous two models, but still not the highest score. "
   ]
  },
  {
   "cell_type": "markdown",
   "metadata": {},
   "source": [
    "## model 3"
   ]
  },
  {
   "cell_type": "markdown",
   "metadata": {},
   "source": [
    "in this next model we will greatly expand the hyperparamters that we are going to tune. this will allow me to see if there is any improvement in the model. "
   ]
  },
  {
   "cell_type": "code",
   "execution_count": 56,
   "metadata": {},
   "outputs": [],
   "source": [
    "model_pipe_3 = imbPipeline(steps=[\n",
    "    ('trans', trans),\n",
    "    ('smote', SMOTE(random_state=42)),\n",
    "    ('rfc', RandomForestClassifier(verbose=1, n_jobs=-2))\n",
    "])"
   ]
  },
  {
   "cell_type": "code",
   "execution_count": 57,
   "metadata": {},
   "outputs": [],
   "source": [
    "params = {\n",
    "    'rfc__max_depth': list(range(10,100,10)),\n",
    "    'rfc__criterion': ['gini', 'entropy'],\n",
    "    'rfc__n_estimators': list(range(100,250,50)),\n",
    "    'rfc__min_samples_leaf': list(range(2,16,2)),\n",
    "    'rfc__min_samples_split': list(range(2,16,2)),\n",
    "}"
   ]
  },
  {
   "cell_type": "code",
   "execution_count": 58,
   "metadata": {
    "collapsed": true,
    "jupyter": {
     "outputs_hidden": true
    }
   },
   "outputs": [
    {
     "name": "stderr",
     "output_type": "stream",
     "text": [
      "[Parallel(n_jobs=-2)]: Using backend LokyBackend with 7 concurrent workers.\n"
     ]
    },
    {
     "name": "stdout",
     "output_type": "stream",
     "text": [
      "Fitting 2 folds for each of 2646 candidates, totalling 5292 fits\n"
     ]
    },
    {
     "name": "stderr",
     "output_type": "stream",
     "text": [
      "[Parallel(n_jobs=-2)]: Done  18 tasks      | elapsed:  1.5min\n",
      "[Parallel(n_jobs=-2)]: Done 114 tasks      | elapsed:  8.3min\n",
      "[Parallel(n_jobs=-2)]: Done 274 tasks      | elapsed: 19.1min\n",
      "[Parallel(n_jobs=-2)]: Done 498 tasks      | elapsed: 53.5min\n",
      "[Parallel(n_jobs=-2)]: Done 786 tasks      | elapsed: 101.3min\n",
      "[Parallel(n_jobs=-2)]: Done 1138 tasks      | elapsed: 159.0min\n",
      "[Parallel(n_jobs=-2)]: Done 1554 tasks      | elapsed: 232.0min\n",
      "[Parallel(n_jobs=-2)]: Done 2034 tasks      | elapsed: 310.6min\n",
      "[Parallel(n_jobs=-2)]: Done 2578 tasks      | elapsed: 404.0min\n",
      "[Parallel(n_jobs=-2)]: Done 3186 tasks      | elapsed: 475.3min\n",
      "[Parallel(n_jobs=-2)]: Done 3858 tasks      | elapsed: 593.5min\n",
      "[Parallel(n_jobs=-2)]: Done 4594 tasks      | elapsed: 723.1min\n",
      "[Parallel(n_jobs=-2)]: Done 5292 out of 5292 | elapsed: 846.8min finished\n",
      "[Parallel(n_jobs=-2)]: Using backend ThreadingBackend with 7 concurrent workers.\n",
      "[Parallel(n_jobs=-2)]: Done  36 tasks      | elapsed:   11.4s\n",
      "[Parallel(n_jobs=-2)]: Done 150 out of 150 | elapsed:   41.2s finished\n"
     ]
    },
    {
     "data": {
      "text/plain": [
       "GridSearchCV(cv=2,\n",
       "             estimator=Pipeline(steps=[('trans',\n",
       "                                        ColumnTransformer(n_jobs=-1,\n",
       "                                                          transformers=[('numerical',\n",
       "                                                                         Pipeline(steps=[('ss',\n",
       "                                                                                          StandardScaler())]),\n",
       "                                                                         Index(['gps_height', 'longitude', 'latitude', 'num_private', 'region_code',\n",
       "       'district_code', 'population', 'construction_year'],\n",
       "      dtype='object')),\n",
       "                                                                        ('categorical',\n",
       "                                                                         Pipeline(steps=[('ohe',\n",
       "                                                                                          OneHotEncoder(handle_unk...\n",
       "      dtype='object'))],\n",
       "                                                          verbose=True)),\n",
       "                                       ('smote', SMOTE(random_state=42)),\n",
       "                                       ('rfc',\n",
       "                                        RandomForestClassifier(n_jobs=-2,\n",
       "                                                               verbose=1))]),\n",
       "             n_jobs=-2,\n",
       "             param_grid={'rfc__criterion': ['gini', 'entropy'],\n",
       "                         'rfc__max_depth': [10, 20, 30, 40, 50, 60, 70, 80, 90],\n",
       "                         'rfc__min_samples_leaf': [2, 4, 6, 8, 10, 12, 14],\n",
       "                         'rfc__min_samples_split': [2, 4, 6, 8, 10, 12, 14],\n",
       "                         'rfc__n_estimators': [100, 150, 200]},\n",
       "             verbose=3)"
      ]
     },
     "execution_count": 58,
     "metadata": {},
     "output_type": "execute_result"
    }
   ],
   "source": [
    "gs_3 = GridSearchCV(model_pipe_3, params, n_jobs=-2, verbose=3, cv = 2)\n",
    "gs_3.fit(X_train, y_train)"
   ]
  },
  {
   "cell_type": "code",
   "execution_count": 59,
   "metadata": {},
   "outputs": [
    {
     "name": "stderr",
     "output_type": "stream",
     "text": [
      "[Parallel(n_jobs=7)]: Using backend ThreadingBackend with 7 concurrent workers.\n",
      "[Parallel(n_jobs=7)]: Done  36 tasks      | elapsed:    0.0s\n",
      "[Parallel(n_jobs=7)]: Done 150 out of 150 | elapsed:    0.2s finished\n"
     ]
    },
    {
     "data": {
      "text/plain": [
       "0.9022820800598579"
      ]
     },
     "execution_count": 59,
     "metadata": {},
     "output_type": "execute_result"
    }
   ],
   "source": [
    "gs_3.score(X_train, y_train)"
   ]
  },
  {
   "cell_type": "code",
   "execution_count": 60,
   "metadata": {},
   "outputs": [
    {
     "name": "stderr",
     "output_type": "stream",
     "text": [
      "[Parallel(n_jobs=7)]: Using backend ThreadingBackend with 7 concurrent workers.\n",
      "[Parallel(n_jobs=7)]: Done  36 tasks      | elapsed:    0.0s\n",
      "[Parallel(n_jobs=7)]: Done 150 out of 150 | elapsed:    0.1s finished\n"
     ]
    },
    {
     "data": {
      "text/plain": [
       "0.7812944257388702"
      ]
     },
     "execution_count": 60,
     "metadata": {},
     "output_type": "execute_result"
    }
   ],
   "source": [
    "gs_3.score(X_test, y_test)"
   ]
  },
  {
   "cell_type": "code",
   "execution_count": 61,
   "metadata": {},
   "outputs": [
    {
     "name": "stderr",
     "output_type": "stream",
     "text": [
      "[Parallel(n_jobs=-2)]: Using backend LokyBackend with 7 concurrent workers.\n",
      "[Parallel(n_jobs=-2)]: Done   2 out of   2 | elapsed:   31.4s finished\n"
     ]
    },
    {
     "data": {
      "text/plain": [
       "0.8635871263854894"
      ]
     },
     "execution_count": 61,
     "metadata": {},
     "output_type": "execute_result"
    }
   ],
   "source": [
    "cv_3 = cross_val_score(model_pipe_3, X_train, y_train, scoring='neg_log_loss', n_jobs = -2, verbose = 1, cv = 2)\n",
    "-cv_3.mean()"
   ]
  },
  {
   "cell_type": "code",
   "execution_count": 62,
   "metadata": {},
   "outputs": [
    {
     "name": "stderr",
     "output_type": "stream",
     "text": [
      "[Parallel(n_jobs=-2)]: Using backend LokyBackend with 7 concurrent workers.\n",
      "[Parallel(n_jobs=-2)]: Done   2 out of   2 | elapsed:    7.2s finished\n"
     ]
    },
    {
     "data": {
      "text/plain": [
       "0.8585807546154215"
      ]
     },
     "execution_count": 62,
     "metadata": {},
     "output_type": "execute_result"
    }
   ],
   "source": [
    "cv_3 = cross_val_score(model_pipe_3, X_test, y_test, scoring='neg_log_loss', n_jobs = -2, verbose = 1, cv = 2)\n",
    "-cv_3.mean()"
   ]
  },
  {
   "cell_type": "code",
   "execution_count": 63,
   "metadata": {},
   "outputs": [
    {
     "data": {
      "text/plain": [
       "{'rfc__criterion': 'gini',\n",
       " 'rfc__max_depth': 80,\n",
       " 'rfc__min_samples_leaf': 2,\n",
       " 'rfc__min_samples_split': 2,\n",
       " 'rfc__n_estimators': 150}"
      ]
     },
     "execution_count": 63,
     "metadata": {},
     "output_type": "execute_result"
    }
   ],
   "source": [
    "gs_3.best_params_"
   ]
  },
  {
   "cell_type": "code",
   "execution_count": 64,
   "metadata": {},
   "outputs": [
    {
     "name": "stderr",
     "output_type": "stream",
     "text": [
      "[Parallel(n_jobs=7)]: Using backend ThreadingBackend with 7 concurrent workers.\n",
      "[Parallel(n_jobs=7)]: Done  36 tasks      | elapsed:    0.0s\n",
      "[Parallel(n_jobs=7)]: Done 150 out of 150 | elapsed:    0.1s finished\n"
     ]
    },
    {
     "data": {
      "image/png": "[encoded data removed]",
      "text/plain": [
       "<Figure size 432x288 with 2 Axes>"
      ]
     },
     "metadata": {
      "needs_background": "light"
     },
     "output_type": "display_data"
    }
   ],
   "source": [
    "plot_confusion_matrix(gs_3, X_test, y_test, xticks_rotation='vertical');"
   ]
  },
  {
   "cell_type": "code",
   "execution_count": 65,
   "metadata": {},
   "outputs": [
    {
     "name": "stderr",
     "output_type": "stream",
     "text": [
      "[Parallel(n_jobs=7)]: Using backend ThreadingBackend with 7 concurrent workers.\n",
      "[Parallel(n_jobs=7)]: Done  36 tasks      | elapsed:    0.0s\n",
      "[Parallel(n_jobs=7)]: Done 150 out of 150 | elapsed:    0.1s finished\n"
     ]
    },
    {
     "name": "stdout",
     "output_type": "stream",
     "text": [
      "The model correctly predicts 82.4% of the funtional wells.\n",
      "The model correctly predicts 55.4% of the funtional-needs-repair wells.\n",
      "The model correctly predicts 76.39% of the non-functional wells.\n"
     ]
    }
   ],
   "source": [
    "model_predictions(gs_3, X_test, y_test)"
   ]
  },
  {
   "cell_type": "markdown",
   "metadata": {},
   "source": [
    "*  this model does not over fit as severly as the previous models, but still does over fit. the accuracy for the test data is no better than the other models. however, the log loss is lower than previous models, so there is some improvement in our model. the accuracy scores for function and non-functional wells are about the same, but the accuracy for functional-needs-repairs is much higher. \n",
    "\n",
    "*  the total accuracy score of non-functional and functional needs repairs is $131.79$, which is the best of all the random forest models. "
   ]
  },
  {
   "cell_type": "markdown",
   "metadata": {},
   "source": [
    "# model 4"
   ]
  },
  {
   "cell_type": "markdown",
   "metadata": {},
   "source": [
    "here we will attempt to see if the previous model can be improved by changing some hyperparamters by hand to increase the accuracy of the test scores or to see if the predictions can be increased."
   ]
  },
  {
   "cell_type": "code",
   "execution_count": 121,
   "metadata": {},
   "outputs": [],
   "source": [
    "model_pipe_4 = imbPipeline(steps=[\n",
    "    ('trans', trans),\n",
    "    ('smote', SMOTE(random_state=42)),\n",
    "    ('rfc', RandomForestClassifier(verbose=1, n_jobs=-2, \n",
    "                                   criterion = 'entropy',\n",
    "                                   max_depth = 80,\n",
    "                                   min_samples_leaf = 2,\n",
    "                                   min_samples_split = 2,\n",
    "                                   n_estimators = 250,\n",
    "                                   class_weight='balanced'))])"
   ]
  },
  {
   "cell_type": "code",
   "execution_count": 122,
   "metadata": {
    "collapsed": true,
    "jupyter": {
     "outputs_hidden": true
    }
   },
   "outputs": [
    {
     "name": "stderr",
     "output_type": "stream",
     "text": [
      "[Parallel(n_jobs=-2)]: Using backend ThreadingBackend with 7 concurrent workers.\n",
      "[Parallel(n_jobs=-2)]: Done  36 tasks      | elapsed:    9.4s\n",
      "[Parallel(n_jobs=-2)]: Done 186 tasks      | elapsed:   50.9s\n",
      "[Parallel(n_jobs=-2)]: Done 250 out of 250 | elapsed:  1.1min finished\n"
     ]
    },
    {
     "data": {
      "text/plain": [
       "Pipeline(steps=[('trans',\n",
       "                 ColumnTransformer(n_jobs=-1,\n",
       "                                   transformers=[('numerical',\n",
       "                                                  Pipeline(steps=[('ss',\n",
       "                                                                   StandardScaler())]),\n",
       "                                                  Index(['gps_height', 'longitude', 'latitude', 'num_private', 'region_code',\n",
       "       'district_code', 'population', 'construction_year'],\n",
       "      dtype='object')),\n",
       "                                                 ('categorical',\n",
       "                                                  Pipeline(steps=[('ohe',\n",
       "                                                                   OneHotEncoder(handle_unknown='ignore'))]),\n",
       "                                                  Index(['in...lic_meeting', 'scheme_management',\n",
       "       'permit', 'extraction_type', 'management', 'payment', 'water_quality',\n",
       "       'quantity', 'source', 'waterpoint_type'],\n",
       "      dtype='object'))],\n",
       "                                   verbose=True)),\n",
       "                ('smote', SMOTE(random_state=42)),\n",
       "                ('rfc',\n",
       "                 RandomForestClassifier(class_weight='balanced',\n",
       "                                        criterion='entropy', max_depth=80,\n",
       "                                        min_samples_leaf=2, n_estimators=250,\n",
       "                                        n_jobs=-2, verbose=1))])"
      ]
     },
     "execution_count": 122,
     "metadata": {},
     "output_type": "execute_result"
    }
   ],
   "source": [
    "model_pipe_4.fit(X_train, y_train)"
   ]
  },
  {
   "cell_type": "code",
   "execution_count": 123,
   "metadata": {},
   "outputs": [
    {
     "name": "stderr",
     "output_type": "stream",
     "text": [
      "[Parallel(n_jobs=7)]: Using backend ThreadingBackend with 7 concurrent workers.\n",
      "[Parallel(n_jobs=7)]: Done  36 tasks      | elapsed:    0.0s\n",
      "[Parallel(n_jobs=7)]: Done 186 tasks      | elapsed:    0.4s\n",
      "[Parallel(n_jobs=7)]: Done 250 out of 250 | elapsed:    0.5s finished\n"
     ]
    },
    {
     "data": {
      "text/plain": [
       "0.9029554807332585"
      ]
     },
     "execution_count": 123,
     "metadata": {},
     "output_type": "execute_result"
    }
   ],
   "source": [
    "model_pipe_4.score(X_train, y_train)"
   ]
  },
  {
   "cell_type": "code",
   "execution_count": 124,
   "metadata": {
    "scrolled": true
   },
   "outputs": [
    {
     "name": "stderr",
     "output_type": "stream",
     "text": [
      "[Parallel(n_jobs=7)]: Using backend ThreadingBackend with 7 concurrent workers.\n",
      "[Parallel(n_jobs=7)]: Done  36 tasks      | elapsed:    0.0s\n",
      "[Parallel(n_jobs=7)]: Done 186 tasks      | elapsed:    0.1s\n",
      "[Parallel(n_jobs=7)]: Done 250 out of 250 | elapsed:    0.2s finished\n"
     ]
    },
    {
     "data": {
      "text/plain": [
       "0.7812944257388702"
      ]
     },
     "execution_count": 124,
     "metadata": {},
     "output_type": "execute_result"
    }
   ],
   "source": [
    "model_pipe_4.score(X_test, y_test)"
   ]
  },
  {
   "cell_type": "code",
   "execution_count": 125,
   "metadata": {},
   "outputs": [
    {
     "name": "stderr",
     "output_type": "stream",
     "text": [
      "[Parallel(n_jobs=7)]: Using backend ThreadingBackend with 7 concurrent workers.\n",
      "[Parallel(n_jobs=7)]: Done  36 tasks      | elapsed:    0.0s\n",
      "[Parallel(n_jobs=7)]: Done 186 tasks      | elapsed:    0.1s\n",
      "[Parallel(n_jobs=7)]: Done 250 out of 250 | elapsed:    0.2s finished\n"
     ]
    },
    {
     "data": {
      "image/png": "[encoded data removed]",
      "text/plain": [
       "<Figure size 432x288 with 2 Axes>"
      ]
     },
     "metadata": {
      "needs_background": "light"
     },
     "output_type": "display_data"
    }
   ],
   "source": [
    "plot_confusion_matrix(model_pipe_4, X_test, y_test, xticks_rotation='vertical');"
   ]
  },
  {
   "cell_type": "code",
   "execution_count": 126,
   "metadata": {},
   "outputs": [
    {
     "name": "stderr",
     "output_type": "stream",
     "text": [
      "[Parallel(n_jobs=7)]: Using backend ThreadingBackend with 7 concurrent workers.\n",
      "[Parallel(n_jobs=7)]: Done  36 tasks      | elapsed:    0.0s\n",
      "[Parallel(n_jobs=7)]: Done 186 tasks      | elapsed:    0.1s\n"
     ]
    },
    {
     "name": "stdout",
     "output_type": "stream",
     "text": [
      "The model correctly predicts 82.33% of the funtional wells.\n",
      "The model correctly predicts 55.81% of the funtional-needs-repair wells.\n",
      "The model correctly predicts 76.41% of the non-functional wells.\n"
     ]
    },
    {
     "name": "stderr",
     "output_type": "stream",
     "text": [
      "[Parallel(n_jobs=7)]: Done 250 out of 250 | elapsed:    0.2s finished\n"
     ]
    }
   ],
   "source": [
    "model_predictions(model_pipe_4, X_test, y_test)"
   ]
  },
  {
   "cell_type": "code",
   "execution_count": 127,
   "metadata": {},
   "outputs": [
    {
     "name": "stderr",
     "output_type": "stream",
     "text": [
      "[Parallel(n_jobs=-2)]: Using backend LokyBackend with 7 concurrent workers.\n",
      "[Parallel(n_jobs=-2)]: Done   2 out of   2 | elapsed:   48.1s finished\n"
     ]
    },
    {
     "data": {
      "text/plain": [
       "0.5554753783990072"
      ]
     },
     "execution_count": 127,
     "metadata": {},
     "output_type": "execute_result"
    }
   ],
   "source": [
    "cv_4 = cross_val_score(model_pipe_4, X_train, y_train, scoring='neg_log_loss', n_jobs = -2, verbose = 1, cv = 2)\n",
    "-cv_4.mean()"
   ]
  },
  {
   "cell_type": "code",
   "execution_count": 128,
   "metadata": {},
   "outputs": [
    {
     "name": "stderr",
     "output_type": "stream",
     "text": [
      "[Parallel(n_jobs=-2)]: Using backend LokyBackend with 7 concurrent workers.\n",
      "[Parallel(n_jobs=-2)]: Done   2 out of   2 | elapsed:   11.5s finished\n"
     ]
    },
    {
     "data": {
      "text/plain": [
       "0.6135066591151918"
      ]
     },
     "execution_count": 128,
     "metadata": {},
     "output_type": "execute_result"
    }
   ],
   "source": [
    "cv_4 = cross_val_score(model_pipe_4, X_test, y_test, scoring='neg_log_loss', n_jobs = -2, verbose = 1, cv = 2)\n",
    "-cv_4.mean()"
   ]
  },
  {
   "cell_type": "code",
   "execution_count": 131,
   "metadata": {},
   "outputs": [
    {
     "name": "stderr",
     "output_type": "stream",
     "text": [
      "[Parallel(n_jobs=-2)]: Using backend LokyBackend with 7 concurrent workers.\n",
      "[Parallel(n_jobs=-2)]: Done   2 out of   2 | elapsed:   50.5s finished\n"
     ]
    },
    {
     "data": {
      "text/plain": [
       "0.8757473677250378"
      ]
     },
     "execution_count": 131,
     "metadata": {},
     "output_type": "execute_result"
    }
   ],
   "source": [
    "cv_5 = cross_val_score(model_pipe_4, X_train, y_train, scoring='roc_auc_ovo', n_jobs = -2, verbose = 1, cv = 2)\n",
    "cv_5.mean()"
   ]
  },
  {
   "cell_type": "code",
   "execution_count": 132,
   "metadata": {
    "scrolled": true
   },
   "outputs": [
    {
     "name": "stderr",
     "output_type": "stream",
     "text": [
      "[Parallel(n_jobs=-2)]: Using backend LokyBackend with 7 concurrent workers.\n",
      "[Parallel(n_jobs=-2)]: Done   2 out of   2 | elapsed:   12.9s finished\n"
     ]
    },
    {
     "data": {
      "text/plain": [
       "0.8411235042469432"
      ]
     },
     "execution_count": 132,
     "metadata": {},
     "output_type": "execute_result"
    }
   ],
   "source": [
    "cv_5 = cross_val_score(model_pipe_4, X_test, y_test, scoring='roc_auc_ovo', n_jobs = -2, verbose = 1, cv = 2)\n",
    "cv_5.mean()"
   ]
  },
  {
   "cell_type": "code",
   "execution_count": 205,
   "metadata": {
    "collapsed": true,
    "jupyter": {
     "outputs_hidden": true
    }
   },
   "outputs": [
    {
     "data": {
      "text/plain": [
       "['installer_AMREF',\n",
       " 'installer_CES',\n",
       " 'installer_Central government',\n",
       " 'installer_Commu',\n",
       " 'installer_Community',\n",
       " 'installer_DANID',\n",
       " 'installer_DANIDA',\n",
       " 'installer_DWE',\n",
       " 'installer_District Council',\n",
       " 'installer_Government',\n",
       " 'installer_HESAWA',\n",
       " 'installer_Hesawa',\n",
       " 'installer_KKKT',\n",
       " 'installer_LGA',\n",
       " 'installer_RWE',\n",
       " 'installer_TASAF',\n",
       " 'installer_TCRS',\n",
       " 'installer_TWESA',\n",
       " 'installer_WEDECO',\n",
       " 'installer_World vision',\n",
       " 'installer_other',\n",
       " 'basin_Internal',\n",
       " 'basin_Lake Nyasa',\n",
       " 'basin_Lake Rukwa',\n",
       " 'basin_Lake Tanganyika',\n",
       " 'basin_Lake Victoria',\n",
       " 'basin_Pangani',\n",
       " 'basin_Rufiji',\n",
       " 'basin_Ruvuma / Southern Coast',\n",
       " 'basin_Wami / Ruvu',\n",
       " 'region_Arusha',\n",
       " 'region_Dar es Salaam',\n",
       " 'region_Dodoma',\n",
       " 'region_Iringa',\n",
       " 'region_Kagera',\n",
       " 'region_Kigoma',\n",
       " 'region_Kilimanjaro',\n",
       " 'region_Lindi',\n",
       " 'region_Manyara',\n",
       " 'region_Mara',\n",
       " 'region_Mbeya',\n",
       " 'region_Morogoro',\n",
       " 'region_Mtwara',\n",
       " 'region_Mwanza',\n",
       " 'region_Pwani',\n",
       " 'region_Rukwa',\n",
       " 'region_Ruvuma',\n",
       " 'region_Shinyanga',\n",
       " 'region_Singida',\n",
       " 'region_Tabora',\n",
       " 'region_Tanga',\n",
       " 'public_meeting_False',\n",
       " 'public_meeting_True',\n",
       " 'public_meeting_missing',\n",
       " 'scheme_management_Company',\n",
       " 'scheme_management_Other',\n",
       " 'scheme_management_Parastatal',\n",
       " 'scheme_management_Private operator',\n",
       " 'scheme_management_SWC',\n",
       " 'scheme_management_Trust',\n",
       " 'scheme_management_VWC',\n",
       " 'scheme_management_WUA',\n",
       " 'scheme_management_WUG',\n",
       " 'scheme_management_Water Board',\n",
       " 'scheme_management_Water authority',\n",
       " 'scheme_management_missing',\n",
       " 'permit_False',\n",
       " 'permit_True',\n",
       " 'permit_missing',\n",
       " 'extraction_type_afridev',\n",
       " 'extraction_type_cemo',\n",
       " 'extraction_type_climax',\n",
       " 'extraction_type_gravity',\n",
       " 'extraction_type_india mark ii',\n",
       " 'extraction_type_india mark iii',\n",
       " 'extraction_type_ksb',\n",
       " 'extraction_type_mono',\n",
       " 'extraction_type_nira/tanira',\n",
       " 'extraction_type_other',\n",
       " 'extraction_type_other - mkulima/shinyanga',\n",
       " 'extraction_type_other - play pump',\n",
       " 'extraction_type_other - rope pump',\n",
       " 'extraction_type_other - swn 81',\n",
       " 'extraction_type_submersible',\n",
       " 'extraction_type_swn 80',\n",
       " 'extraction_type_walimi',\n",
       " 'extraction_type_windmill',\n",
       " 'management_company',\n",
       " 'management_other',\n",
       " 'management_other - school',\n",
       " 'management_parastatal',\n",
       " 'management_private operator',\n",
       " 'management_trust',\n",
       " 'management_unknown',\n",
       " 'management_vwc',\n",
       " 'management_water authority',\n",
       " 'management_water board',\n",
       " 'management_wua',\n",
       " 'management_wug',\n",
       " 'payment_never pay',\n",
       " 'payment_other',\n",
       " 'payment_pay annually',\n",
       " 'payment_pay monthly',\n",
       " 'payment_pay per bucket',\n",
       " 'payment_pay when scheme fails',\n",
       " 'payment_unknown',\n",
       " 'water_quality_coloured',\n",
       " 'water_quality_fluoride',\n",
       " 'water_quality_fluoride abandoned',\n",
       " 'water_quality_milky',\n",
       " 'water_quality_salty',\n",
       " 'water_quality_salty abandoned',\n",
       " 'water_quality_soft',\n",
       " 'water_quality_unknown',\n",
       " 'quantity_dry',\n",
       " 'quantity_enough',\n",
       " 'quantity_insufficient',\n",
       " 'quantity_seasonal',\n",
       " 'quantity_unknown',\n",
       " 'source_dam',\n",
       " 'source_hand dtw',\n",
       " 'source_lake',\n",
       " 'source_machine dbh',\n",
       " 'source_other',\n",
       " 'source_rainwater harvesting',\n",
       " 'source_river',\n",
       " 'source_shallow well',\n",
       " 'source_spring',\n",
       " 'source_unknown',\n",
       " 'waterpoint_type_cattle trough',\n",
       " 'waterpoint_type_communal standpipe',\n",
       " 'waterpoint_type_communal standpipe multiple',\n",
       " 'waterpoint_type_dam',\n",
       " 'waterpoint_type_hand pump',\n",
       " 'waterpoint_type_improved spring',\n",
       " 'waterpoint_type_other']"
      ]
     },
     "execution_count": 205,
     "metadata": {},
     "output_type": "execute_result"
    }
   ],
   "source": [
    "cat_ohe_cols = model_pipe_4.named_steps['trans'].named_transformers_[\n",
    "    'categorical'].named_steps['ohe'].get_feature_names(X_train_cat.columns).tolist()\n",
    "cat_ohe_cols"
   ]
  },
  {
   "cell_type": "code",
   "execution_count": 208,
   "metadata": {},
   "outputs": [
    {
     "data": {
      "text/plain": [
       "['gps_height',\n",
       " 'longitude',\n",
       " 'latitude',\n",
       " 'num_private',\n",
       " 'region_code',\n",
       " 'district_code',\n",
       " 'population',\n",
       " 'construction_year']"
      ]
     },
     "execution_count": 208,
     "metadata": {},
     "output_type": "execute_result"
    }
   ],
   "source": [
    "num_cols = X_train_nums.columns.tolist()\n",
    "num_cols"
   ]
  },
  {
   "cell_type": "code",
   "execution_count": 209,
   "metadata": {},
   "outputs": [],
   "source": [
    "feat_cols = cat_ohe_cols + num_cols"
   ]
  },
  {
   "cell_type": "code",
   "execution_count": 228,
   "metadata": {},
   "outputs": [],
   "source": [
    "important_feats = pd.Series(model_pipe_4.named_steps['rfc'].feature_importances_, \n",
    "                           index=feat_cols)"
   ]
  },
  {
   "cell_type": "code",
   "execution_count": 242,
   "metadata": {
    "scrolled": true
   },
   "outputs": [
    {
     "data": {
      "text/plain": [
       "installer_CES                   0.093333\n",
       "installer_Central government    0.086061\n",
       "source_machine dbh              0.066742\n",
       "installer_DWE                   0.047878\n",
       "installer_AMREF                 0.047773\n",
       "installer_DANIDA                0.036160\n",
       "source_other                    0.031464\n",
       "installer_DANID                 0.030322\n",
       "construction_year               0.022718\n",
       "installer_Community             0.022504\n",
       "dtype: float64"
      ]
     },
     "execution_count": 242,
     "metadata": {},
     "output_type": "execute_result"
    }
   ],
   "source": [
    "important_feats.sort_values(ascending=False)[:10]"
   ]
  },
  {
   "cell_type": "code",
   "execution_count": 241,
   "metadata": {},
   "outputs": [
    {
     "data": {
      "image/png": "[encoded data removed]",
      "text/plain": [
       "<Figure size 1080x1080 with 1 Axes>"
      ]
     },
     "metadata": {
      "needs_background": "light"
     },
     "output_type": "display_data"
    }
   ],
   "source": [
    "top_feats = important_feats.sort_values(ascending=False).head(20)\n",
    "plt.figure(figsize=(15, 15))\n",
    "top_feats.sort_values().plot(kind='barh')\n",
    "plt.xlabel('Level of importance')\n",
    "plt.ylabel('Features')\n",
    "plt.title('Random Forest Feature Importance');"
   ]
  },
  {
   "cell_type": "markdown",
   "metadata": {},
   "source": [
    "*  using the last model, and doing some manual tuning we are able to get a train score of $0.903$, a test score of $0.781$. this model is able to correctly able to predict $82.33$% of the functional wells, $55.81$% of the functional needs repair wells, and $76.41$% of the non-functional wells. the log loss on the training data was $0.55$ and the log loss on the test data was $0.61$. the auc for the training data was $0.88$ and for the test data it was $0.84$. \n",
    "\n",
    "*  the total accuracy score of non-functional and functional needs repairs is $132.22$, which is the highest of all the random forest classifer models. this is the random forest model that will move foward and be compared to other models that have been made.\n",
    "\n",
    "*  looking at the graph of feature importance we see that of the first 10 most important features 7 of them are the installer of the well. this tell us that who installed the well and how good of a job they did is very determinate of the water well status."
   ]
  }
 ],
 "metadata": {
  "kernelspec": {
   "display_name": "Python (learn-env)",
   "language": "python",
   "name": "learn-env"
  },
  "language_info": {
   "codemirror_mode": {
    "name": "ipython",
    "version": 3
   },
   "file_extension": ".py",
   "mimetype": "text/x-python",
   "name": "python",
   "nbconvert_exporter": "python",
   "pygments_lexer": "ipython3",
   "version": "3.8.5"
  }
 },
 "nbformat": 4,
 "nbformat_minor": 4
}
