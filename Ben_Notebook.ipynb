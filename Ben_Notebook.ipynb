{
 "cells": [
  {
   "cell_type": "code",
   "execution_count": 8,
   "metadata": {},
   "outputs": [],
   "source": [
    "import pandas as pd"
   ]
  },
  {
   "cell_type": "code",
   "execution_count": 13,
   "metadata": {},
   "outputs": [],
   "source": [
    "X_train = pd.read_csv('data/X_train.csv', index_col='id')\n",
    "X_test = pd.read_csv('data/X_test.csv', index_col='id')\n",
    "y_train = pd.read_csv('data/y_train.csv', index_col='id')\n",
    "y_test = pd.read_csv('data/y_test.csv', index_col='id')"
   ]
  },
  {
   "cell_type": "code",
   "execution_count": 16,
   "metadata": {},
   "outputs": [
    {
     "name": "stdout",
     "output_type": "stream",
     "text": [
      "<class 'pandas.core.frame.DataFrame'>\n",
      "Int64Index: 40095 entries, 45522 to 9914\n",
      "Data columns (total 31 columns):\n",
      " #   Column                 Non-Null Count  Dtype  \n",
      "---  ------                 --------------  -----  \n",
      " 0   amount_tsh             40095 non-null  float64\n",
      " 1   funder                 40095 non-null  object \n",
      " 2   gps_height             40095 non-null  int64  \n",
      " 3   installer              40095 non-null  object \n",
      " 4   longitude              40095 non-null  float64\n",
      " 5   latitude               40095 non-null  float64\n",
      " 6   num_private            40095 non-null  int64  \n",
      " 7   basin                  40095 non-null  object \n",
      " 8   region                 40095 non-null  object \n",
      " 9   region_code            40095 non-null  int64  \n",
      " 10  district_code          40095 non-null  int64  \n",
      " 11  population             40095 non-null  int64  \n",
      " 12  public_meeting         40095 non-null  object \n",
      " 13  scheme_management      40095 non-null  object \n",
      " 14  permit                 40095 non-null  object \n",
      " 15  construction_year      40095 non-null  int64  \n",
      " 16  extraction_type        40095 non-null  object \n",
      " 17  extraction_type_group  40095 non-null  object \n",
      " 18  extraction_type_class  40095 non-null  object \n",
      " 19  management             40095 non-null  object \n",
      " 20  management_group       40095 non-null  object \n",
      " 21  payment                40095 non-null  object \n",
      " 22  payment_type           40095 non-null  object \n",
      " 23  water_quality          40095 non-null  object \n",
      " 24  quality_group          40095 non-null  object \n",
      " 25  quantity               40095 non-null  object \n",
      " 26  source                 40095 non-null  object \n",
      " 27  source_type            40095 non-null  object \n",
      " 28  source_class           40095 non-null  object \n",
      " 29  waterpoint_type        40095 non-null  object \n",
      " 30  waterpoint_type_group  40095 non-null  object \n",
      "dtypes: float64(3), int64(6), object(22)\n",
      "memory usage: 9.8+ MB\n"
     ]
    }
   ],
   "source": [
    "X_train.info()"
   ]
  },
  {
   "cell_type": "code",
   "execution_count": 17,
   "metadata": {},
   "outputs": [
    {
     "name": "stdout",
     "output_type": "stream",
     "text": [
      "<class 'pandas.core.frame.DataFrame'>\n",
      "Int64Index: 13365 entries, 70336 to 10514\n",
      "Data columns (total 31 columns):\n",
      " #   Column                 Non-Null Count  Dtype  \n",
      "---  ------                 --------------  -----  \n",
      " 0   amount_tsh             13365 non-null  float64\n",
      " 1   funder                 13365 non-null  object \n",
      " 2   gps_height             13365 non-null  int64  \n",
      " 3   installer              13365 non-null  object \n",
      " 4   longitude              13365 non-null  float64\n",
      " 5   latitude               13365 non-null  float64\n",
      " 6   num_private            13365 non-null  int64  \n",
      " 7   basin                  13365 non-null  object \n",
      " 8   region                 13365 non-null  object \n",
      " 9   region_code            13365 non-null  int64  \n",
      " 10  district_code          13365 non-null  int64  \n",
      " 11  population             13365 non-null  int64  \n",
      " 12  public_meeting         13365 non-null  object \n",
      " 13  scheme_management      13365 non-null  object \n",
      " 14  permit                 13365 non-null  object \n",
      " 15  construction_year      13365 non-null  int64  \n",
      " 16  extraction_type        13365 non-null  object \n",
      " 17  extraction_type_group  13365 non-null  object \n",
      " 18  extraction_type_class  13365 non-null  object \n",
      " 19  management             13365 non-null  object \n",
      " 20  management_group       13365 non-null  object \n",
      " 21  payment                13365 non-null  object \n",
      " 22  payment_type           13365 non-null  object \n",
      " 23  water_quality          13365 non-null  object \n",
      " 24  quality_group          13365 non-null  object \n",
      " 25  quantity               13365 non-null  object \n",
      " 26  source                 13365 non-null  object \n",
      " 27  source_type            13365 non-null  object \n",
      " 28  source_class           13365 non-null  object \n",
      " 29  waterpoint_type        13365 non-null  object \n",
      " 30  waterpoint_type_group  13365 non-null  object \n",
      "dtypes: float64(3), int64(6), object(22)\n",
      "memory usage: 3.3+ MB\n"
     ]
    }
   ],
   "source": [
    "X_test.info()"
   ]
  },
  {
   "cell_type": "code",
   "execution_count": null,
   "metadata": {},
   "outputs": [],
   "source": []
  }
 ],
 "metadata": {
  "kernelspec": {
   "display_name": "Python (learn-env)",
   "language": "python",
   "name": "learn-env"
  },
  "language_info": {
   "codemirror_mode": {
    "name": "ipython",
    "version": 3
   },
   "file_extension": ".py",
   "mimetype": "text/x-python",
   "name": "python",
   "nbconvert_exporter": "python",
   "pygments_lexer": "ipython3",
   "version": "3.8.5"
  }
 },
 "nbformat": 4,
 "nbformat_minor": 4
}
