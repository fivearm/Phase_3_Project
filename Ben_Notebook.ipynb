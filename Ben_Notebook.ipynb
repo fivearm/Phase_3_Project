{
 "cells": [
  {
   "cell_type": "code",
   "execution_count": 1,
   "metadata": {},
   "outputs": [],
   "source": [
    "import pandas as pd\n",
    "from sklearn.preprocessing import StandardScaler, OneHotEncoder\n",
    "from sklearn.pipeline import Pipeline\n",
    "from sklearn.compose import ColumnTransformer\n",
    "from sklearn.linear_model import LogisticRegression\n",
    "from sklearn.model_selection import cross_val_score, GridSearchCV\n",
    "from sklearn.neighbors import KNeighborsClassifier\n",
    "from sklearn.svm import SVC\n",
    "from imblearn.over_sampling import SMOTE\n",
    "from imblearn.pipeline import Pipeline as imbPipeline"
   ]
  },
  {
   "cell_type": "code",
   "execution_count": 2,
   "metadata": {},
   "outputs": [],
   "source": [
    "X_train = pd.read_csv('data/X_train.csv', index_col='id')\n",
    "X_test = pd.read_csv('data/X_test.csv', index_col='id')\n",
    "y_train = pd.read_csv('data/y_train.csv', index_col='id')\n",
    "y_test = pd.read_csv('data/y_test.csv', index_col='id')"
   ]
  },
  {
   "cell_type": "code",
   "execution_count": 3,
   "metadata": {
    "scrolled": true
   },
   "outputs": [
    {
     "name": "stdout",
     "output_type": "stream",
     "text": [
      "<class 'pandas.core.frame.DataFrame'>\n",
      "Int64Index: 40095 entries, 47807 to 3912\n",
      "Data columns (total 29 columns):\n",
      " #   Column                 Non-Null Count  Dtype  \n",
      "---  ------                 --------------  -----  \n",
      " 0   amount_tsh             40095 non-null  float64\n",
      " 1   gps_height             40095 non-null  int64  \n",
      " 2   installer              40095 non-null  object \n",
      " 3   longitude              40095 non-null  float64\n",
      " 4   latitude               40095 non-null  float64\n",
      " 5   num_private            40095 non-null  int64  \n",
      " 6   basin                  40095 non-null  object \n",
      " 7   region                 40095 non-null  object \n",
      " 8   region_code            40095 non-null  int64  \n",
      " 9   district_code          40095 non-null  int64  \n",
      " 10  population             40095 non-null  int64  \n",
      " 11  public_meeting         40095 non-null  object \n",
      " 12  scheme_management      40095 non-null  object \n",
      " 13  permit                 40095 non-null  object \n",
      " 14  construction_year      40095 non-null  int64  \n",
      " 15  extraction_type        40095 non-null  object \n",
      " 16  extraction_type_group  40095 non-null  object \n",
      " 17  extraction_type_class  40095 non-null  object \n",
      " 18  management             40095 non-null  object \n",
      " 19  management_group       40095 non-null  object \n",
      " 20  payment                40095 non-null  object \n",
      " 21  water_quality          40095 non-null  object \n",
      " 22  quality_group          40095 non-null  object \n",
      " 23  quantity               40095 non-null  object \n",
      " 24  source                 40095 non-null  object \n",
      " 25  source_type            40095 non-null  object \n",
      " 26  source_class           40095 non-null  object \n",
      " 27  waterpoint_type        40095 non-null  object \n",
      " 28  waterpoint_type_group  40095 non-null  object \n",
      "dtypes: float64(3), int64(6), object(20)\n",
      "memory usage: 9.2+ MB\n"
     ]
    }
   ],
   "source": [
    "X_train.info()"
   ]
  },
  {
   "cell_type": "code",
   "execution_count": 4,
   "metadata": {
    "scrolled": true
   },
   "outputs": [
    {
     "name": "stdout",
     "output_type": "stream",
     "text": [
      "<class 'pandas.core.frame.DataFrame'>\n",
      "Int64Index: 13365 entries, 42051 to 58131\n",
      "Data columns (total 29 columns):\n",
      " #   Column                 Non-Null Count  Dtype  \n",
      "---  ------                 --------------  -----  \n",
      " 0   amount_tsh             13365 non-null  float64\n",
      " 1   gps_height             13365 non-null  int64  \n",
      " 2   installer              13365 non-null  object \n",
      " 3   longitude              13365 non-null  float64\n",
      " 4   latitude               13365 non-null  float64\n",
      " 5   num_private            13365 non-null  int64  \n",
      " 6   basin                  13365 non-null  object \n",
      " 7   region                 13365 non-null  object \n",
      " 8   region_code            13365 non-null  int64  \n",
      " 9   district_code          13365 non-null  int64  \n",
      " 10  population             13365 non-null  int64  \n",
      " 11  public_meeting         13365 non-null  object \n",
      " 12  scheme_management      13365 non-null  object \n",
      " 13  permit                 13365 non-null  object \n",
      " 14  construction_year      13365 non-null  int64  \n",
      " 15  extraction_type        13365 non-null  object \n",
      " 16  extraction_type_group  13365 non-null  object \n",
      " 17  extraction_type_class  13365 non-null  object \n",
      " 18  management             13365 non-null  object \n",
      " 19  management_group       13365 non-null  object \n",
      " 20  payment                13365 non-null  object \n",
      " 21  water_quality          13365 non-null  object \n",
      " 22  quality_group          13365 non-null  object \n",
      " 23  quantity               13365 non-null  object \n",
      " 24  source                 13365 non-null  object \n",
      " 25  source_type            13365 non-null  object \n",
      " 26  source_class           13365 non-null  object \n",
      " 27  waterpoint_type        13365 non-null  object \n",
      " 28  waterpoint_type_group  13365 non-null  object \n",
      "dtypes: float64(3), int64(6), object(20)\n",
      "memory usage: 3.1+ MB\n"
     ]
    }
   ],
   "source": [
    "X_test.info()"
   ]
  },
  {
   "cell_type": "code",
   "execution_count": 16,
   "metadata": {},
   "outputs": [
    {
     "data": {
      "text/plain": [
       "DWE                   11783\n",
       "missing                2429\n",
       "Government             1237\n",
       "RWE                     817\n",
       "Commu                   712\n",
       "DANIDA                  694\n",
       "KKKT                    604\n",
       "Hesawa                  580\n",
       "0                       537\n",
       "TCRS                    481\n",
       "Central government      408\n",
       "CES                     395\n",
       "District Council        385\n",
       "DANID                   377\n",
       "Community               373\n",
       "HESAWA                  367\n",
       "LGA                     287\n",
       "World vision            286\n",
       "TASAF                   265\n",
       "WEDECO                  261\n",
       "Gover                   253\n",
       "District council        247\n",
       "AMREF                   226\n",
       "TWESA                   203\n",
       "WU                      197\n",
       "Dmdd                    194\n",
       "ACRA                    180\n",
       "World Vision            175\n",
       "SEMA                    173\n",
       "DW                      166\n",
       "Name: installer, dtype: int64"
      ]
     },
     "execution_count": 16,
     "metadata": {},
     "output_type": "execute_result"
    }
   ],
   "source": [
    "X_train.installer.value_counts()[:30]"
   ]
  },
  {
   "cell_type": "code",
   "execution_count": 5,
   "metadata": {},
   "outputs": [
    {
     "data": {
      "text/plain": [
       "status_group           \n",
       "functional                 0.542786\n",
       "non functional             0.384437\n",
       "functional needs repair    0.072777\n",
       "dtype: float64"
      ]
     },
     "execution_count": 5,
     "metadata": {},
     "output_type": "execute_result"
    }
   ],
   "source": [
    "y_train.value_counts(normalize=True)"
   ]
  },
  {
   "cell_type": "code",
   "execution_count": 6,
   "metadata": {},
   "outputs": [
    {
     "data": {
      "text/plain": [
       "status_group           \n",
       "functional                 0.542761\n",
       "non functional             0.384437\n",
       "functional needs repair    0.072802\n",
       "dtype: float64"
      ]
     },
     "execution_count": 6,
     "metadata": {},
     "output_type": "execute_result"
    }
   ],
   "source": [
    "y_test.value_counts(normalize=True)"
   ]
  },
  {
   "cell_type": "code",
   "execution_count": 7,
   "metadata": {
    "scrolled": true
   },
   "outputs": [],
   "source": [
    "y_train = y_train.status_group"
   ]
  },
  {
   "cell_type": "code",
   "execution_count": 8,
   "metadata": {},
   "outputs": [],
   "source": [
    "y_test = y_test.status_group"
   ]
  },
  {
   "cell_type": "markdown",
   "metadata": {},
   "source": [
    "# Logistic Regression"
   ]
  },
  {
   "cell_type": "code",
   "execution_count": 9,
   "metadata": {},
   "outputs": [],
   "source": [
    "X_train_cat = X_train.select_dtypes('object')\n",
    "X_train_num = X_train.select_dtypes(['float64', 'int64'])\n",
    "\n",
    "cat_pipe = Pipeline([('ohe', OneHotEncoder(sparse=False, handle_unknown='ignore'))])\n",
    "num_pipe = Pipeline([('ss', StandardScaler())])\n",
    "\n",
    "transformer = ColumnTransformer([('categorical', cat_pipe, X_train_cat.columns), \n",
    "                                  ('numerical', num_pipe, X_train_num.columns)])"
   ]
  },
  {
   "cell_type": "code",
   "execution_count": 10,
   "metadata": {},
   "outputs": [
    {
     "data": {
      "text/plain": [
       "Pipeline(steps=[('trans',\n",
       "                 ColumnTransformer(transformers=[('categorical',\n",
       "                                                  Pipeline(steps=[('ohe',\n",
       "                                                                   OneHotEncoder(handle_unknown='ignore',\n",
       "                                                                                 sparse=False))]),\n",
       "                                                  Index(['installer', 'basin', 'region', 'public_meeting', 'scheme_management',\n",
       "       'permit', 'extraction_type', 'extraction_type_group',\n",
       "       'extraction_type_class', 'management', 'management_group', 'payment',\n",
       "       'water_qua...\n",
       "       'source_class', 'waterpoint_type', 'waterpoint_type_group'],\n",
       "      dtype='object')),\n",
       "                                                 ('numerical',\n",
       "                                                  Pipeline(steps=[('ss',\n",
       "                                                                   StandardScaler())]),\n",
       "                                                  Index(['amount_tsh', 'gps_height', 'longitude', 'latitude', 'num_private',\n",
       "       'region_code', 'district_code', 'population', 'construction_year'],\n",
       "      dtype='object'))])),\n",
       "                ('smote', SMOTE(random_state=42)),\n",
       "                ('logreg', LogisticRegression(n_jobs=-1, random_state=42))])"
      ]
     },
     "execution_count": 10,
     "metadata": {},
     "output_type": "execute_result"
    }
   ],
   "source": [
    "logreg_pipe = imbPipeline([\n",
    "    ('trans', transformer), \n",
    "    ('smote', SMOTE(random_state=42)),\n",
    "    ('logreg', LogisticRegression(n_jobs=-1, random_state=42))\n",
    "])\n",
    "logreg_pipe.fit(X_train, y_train)"
   ]
  },
  {
   "cell_type": "code",
   "execution_count": 11,
   "metadata": {},
   "outputs": [
    {
     "name": "stdout",
     "output_type": "stream",
     "text": [
      "Accuracy Score Train: 0.6571642349420127\n",
      "Accuracy Score Test: 0.6474373363262252\n"
     ]
    }
   ],
   "source": [
    "print('Accuracy Score Train:', logreg_pipe.score(X_train,y_train))\n",
    "print('Accuracy Score Test:', logreg_pipe.score(X_test,y_test))"
   ]
  },
  {
   "cell_type": "code",
   "execution_count": 12,
   "metadata": {
    "scrolled": true
   },
   "outputs": [],
   "source": [
    "#log_loss_logreg = cross_val_score(logreg_pipe, X_train, y_train, scoring='neg_log_loss', cv=5)\n",
    "#log_loss_logreg = -log_loss_logreg.mean()\n",
    "#print('Log Loss:', log_loss_logreg)"
   ]
  },
  {
   "cell_type": "markdown",
   "metadata": {},
   "source": [
    "# KNN (Default Parameters)"
   ]
  },
  {
   "cell_type": "code",
   "execution_count": 13,
   "metadata": {},
   "outputs": [
    {
     "data": {
      "text/plain": [
       "Pipeline(steps=[('trans',\n",
       "                 ColumnTransformer(transformers=[('categorical',\n",
       "                                                  Pipeline(steps=[('ohe',\n",
       "                                                                   OneHotEncoder(handle_unknown='ignore',\n",
       "                                                                                 sparse=False))]),\n",
       "                                                  Index(['installer', 'basin', 'region', 'public_meeting', 'scheme_management',\n",
       "       'permit', 'extraction_type', 'extraction_type_group',\n",
       "       'extraction_type_class', 'management', 'management_group', 'payment',\n",
       "       'water_qua...', 'source', 'source_type',\n",
       "       'source_class', 'waterpoint_type', 'waterpoint_type_group'],\n",
       "      dtype='object')),\n",
       "                                                 ('numerical',\n",
       "                                                  Pipeline(steps=[('ss',\n",
       "                                                                   StandardScaler())]),\n",
       "                                                  Index(['amount_tsh', 'gps_height', 'longitude', 'latitude', 'num_private',\n",
       "       'region_code', 'district_code', 'population', 'construction_year'],\n",
       "      dtype='object'))])),\n",
       "                ('knn', KNeighborsClassifier(n_jobs=-1))])"
      ]
     },
     "execution_count": 13,
     "metadata": {},
     "output_type": "execute_result"
    }
   ],
   "source": [
    "knn_pipe = Pipeline([\n",
    "    ('trans', transformer), \n",
    "    ('knn', KNeighborsClassifier(n_jobs=-1))\n",
    "])\n",
    "knn_pipe.fit(X_train, y_train)"
   ]
  },
  {
   "cell_type": "code",
   "execution_count": 14,
   "metadata": {},
   "outputs": [
    {
     "name": "stdout",
     "output_type": "stream",
     "text": [
      "Accuracy Score Train: 0.8371368000997631\n",
      "Accuracy Score Test: 0.7751589973812196\n"
     ]
    }
   ],
   "source": [
    "print('Accuracy Score Train:', knn_pipe.score(X_train,y_train))\n",
    "print('Accuracy Score Test:', knn_pipe.score(X_test,y_test))"
   ]
  },
  {
   "cell_type": "markdown",
   "metadata": {},
   "source": [
    "# KNN (Drop `installer` to check for computational speed)"
   ]
  },
  {
   "cell_type": "code",
   "execution_count": 15,
   "metadata": {},
   "outputs": [],
   "source": [
    "X_train_minus = X_train.drop('installer', axis=1)\n",
    "X_test_minus = X_test.drop('installer', axis=1)"
   ]
  },
  {
   "cell_type": "code",
   "execution_count": 16,
   "metadata": {},
   "outputs": [],
   "source": [
    "X_train_cat_minus = X_train_minus.select_dtypes('object')\n",
    "X_train_num_minus = X_train_minus.select_dtypes(['float64', 'int64'])\n",
    "\n",
    "\n",
    "cat_pipe = Pipeline([('ohe', OneHotEncoder(sparse=False, handle_unknown='ignore'))])\n",
    "num_pipe = Pipeline([('ss', StandardScaler())])\n",
    "\n",
    "transformer = ColumnTransformer([\n",
    "    ('categorical', cat_pipe, X_train_cat_minus.columns), \n",
    "    ('numerical', num_pipe, X_train_num_minus.columns)\n",
    "])"
   ]
  },
  {
   "cell_type": "code",
   "execution_count": 17,
   "metadata": {},
   "outputs": [
    {
     "data": {
      "text/plain": [
       "Pipeline(steps=[('trans',\n",
       "                 ColumnTransformer(transformers=[('categorical',\n",
       "                                                  Pipeline(steps=[('ohe',\n",
       "                                                                   OneHotEncoder(handle_unknown='ignore',\n",
       "                                                                                 sparse=False))]),\n",
       "                                                  Index(['basin', 'region', 'public_meeting', 'scheme_management', 'permit',\n",
       "       'extraction_type', 'extraction_type_group', 'extraction_type_class',\n",
       "       'management', 'management_group', 'payment', 'water_quality',\n",
       "       'quali...', 'source', 'source_type', 'source_class',\n",
       "       'waterpoint_type', 'waterpoint_type_group'],\n",
       "      dtype='object')),\n",
       "                                                 ('numerical',\n",
       "                                                  Pipeline(steps=[('ss',\n",
       "                                                                   StandardScaler())]),\n",
       "                                                  Index(['amount_tsh', 'gps_height', 'longitude', 'latitude', 'num_private',\n",
       "       'region_code', 'district_code', 'population', 'construction_year'],\n",
       "      dtype='object'))])),\n",
       "                ('knn', KNeighborsClassifier(n_jobs=-1))])"
      ]
     },
     "execution_count": 17,
     "metadata": {},
     "output_type": "execute_result"
    }
   ],
   "source": [
    "knn_pipe_minus = Pipeline([('trans', transformer), ('knn', KNeighborsClassifier(n_jobs=-1))])\n",
    "knn_pipe_minus.fit(X_train_minus, y_train)"
   ]
  },
  {
   "cell_type": "code",
   "execution_count": 18,
   "metadata": {},
   "outputs": [
    {
     "name": "stdout",
     "output_type": "stream",
     "text": [
      "Accuracy Score Train: 0.8345928420002494\n",
      "Accuracy Score Test: 0.7713430602319491\n"
     ]
    }
   ],
   "source": [
    "print('Accuracy Score Train:', knn_pipe_minus.score(X_train_minus,y_train))\n",
    "print('Accuracy Score Test:', knn_pipe_minus.score(X_test_minus,y_test))"
   ]
  },
  {
   "cell_type": "code",
   "execution_count": 28,
   "metadata": {},
   "outputs": [
    {
     "name": "stdout",
     "output_type": "stream",
     "text": [
      "Log Loss: 2.480406761566641\n"
     ]
    }
   ],
   "source": [
    "log_loss_knn_pipe_minus = cross_val_score(knn_pipe_minus, X_train_minus, y_train, scoring='neg_log_loss', cv=5)\n",
    "log_loss_knn_pipe_minus = -log_loss_knn_pipe_minus.mean()\n",
    "print('Log Loss:', log_loss_knn_pipe_minus)"
   ]
  },
  {
   "cell_type": "markdown",
   "metadata": {},
   "source": [
    "Dropping `installer` decreases computational time for KNN with default hyperparameters from around 13 minutes to around 1 minute.  "
   ]
  },
  {
   "cell_type": "markdown",
   "metadata": {},
   "source": [
    "# KNN with Gridsearch (Still without `installer`)"
   ]
  },
  {
   "cell_type": "code",
   "execution_count": 24,
   "metadata": {},
   "outputs": [
    {
     "data": {
      "text/plain": [
       "GridSearchCV(estimator=Pipeline(steps=[('trans',\n",
       "                                        ColumnTransformer(transformers=[('categorical',\n",
       "                                                                         Pipeline(steps=[('ohe',\n",
       "                                                                                          OneHotEncoder(handle_unknown='ignore',\n",
       "                                                                                                        sparse=False))]),\n",
       "                                                                         Index(['basin', 'region', 'public_meeting', 'scheme_management', 'permit',\n",
       "       'extraction_type', 'extraction_type_group', 'extraction_type_class',\n",
       "       'management', 'management_group', 'payment'...\n",
       "       'waterpoint_type', 'waterpoint_type_group'],\n",
       "      dtype='object')),\n",
       "                                                                        ('numerical',\n",
       "                                                                         Pipeline(steps=[('ss',\n",
       "                                                                                          StandardScaler())]),\n",
       "                                                                         Index(['amount_tsh', 'gps_height', 'longitude', 'latitude', 'num_private',\n",
       "       'region_code', 'district_code', 'population', 'construction_year'],\n",
       "      dtype='object'))])),\n",
       "                                       ('knn',\n",
       "                                        KNeighborsClassifier(n_jobs=-1))]),\n",
       "             param_grid={'knn__n_neighbors': [3, 5, 7], 'knn__p': [1, 2, 3]})"
      ]
     },
     "execution_count": 24,
     "metadata": {},
     "output_type": "execute_result"
    }
   ],
   "source": [
    "knn_pipe_grid = {'knn__n_neighbors': [3, 5, 7], 'knn__p': [1, 2, 3]}\n",
    "gs_knn_pipe = GridSearchCV(estimator=knn_pipe_minus, param_grid=knn_pipe_grid)\n",
    "gs_knn_pipe.fit(X_train_minus, y_train)"
   ]
  },
  {
   "cell_type": "code",
   "execution_count": 25,
   "metadata": {},
   "outputs": [
    {
     "data": {
      "text/plain": [
       "{'knn__n_neighbors': 5, 'knn__p': 1}"
      ]
     },
     "execution_count": 25,
     "metadata": {},
     "output_type": "execute_result"
    }
   ],
   "source": [
    "gs_knn_pipe.best_params_"
   ]
  },
  {
   "cell_type": "code",
   "execution_count": 26,
   "metadata": {},
   "outputs": [
    {
     "name": "stdout",
     "output_type": "stream",
     "text": [
      "Accuracy Score Train: 0.8364883401920439\n",
      "Accuracy Score Test: 0.773063973063973\n"
     ]
    }
   ],
   "source": [
    "print('Accuracy Score Train:', gs_knn_pipe.score(X_train_minus,y_train))\n",
    "print('Accuracy Score Test:', gs_knn_pipe.score(X_test_minus,y_test))"
   ]
  },
  {
   "cell_type": "code",
   "execution_count": null,
   "metadata": {},
   "outputs": [],
   "source": [
    "#log_loss_gs_knn = cross_val_score(gs_knn_pipe, X_train_minus, y_train, scoring='neg_log_loss', cv=5)\n",
    "#log_loss_gs_knn = -log_loss_gs_knn.mean()\n",
    "#print('Log Loss:', log_loss_gs_knn)"
   ]
  },
  {
   "cell_type": "markdown",
   "metadata": {},
   "source": [
    "The grid search suggests keeping the default n_neighbors (5), but changing the p hyperparameter from the default (2) to 1."
   ]
  },
  {
   "cell_type": "markdown",
   "metadata": {},
   "source": [
    "# Run KNN again with new hyperparameter, p=1"
   ]
  },
  {
   "cell_type": "code",
   "execution_count": 31,
   "metadata": {},
   "outputs": [
    {
     "data": {
      "text/plain": [
       "Pipeline(steps=[('trans',\n",
       "                 ColumnTransformer(transformers=[('categorical',\n",
       "                                                  Pipeline(steps=[('ohe',\n",
       "                                                                   OneHotEncoder(handle_unknown='ignore',\n",
       "                                                                                 sparse=False))]),\n",
       "                                                  Index(['basin', 'region', 'public_meeting', 'scheme_management', 'permit',\n",
       "       'extraction_type', 'extraction_type_group', 'extraction_type_class',\n",
       "       'management', 'management_group', 'payment', 'water_quality',\n",
       "       'quali...ource', 'source_type', 'source_class',\n",
       "       'waterpoint_type', 'waterpoint_type_group'],\n",
       "      dtype='object')),\n",
       "                                                 ('numerical',\n",
       "                                                  Pipeline(steps=[('ss',\n",
       "                                                                   StandardScaler())]),\n",
       "                                                  Index(['amount_tsh', 'gps_height', 'longitude', 'latitude', 'num_private',\n",
       "       'region_code', 'district_code', 'population', 'construction_year'],\n",
       "      dtype='object'))])),\n",
       "                ('knn', KNeighborsClassifier(n_jobs=-1, p=1))])"
      ]
     },
     "execution_count": 31,
     "metadata": {},
     "output_type": "execute_result"
    }
   ],
   "source": [
    "knn_pipe_minus_after_gs = Pipeline([\n",
    "    ('trans', transformer), \n",
    "    ('knn', KNeighborsClassifier(n_neighbors=5, p=1, n_jobs=-1))\n",
    "])\n",
    "knn_pipe_minus_after_gs.fit(X_train_minus, y_train)"
   ]
  },
  {
   "cell_type": "code",
   "execution_count": 32,
   "metadata": {},
   "outputs": [
    {
     "name": "stdout",
     "output_type": "stream",
     "text": [
      "Accuracy Score Train: 0.8364883401920439\n",
      "Accuracy Score Test: 0.773063973063973\n"
     ]
    }
   ],
   "source": [
    "print('Accuracy Score Train:', knn_pipe_minus_after_gs.score(X_train_minus,y_train))\n",
    "print('Accuracy Score Test:', knn_pipe_minus_after_gs.score(X_test_minus,y_test))"
   ]
  },
  {
   "cell_type": "code",
   "execution_count": 33,
   "metadata": {},
   "outputs": [
    {
     "name": "stdout",
     "output_type": "stream",
     "text": [
      "Log Loss: 2.455056297350457\n"
     ]
    }
   ],
   "source": [
    "log_loss_knn_after_gs = cross_val_score(knn_pipe_minus_after_gs, X_train_minus, y_train, \n",
    "                                        scoring='neg_log_loss', cv=5)\n",
    "log_loss_knn_after_gs = -log_loss_knn_after_gs.mean()\n",
    "print('Log Loss:', log_loss_knn_after_gs)"
   ]
  },
  {
   "cell_type": "markdown",
   "metadata": {},
   "source": [
    "# Support Vector Machines (still without `installer`)"
   ]
  },
  {
   "cell_type": "code",
   "execution_count": 36,
   "metadata": {},
   "outputs": [
    {
     "data": {
      "text/plain": [
       "Pipeline(steps=[('trans',\n",
       "                 ColumnTransformer(transformers=[('categorical',\n",
       "                                                  Pipeline(steps=[('ohe',\n",
       "                                                                   OneHotEncoder(handle_unknown='ignore',\n",
       "                                                                                 sparse=False))]),\n",
       "                                                  Index(['basin', 'region', 'public_meeting', 'scheme_management', 'permit',\n",
       "       'extraction_type', 'extraction_type_group', 'extraction_type_class',\n",
       "       'management', 'management_group', 'payment', 'water_quality',\n",
       "       'quality_group', 'quantity', 'source', 'source_type', 'source_class',\n",
       "       'waterpoint_type', 'waterpoint_type_group'],\n",
       "      dtype='object')),\n",
       "                                                 ('numerical',\n",
       "                                                  Pipeline(steps=[('ss',\n",
       "                                                                   StandardScaler())]),\n",
       "                                                  Index(['amount_tsh', 'gps_height', 'longitude', 'latitude', 'num_private',\n",
       "       'region_code', 'district_code', 'population', 'construction_year'],\n",
       "      dtype='object'))])),\n",
       "                ('svm', SVC())])"
      ]
     },
     "execution_count": 36,
     "metadata": {},
     "output_type": "execute_result"
    }
   ],
   "source": [
    "svm_pipe = Pipeline([('trans', transformer), ('svm', SVC())])\n",
    "svm_pipe.fit(X_train_minus, y_train)"
   ]
  },
  {
   "cell_type": "code",
   "execution_count": 37,
   "metadata": {},
   "outputs": [
    {
     "name": "stdout",
     "output_type": "stream",
     "text": [
      "Accuracy Score Train: 0.7805711435341065\n",
      "Accuracy Score Test: 0.7637860082304527\n"
     ]
    }
   ],
   "source": [
    "print('Accuracy Score Train:', svm_pipe.score(X_train_minus,y_train))\n",
    "print('Accuracy Score Test:', svm_pipe.score(X_test_minus,y_test))"
   ]
  },
  {
   "cell_type": "markdown",
   "metadata": {},
   "source": [
    "# SVM with GridSearch"
   ]
  },
  {
   "cell_type": "code",
   "execution_count": null,
   "metadata": {},
   "outputs": [],
   "source": [
    "#svm_pipe_grid = {'svm__C': [1, 1e2, 1e4, 1e6]}\n",
    "#gs_svm_pipe = GridSearchCV(estimator=svm_pipe, param_grid=svm_pipe_grid)\n",
    "#gs_svm_pipe.fit(X_train_minus, y_train)"
   ]
  },
  {
   "cell_type": "code",
   "execution_count": null,
   "metadata": {},
   "outputs": [],
   "source": [
    "gs_svm_pipe.best_params_"
   ]
  },
  {
   "cell_type": "markdown",
   "metadata": {},
   "source": [
    "# Run SVM with new hyperparamter, C="
   ]
  },
  {
   "cell_type": "code",
   "execution_count": null,
   "metadata": {},
   "outputs": [],
   "source": [
    "svm_pipe_after_gs = Pipeline([('trans', transformer), ('svm', SVC(C=))])\n",
    "svm_pipe_after_gs.fit(X_train_minus, y_train)"
   ]
  }
 ],
 "metadata": {
  "kernelspec": {
   "display_name": "Python (learn-env)",
   "language": "python",
   "name": "learn-env"
  },
  "language_info": {
   "codemirror_mode": {
    "name": "ipython",
    "version": 3
   },
   "file_extension": ".py",
   "mimetype": "text/x-python",
   "name": "python",
   "nbconvert_exporter": "python",
   "pygments_lexer": "ipython3",
   "version": "3.8.5"
  }
 },
 "nbformat": 4,
 "nbformat_minor": 4
}
