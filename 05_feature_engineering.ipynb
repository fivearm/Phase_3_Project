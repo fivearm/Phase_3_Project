{
 "cells": [
  {
   "cell_type": "markdown",
   "metadata": {},
   "source": [
    "# feature engineering"
   ]
  },
  {
   "cell_type": "code",
   "execution_count": 1,
   "metadata": {},
   "outputs": [],
   "source": [
    "# imports\n",
    "import pandas as pd\n",
    "import numpy as np\n",
    "import matplotlib.pyplot as plt\n",
    "import seaborn as sns\n",
    "import statsmodels.api as sm\n",
    "from imblearn.over_sampling import SMOTE\n",
    "from sklearn.model_selection import train_test_split, cross_val_score\n",
    "from sklearn.dummy import DummyClassifier\n",
    "from sklearn.metrics import plot_confusion_matrix, confusion_matrix"
   ]
  },
  {
   "cell_type": "code",
   "execution_count": 2,
   "metadata": {},
   "outputs": [],
   "source": [
    "X_train = pd.read_csv('data/X_train.csv', index_col='id')\n",
    "X_test = pd.read_csv('data/X_test.csv', index_col='id')\n",
    "y_train = pd.read_csv('data/y_train.csv', index_col='id')\n",
    "y_test = pd.read_csv('data/y_test.csv', index_col='id')"
   ]
  },
  {
   "cell_type": "code",
   "execution_count": 3,
   "metadata": {},
   "outputs": [],
   "source": [
    "df = X_train.merge(y_train, on='id')"
   ]
  },
  {
   "cell_type": "code",
   "execution_count": 4,
   "metadata": {},
   "outputs": [
    {
     "data": {
      "text/plain": [
       "pandas.core.frame.DataFrame"
      ]
     },
     "execution_count": 4,
     "metadata": {},
     "output_type": "execute_result"
    }
   ],
   "source": [
    "type(df)"
   ]
  },
  {
   "cell_type": "code",
   "execution_count": 5,
   "metadata": {},
   "outputs": [
    {
     "name": "stdout",
     "output_type": "stream",
     "text": [
      "<class 'pandas.core.frame.DataFrame'>\n",
      "Int64Index: 40095 entries, 58975 to 23269\n",
      "Data columns (total 22 columns):\n",
      " #   Column             Non-Null Count  Dtype  \n",
      "---  ------             --------------  -----  \n",
      " 0   gps_height         40095 non-null  int64  \n",
      " 1   installer          40095 non-null  object \n",
      " 2   longitude          40095 non-null  float64\n",
      " 3   latitude           40095 non-null  float64\n",
      " 4   num_private        40095 non-null  int64  \n",
      " 5   basin              40095 non-null  object \n",
      " 6   region             40095 non-null  object \n",
      " 7   region_code        40095 non-null  int64  \n",
      " 8   district_code      40095 non-null  int64  \n",
      " 9   population         40095 non-null  int64  \n",
      " 10  public_meeting     40095 non-null  object \n",
      " 11  scheme_management  40095 non-null  object \n",
      " 12  permit             40095 non-null  object \n",
      " 13  construction_year  40095 non-null  int64  \n",
      " 14  extraction_type    40095 non-null  object \n",
      " 15  management         40095 non-null  object \n",
      " 16  payment            40095 non-null  object \n",
      " 17  water_quality      40095 non-null  object \n",
      " 18  quantity           40095 non-null  object \n",
      " 19  source             40095 non-null  object \n",
      " 20  waterpoint_type    40095 non-null  object \n",
      " 21  status_group       40095 non-null  object \n",
      "dtypes: float64(2), int64(6), object(14)\n",
      "memory usage: 7.0+ MB\n"
     ]
    }
   ],
   "source": [
    "df.info()"
   ]
  },
  {
   "cell_type": "markdown",
   "metadata": {},
   "source": [
    "### converting some categorical features represented as strings from our initial dataset into ternary values to be able to build additional features. "
   ]
  },
  {
   "cell_type": "code",
   "execution_count": 6,
   "metadata": {},
   "outputs": [],
   "source": [
    "tern_water_quality = {'soft':0,\n",
    "                      'salty':1,\n",
    "                      'unknown': 2,\n",
    "                      'milky': 3,\n",
    "                      'coloured':4,\n",
    "                      'salty abandoned': 5, \n",
    "                      'fluoride': 6,\n",
    "                      'fluoride abandoned': 7\n",
    "}\n",
    "\n",
    "tern_region = {'Iringa':0,\n",
    "               'Shinyanga':1,\n",
    "               'Mbeya':2,\n",
    "               'Kilimanjaro':3,\n",
    "               'Morogoro':4,\n",
    "               'Arusha':5,\n",
    "               'Kagera':6,\n",
    "               'Mwanza':7,\n",
    "               'Kigoma':8,\n",
    "               'Ruvuma':9,\n",
    "               'Pwani':10,\n",
    "               'Tanga':11,\n",
    "               'Dodoma':12,\n",
    "               'Singida':13,\n",
    "               'Mara':14,\n",
    "               'Tabora':15,\n",
    "               'Rukwa':16,\n",
    "               'Mtwara':17,\n",
    "               'Manyara':18,\n",
    "               'Lindi':19,\n",
    "               'Dar es Salaam':20                                     \n",
    "}\n",
    "\n",
    "tern_extraction_type = {'gravity':0,\n",
    "                        'nira/tanira':1,\n",
    "                        'other':2,\n",
    "                        'submersible':3,\n",
    "                        'swn 80':4,\n",
    "                        'mono':5,\n",
    "                        'india mark ii':6,\n",
    "                        'afridev':7,\n",
    "                        'ksb':8,\n",
    "                        'other - rope pump':9,\n",
    "                        'other - swn 81':10,\n",
    "                        'windmill':11,\n",
    "                        'india mark iii':12,\n",
    "                        'cemo':13,\n",
    "                        'other - play pump':14,\n",
    "                        'walimi':15,\n",
    "                        'climax':16,\n",
    "                        'other - mkulima/shinyanga':17\n",
    "}\n",
    "\n",
    "tern_waterpoint_type = {'communal standpipe':0,\n",
    "'hand pump':1,\n",
    "'other':2,\n",
    "'communal standpipe multiple':3,\n",
    "'improved spring':4,\n",
    "'cattle trough':5,\n",
    "'dam':6\n",
    "}\n",
    "\n",
    "tern_source = { 'spring':0,\n",
    "                'shallow well':1,\n",
    "                'machine dbh':2,\n",
    "                'river':3,\n",
    "                'rainwater harvesting':4,\n",
    "                'hand dtw':5,\n",
    "                'lake':6,\n",
    "                'dam':7,\n",
    "                'other':8,\n",
    "                'unknown':9\n",
    "}\n",
    "\n",
    "tern_scheme_management = {'VWC':0,\n",
    "                          'WUG':1,\n",
    "                          'Water authority':2,\n",
    "                          'WUA':3,\n",
    "                          'Water Board':4,\n",
    "                          'Parastatal':5,\n",
    "                          'Private operator':6,\n",
    "                          'Company':7,\n",
    "                          'Other':8,\n",
    "                          'SWC':9,\n",
    "                          'Trust':10,\n",
    "                          'None':11\n",
    "}"
   ]
  },
  {
   "cell_type": "markdown",
   "metadata": {},
   "source": [
    "### creating some additional features as bivariate combinations which could be impactful for our modelling process"
   ]
  },
  {
   "cell_type": "code",
   "execution_count": 7,
   "metadata": {},
   "outputs": [],
   "source": [
    "df.water_quality = [tern_water_quality[x] for x in df.water_quality]"
   ]
  },
  {
   "cell_type": "code",
   "execution_count": 8,
   "metadata": {},
   "outputs": [],
   "source": [
    "df.region = [tern_region[x] for x in df.region]"
   ]
  },
  {
   "cell_type": "code",
   "execution_count": 9,
   "metadata": {},
   "outputs": [],
   "source": [
    "df.extraction_type = [tern_extraction_type[x] for x in df.extraction_type]"
   ]
  },
  {
   "cell_type": "code",
   "execution_count": 10,
   "metadata": {},
   "outputs": [],
   "source": [
    "df.waterpoint_type = [tern_waterpoint_type[x] for x in df.waterpoint_type]"
   ]
  },
  {
   "cell_type": "code",
   "execution_count": 11,
   "metadata": {},
   "outputs": [],
   "source": [
    "df.source = [tern_source[x] for x in df.source]"
   ]
  },
  {
   "cell_type": "markdown",
   "metadata": {},
   "source": [
    "### adding these new features to our dataframe"
   ]
  },
  {
   "cell_type": "code",
   "execution_count": 12,
   "metadata": {},
   "outputs": [],
   "source": [
    "df['water_quality_by_region'] = df.water_quality * df.region\n",
    "df['water_quality_by_extraction_type'] = df.water_quality * df.extraction_type\n",
    "df['water_quality_by_waterpoint_type'] = df.water_quality * df.waterpoint_type\n",
    "df['water_quality_by_source'] = df.water_quality * df.source\n",
    "df['water_quality_by_gps_height'] = df.water_quality * df.gps_height"
   ]
  },
  {
   "cell_type": "code",
   "execution_count": 13,
   "metadata": {},
   "outputs": [
    {
     "name": "stdout",
     "output_type": "stream",
     "text": [
      "<class 'pandas.core.frame.DataFrame'>\n",
      "Int64Index: 40095 entries, 58975 to 23269\n",
      "Data columns (total 27 columns):\n",
      " #   Column                            Non-Null Count  Dtype  \n",
      "---  ------                            --------------  -----  \n",
      " 0   gps_height                        40095 non-null  int64  \n",
      " 1   installer                         40095 non-null  object \n",
      " 2   longitude                         40095 non-null  float64\n",
      " 3   latitude                          40095 non-null  float64\n",
      " 4   num_private                       40095 non-null  int64  \n",
      " 5   basin                             40095 non-null  object \n",
      " 6   region                            40095 non-null  int64  \n",
      " 7   region_code                       40095 non-null  int64  \n",
      " 8   district_code                     40095 non-null  int64  \n",
      " 9   population                        40095 non-null  int64  \n",
      " 10  public_meeting                    40095 non-null  object \n",
      " 11  scheme_management                 40095 non-null  object \n",
      " 12  permit                            40095 non-null  object \n",
      " 13  construction_year                 40095 non-null  int64  \n",
      " 14  extraction_type                   40095 non-null  int64  \n",
      " 15  management                        40095 non-null  object \n",
      " 16  payment                           40095 non-null  object \n",
      " 17  water_quality                     40095 non-null  int64  \n",
      " 18  quantity                          40095 non-null  object \n",
      " 19  source                            40095 non-null  int64  \n",
      " 20  waterpoint_type                   40095 non-null  int64  \n",
      " 21  status_group                      40095 non-null  object \n",
      " 22  water_quality_by_region           40095 non-null  int64  \n",
      " 23  water_quality_by_extraction_type  40095 non-null  int64  \n",
      " 24  water_quality_by_waterpoint_type  40095 non-null  int64  \n",
      " 25  water_quality_by_source           40095 non-null  int64  \n",
      " 26  water_quality_by_gps_height       40095 non-null  int64  \n",
      "dtypes: float64(2), int64(16), object(9)\n",
      "memory usage: 8.6+ MB\n"
     ]
    }
   ],
   "source": [
    "df.info()"
   ]
  },
  {
   "cell_type": "code",
   "execution_count": 14,
   "metadata": {},
   "outputs": [],
   "source": [
    "cols_to_drop = ['water_quality',\n",
    "                'region',\n",
    "                'extraction_type',\n",
    "                'waterpoint_type',\n",
    "                'source',\n",
    "                'gps_height'\n",
    "]\n",
    "df = df.drop(cols_to_drop, axis = 1)\n",
    "df = df.fillna('missing', axis = 1)"
   ]
  },
  {
   "cell_type": "code",
   "execution_count": 15,
   "metadata": {},
   "outputs": [
    {
     "data": {
      "text/plain": [
       "Index(['installer', 'longitude', 'latitude', 'num_private', 'basin',\n",
       "       'region_code', 'district_code', 'population', 'public_meeting',\n",
       "       'scheme_management', 'permit', 'construction_year', 'management',\n",
       "       'payment', 'quantity', 'status_group', 'water_quality_by_region',\n",
       "       'water_quality_by_extraction_type', 'water_quality_by_waterpoint_type',\n",
       "       'water_quality_by_source', 'water_quality_by_gps_height'],\n",
       "      dtype='object')"
      ]
     },
     "execution_count": 15,
     "metadata": {},
     "output_type": "execute_result"
    }
   ],
   "source": [
    "df.columns"
   ]
  },
  {
   "cell_type": "code",
   "execution_count": 16,
   "metadata": {},
   "outputs": [],
   "source": [
    "x = df.drop('status_group', axis=1)\n",
    "y = df['status_group']"
   ]
  },
  {
   "cell_type": "code",
   "execution_count": 17,
   "metadata": {},
   "outputs": [],
   "source": [
    "X_train, X_test, y_train, y_test = train_test_split(x, y, random_state=42, stratify=y)"
   ]
  },
  {
   "cell_type": "code",
   "execution_count": 18,
   "metadata": {},
   "outputs": [],
   "source": [
    "X_train.to_csv('data/X_train_eng.csv')\n",
    "X_test.to_csv('data/X_test_eng.csv')\n",
    "y_train.to_csv('data/y_train_eng.csv')\n",
    "y_test.to_csv('data/y_test_eng.csv')"
   ]
  },
  {
   "cell_type": "code",
   "execution_count": 19,
   "metadata": {},
   "outputs": [
    {
     "name": "stdout",
     "output_type": "stream",
     "text": [
      "<class 'pandas.core.frame.DataFrame'>\n",
      "Int64Index: 40095 entries, 58975 to 23269\n",
      "Data columns (total 21 columns):\n",
      " #   Column                            Non-Null Count  Dtype  \n",
      "---  ------                            --------------  -----  \n",
      " 0   installer                         40095 non-null  object \n",
      " 1   longitude                         40095 non-null  float64\n",
      " 2   latitude                          40095 non-null  float64\n",
      " 3   num_private                       40095 non-null  int64  \n",
      " 4   basin                             40095 non-null  object \n",
      " 5   region_code                       40095 non-null  int64  \n",
      " 6   district_code                     40095 non-null  int64  \n",
      " 7   population                        40095 non-null  int64  \n",
      " 8   public_meeting                    40095 non-null  object \n",
      " 9   scheme_management                 40095 non-null  object \n",
      " 10  permit                            40095 non-null  object \n",
      " 11  construction_year                 40095 non-null  int64  \n",
      " 12  management                        40095 non-null  object \n",
      " 13  payment                           40095 non-null  object \n",
      " 14  quantity                          40095 non-null  object \n",
      " 15  status_group                      40095 non-null  object \n",
      " 16  water_quality_by_region           40095 non-null  int64  \n",
      " 17  water_quality_by_extraction_type  40095 non-null  int64  \n",
      " 18  water_quality_by_waterpoint_type  40095 non-null  int64  \n",
      " 19  water_quality_by_source           40095 non-null  int64  \n",
      " 20  water_quality_by_gps_height       40095 non-null  int64  \n",
      "dtypes: float64(2), int64(10), object(9)\n",
      "memory usage: 6.7+ MB\n"
     ]
    }
   ],
   "source": [
    "df.info()"
   ]
  },
  {
   "cell_type": "markdown",
   "metadata": {},
   "source": [
    "### baseline dummy model after feature engineering"
   ]
  },
  {
   "cell_type": "code",
   "execution_count": 20,
   "metadata": {},
   "outputs": [],
   "source": [
    "X_train_eng = pd.read_csv('data/X_train_eng.csv', index_col='id')\n",
    "X_test_eng = pd.read_csv('data/X_test_eng.csv', index_col='id')\n",
    "y_train_eng = pd.read_csv('data/y_train_eng.csv', index_col='id')\n",
    "y_test_eng = pd.read_csv('data/y_test_eng.csv', index_col='id')"
   ]
  },
  {
   "cell_type": "code",
   "execution_count": 21,
   "metadata": {},
   "outputs": [
    {
     "data": {
      "text/plain": [
       "DummyClassifier(random_state=42, strategy='most_frequent')"
      ]
     },
     "execution_count": 21,
     "metadata": {},
     "output_type": "execute_result"
    }
   ],
   "source": [
    "eng_dummy_model = DummyClassifier(strategy='most_frequent', random_state=42)\n",
    "eng_dummy_model.fit(X_train_eng, y_train_eng)"
   ]
  },
  {
   "cell_type": "code",
   "execution_count": 22,
   "metadata": {},
   "outputs": [
    {
     "name": "stdout",
     "output_type": "stream",
     "text": [
      "Accuracy Score Train: 0.543613448172658\n",
      "Accuracy Score Test: 0.5435953711093376\n"
     ]
    }
   ],
   "source": [
    "print('Accuracy Score Train:', eng_dummy_model.score(X_train_eng, y_train_eng))\n",
    "print('Accuracy Score Test:', eng_dummy_model.score(X_test_eng, y_test_eng))"
   ]
  },
  {
   "cell_type": "code",
   "execution_count": 23,
   "metadata": {},
   "outputs": [
    {
     "name": "stdout",
     "output_type": "stream",
     "text": [
      "Log Loss: 15.763033094737816\n"
     ]
    }
   ],
   "source": [
    "log_loss_eng_dummy = cross_val_score(eng_dummy_model, X_train_eng, y_train_eng, scoring='neg_log_loss')\n",
    "log_loss_eng_dummy = -log_loss_eng_dummy.mean()\n",
    "print('Log Loss:', log_loss_eng_dummy)"
   ]
  },
  {
   "cell_type": "code",
   "execution_count": 24,
   "metadata": {},
   "outputs": [
    {
     "data": {
      "image/png": "[encoded data removed]",
      "text/plain": [
       "<Figure size 432x288 with 2 Axes>"
      ]
     },
     "metadata": {
      "needs_background": "light"
     },
     "output_type": "display_data"
    }
   ],
   "source": [
    "plot_confusion_matrix(eng_dummy_model, X_test_eng, y_test_eng);"
   ]
  },
  {
   "cell_type": "code",
   "execution_count": 25,
   "metadata": {},
   "outputs": [
    {
     "name": "stdout",
     "output_type": "stream",
     "text": [
      "The model correctly predicts 100.0% of the funtional wells.\n",
      "The model correctly predicts 0.0% of the funtional-needs-repair wells.\n",
      "The model correctly predicts 0.0% of the non-functional wells.\n"
     ]
    }
   ],
   "source": [
    "y_pred_eng = eng_dummy_model.predict(X_test_eng)\n",
    "cm = confusion_matrix(y_test_eng, y_pred_eng)\n",
    "func = cm[0][0] / (cm[0][0] + cm[0][1] + cm[0][2])\n",
    "func_nr = cm[1][1] / (cm[1][0] + cm[1][1] + cm[1][2])\n",
    "non_func = cm[2][2] / (cm[2][0] + cm[2][1] + cm[2][2])\n",
    "print(f'The model correctly predicts {round(func*100, 2)}% of the funtional wells.')\n",
    "print(f'The model correctly predicts {round(func_nr*100, 2)}% of the funtional-needs-repair wells.')\n",
    "print(f'The model correctly predicts {round(non_func*100, 2)}% of the non-functional wells.')"
   ]
  },
  {
   "cell_type": "code",
   "execution_count": null,
   "metadata": {},
   "outputs": [],
   "source": []
  }
 ],
 "metadata": {
  "kernelspec": {
   "display_name": "Python 3",
   "language": "python",
   "name": "python3"
  },
  "language_info": {
   "codemirror_mode": {
    "name": "ipython",
    "version": 3
   },
   "file_extension": ".py",
   "mimetype": "text/x-python",
   "name": "python",
   "nbconvert_exporter": "python",
   "pygments_lexer": "ipython3",
   "version": "3.8.5"
  }
 },
 "nbformat": 4,
 "nbformat_minor": 4
}
