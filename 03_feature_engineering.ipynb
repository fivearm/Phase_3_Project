{
 "cells": [
  {
   "cell_type": "markdown",
   "metadata": {},
   "source": [
    "# feature engineering"
   ]
  },
  {
   "cell_type": "code",
   "execution_count": 1,
   "metadata": {},
   "outputs": [],
   "source": [
    "# imports\n",
    "import pandas as pd\n",
    "import numpy as np"
   ]
  },
  {
   "cell_type": "code",
   "execution_count": 5,
   "metadata": {},
   "outputs": [],
   "source": [
    "X_train = pd.read_csv('data/Training_set_values.csv', index_col='id')\n",
    "X_test = pd.read_csv('data/Test_set_values.csv', index_col='id')\n",
    "y_train = pd.read_csv('data/Training_set_labels.csv', index_col='id')"
   ]
  },
  {
   "cell_type": "code",
   "execution_count": 6,
   "metadata": {},
   "outputs": [],
   "source": [
    "df = X_train.merge(y_train, on='id')"
   ]
  },
  {
   "cell_type": "code",
   "execution_count": 7,
   "metadata": {},
   "outputs": [
    {
     "name": "stdout",
     "output_type": "stream",
     "text": [
      "<class 'pandas.core.frame.DataFrame'>\n",
      "Int64Index: 59400 entries, 69572 to 26348\n",
      "Data columns (total 40 columns):\n",
      " #   Column                 Non-Null Count  Dtype  \n",
      "---  ------                 --------------  -----  \n",
      " 0   amount_tsh             59400 non-null  float64\n",
      " 1   date_recorded          59400 non-null  object \n",
      " 2   funder                 55765 non-null  object \n",
      " 3   gps_height             59400 non-null  int64  \n",
      " 4   installer              55745 non-null  object \n",
      " 5   longitude              59400 non-null  float64\n",
      " 6   latitude               59400 non-null  float64\n",
      " 7   wpt_name               59400 non-null  object \n",
      " 8   num_private            59400 non-null  int64  \n",
      " 9   basin                  59400 non-null  object \n",
      " 10  subvillage             59029 non-null  object \n",
      " 11  region                 59400 non-null  object \n",
      " 12  region_code            59400 non-null  int64  \n",
      " 13  district_code          59400 non-null  int64  \n",
      " 14  lga                    59400 non-null  object \n",
      " 15  ward                   59400 non-null  object \n",
      " 16  population             59400 non-null  int64  \n",
      " 17  public_meeting         56066 non-null  object \n",
      " 18  recorded_by            59400 non-null  object \n",
      " 19  scheme_management      55523 non-null  object \n",
      " 20  scheme_name            31234 non-null  object \n",
      " 21  permit                 56344 non-null  object \n",
      " 22  construction_year      59400 non-null  int64  \n",
      " 23  extraction_type        59400 non-null  object \n",
      " 24  extraction_type_group  59400 non-null  object \n",
      " 25  extraction_type_class  59400 non-null  object \n",
      " 26  management             59400 non-null  object \n",
      " 27  management_group       59400 non-null  object \n",
      " 28  payment                59400 non-null  object \n",
      " 29  payment_type           59400 non-null  object \n",
      " 30  water_quality          59400 non-null  object \n",
      " 31  quality_group          59400 non-null  object \n",
      " 32  quantity               59400 non-null  object \n",
      " 33  quantity_group         59400 non-null  object \n",
      " 34  source                 59400 non-null  object \n",
      " 35  source_type            59400 non-null  object \n",
      " 36  source_class           59400 non-null  object \n",
      " 37  waterpoint_type        59400 non-null  object \n",
      " 38  waterpoint_type_group  59400 non-null  object \n",
      " 39  status_group           59400 non-null  object \n",
      "dtypes: float64(3), int64(6), object(31)\n",
      "memory usage: 18.6+ MB\n"
     ]
    }
   ],
   "source": [
    "df.info()"
   ]
  },
  {
   "cell_type": "markdown",
   "metadata": {},
   "source": [
    "### converting some categorical features represented as strings from our initial dataset into ternary values to be able to build additional features. "
   ]
  },
  {
   "cell_type": "code",
   "execution_count": 8,
   "metadata": {},
   "outputs": [],
   "source": [
    "tern_water_quality = {'soft':0,\n",
    "                      'salty':1,\n",
    "                      'unknown': 2,\n",
    "                      'milky': 3,\n",
    "                      'coloured':4,\n",
    "                      'salty abandoned': 5, \n",
    "                      'fluoride': 6,\n",
    "                      'fluoride abandoned': 7\n",
    "}\n",
    "\n",
    "tern_region = {'Iringa':0,\n",
    "               'Shinyanga':1,\n",
    "               'Mbeya':2,\n",
    "               'Kilimanjaro':3,\n",
    "               'Morogoro':4,\n",
    "               'Arusha':5,\n",
    "               'Kagera':6,\n",
    "               'Mwanza':7,\n",
    "               'Kigoma':8,\n",
    "               'Ruvuma':9,\n",
    "               'Pwani':10,\n",
    "               'Tanga':11,\n",
    "               'Dodoma':12,\n",
    "               'Singida':13,\n",
    "               'Mara':14,\n",
    "               'Tabora':15,\n",
    "               'Rukwa':16,\n",
    "               'Mtwara':17,\n",
    "               'Manyara':18,\n",
    "               'Lindi':19,\n",
    "               'Dar es Salaam':20                                     \n",
    "}\n",
    "\n",
    "tern_extraction_type = {'gravity':0,\n",
    "                        'nira/tanira':1,\n",
    "                        'other':2,\n",
    "                        'submersible':3,\n",
    "                        'swn 80':4,\n",
    "                        'mono':5,\n",
    "                        'india mark ii':6,\n",
    "                        'afridev':7,\n",
    "                        'ksb':8,\n",
    "                        'other - rope pump':9,\n",
    "                        'other - swn 81':10,\n",
    "                        'windmill':11,\n",
    "                        'india mark iii':12,\n",
    "                        'cemo':13,\n",
    "                        'other - play pump':14,\n",
    "                        'walimi':15,\n",
    "                        'climax':16,\n",
    "                        'other - mkulima/shinyanga':17\n",
    "}\n",
    "\n",
    "tern_waterpoint_type = {'communal standpipe':0,\n",
    "'hand pump':1,\n",
    "'other':2,\n",
    "'communal standpipe multiple':3,\n",
    "'improved spring':4,\n",
    "'cattle trough':5,\n",
    "'dam':6\n",
    "}\n",
    "\n",
    "tern_source = { 'spring':0,\n",
    "                'shallow well':1,\n",
    "                'machine dbh':2,\n",
    "                'river':3,\n",
    "                'rainwater harvesting':4,\n",
    "                'hand dtw':5,\n",
    "                'lake':6,\n",
    "                'dam':7,\n",
    "                'other':8,\n",
    "                'unknown':9\n",
    "}\n",
    "\n",
    "tern_scheme_management = {'VWC':0,\n",
    "                          'WUG':1,\n",
    "                          'Water authority':2,\n",
    "                          'WUA':3,\n",
    "                          'Water Board':4,\n",
    "                          'Parastatal':5,\n",
    "                          'Private operator':6,\n",
    "                          'Company':7,\n",
    "                          'Other':8,\n",
    "                          'SWC':9,\n",
    "                          'Trust':10,\n",
    "                          'None':11\n",
    "}"
   ]
  },
  {
   "cell_type": "markdown",
   "metadata": {},
   "source": [
    "### creating some additional features as bivariate combinations which could be impactful for our modelling process"
   ]
  },
  {
   "cell_type": "code",
   "execution_count": 9,
   "metadata": {},
   "outputs": [],
   "source": [
    "df.water_quality = [tern_water_quality[x] for x in df.water_quality]"
   ]
  },
  {
   "cell_type": "code",
   "execution_count": 10,
   "metadata": {},
   "outputs": [],
   "source": [
    "df.region = [tern_region[x] for x in df.region]"
   ]
  },
  {
   "cell_type": "code",
   "execution_count": 11,
   "metadata": {},
   "outputs": [],
   "source": [
    "df.extraction_type = [tern_extraction_type[x] for x in df.extraction_type]"
   ]
  },
  {
   "cell_type": "code",
   "execution_count": 12,
   "metadata": {},
   "outputs": [],
   "source": [
    "df.waterpoint_type = [tern_waterpoint_type[x] for x in df.waterpoint_type]"
   ]
  },
  {
   "cell_type": "code",
   "execution_count": 13,
   "metadata": {},
   "outputs": [],
   "source": [
    "df.source = [tern_source[x] for x in df.source]"
   ]
  },
  {
   "cell_type": "markdown",
   "metadata": {},
   "source": [
    "### adding these new features to our dataframe"
   ]
  },
  {
   "cell_type": "code",
   "execution_count": 14,
   "metadata": {},
   "outputs": [],
   "source": [
    "df['water_quality_by_region'] = df.water_quality * df.region\n",
    "df['water_quality_by_extraction_type'] = df.water_quality * df.extraction_type\n",
    "df['water_quality_by_waterpoint_type'] = df.water_quality * df.waterpoint_type\n",
    "df['water_quality_by_source'] = df.water_quality * df.source\n",
    "df['water_quality_by_gps_height'] = df.water_quality * df.gps_height"
   ]
  },
  {
   "cell_type": "code",
   "execution_count": 15,
   "metadata": {},
   "outputs": [
    {
     "name": "stdout",
     "output_type": "stream",
     "text": [
      "<class 'pandas.core.frame.DataFrame'>\n",
      "Int64Index: 59400 entries, 69572 to 26348\n",
      "Data columns (total 45 columns):\n",
      " #   Column                            Non-Null Count  Dtype  \n",
      "---  ------                            --------------  -----  \n",
      " 0   amount_tsh                        59400 non-null  float64\n",
      " 1   date_recorded                     59400 non-null  object \n",
      " 2   funder                            55765 non-null  object \n",
      " 3   gps_height                        59400 non-null  int64  \n",
      " 4   installer                         55745 non-null  object \n",
      " 5   longitude                         59400 non-null  float64\n",
      " 6   latitude                          59400 non-null  float64\n",
      " 7   wpt_name                          59400 non-null  object \n",
      " 8   num_private                       59400 non-null  int64  \n",
      " 9   basin                             59400 non-null  object \n",
      " 10  subvillage                        59029 non-null  object \n",
      " 11  region                            59400 non-null  int64  \n",
      " 12  region_code                       59400 non-null  int64  \n",
      " 13  district_code                     59400 non-null  int64  \n",
      " 14  lga                               59400 non-null  object \n",
      " 15  ward                              59400 non-null  object \n",
      " 16  population                        59400 non-null  int64  \n",
      " 17  public_meeting                    56066 non-null  object \n",
      " 18  recorded_by                       59400 non-null  object \n",
      " 19  scheme_management                 55523 non-null  object \n",
      " 20  scheme_name                       31234 non-null  object \n",
      " 21  permit                            56344 non-null  object \n",
      " 22  construction_year                 59400 non-null  int64  \n",
      " 23  extraction_type                   59400 non-null  int64  \n",
      " 24  extraction_type_group             59400 non-null  object \n",
      " 25  extraction_type_class             59400 non-null  object \n",
      " 26  management                        59400 non-null  object \n",
      " 27  management_group                  59400 non-null  object \n",
      " 28  payment                           59400 non-null  object \n",
      " 29  payment_type                      59400 non-null  object \n",
      " 30  water_quality                     59400 non-null  int64  \n",
      " 31  quality_group                     59400 non-null  object \n",
      " 32  quantity                          59400 non-null  object \n",
      " 33  quantity_group                    59400 non-null  object \n",
      " 34  source                            59400 non-null  int64  \n",
      " 35  source_type                       59400 non-null  object \n",
      " 36  source_class                      59400 non-null  object \n",
      " 37  waterpoint_type                   59400 non-null  int64  \n",
      " 38  waterpoint_type_group             59400 non-null  object \n",
      " 39  status_group                      59400 non-null  object \n",
      " 40  water_quality_by_region           59400 non-null  int64  \n",
      " 41  water_quality_by_extraction_type  59400 non-null  int64  \n",
      " 42  water_quality_by_waterpoint_type  59400 non-null  int64  \n",
      " 43  water_quality_by_source           59400 non-null  int64  \n",
      " 44  water_quality_by_gps_height       59400 non-null  int64  \n",
      "dtypes: float64(3), int64(16), object(26)\n",
      "memory usage: 20.8+ MB\n"
     ]
    }
   ],
   "source": [
    "df.info()"
   ]
  },
  {
   "cell_type": "code",
   "execution_count": 16,
   "metadata": {},
   "outputs": [],
   "source": [
    "cols_to_drop = ['amount_tsh',\n",
    "                'scheme_name', \n",
    "                'date_recorded', \n",
    "                'wpt_name', \n",
    "                'subvillage', \n",
    "                'lga', \n",
    "                'ward', \n",
    "                'recorded_by', \n",
    "                'quantity_group',\n",
    "                'quality_group',\n",
    "                'payment_type', \n",
    "                'funder', \n",
    "                'extraction_type_group', \n",
    "                'extraction_type_class',\n",
    "                'management_group',\n",
    "                'source_type',\n",
    "                'source_class',\n",
    "                'waterpoint_type_group',\n",
    "                'water_quality',\n",
    "                'region',\n",
    "                'extraction_type',\n",
    "                'waterpoint_type',\n",
    "                'source',\n",
    "                'gps_height'\n",
    "]\n",
    "df = df.drop(cols_to_drop, axis = 1)\n",
    "df = df.fillna('missing', axis = 1)"
   ]
  },
  {
   "cell_type": "code",
   "execution_count": 17,
   "metadata": {},
   "outputs": [],
   "source": [
    "X_train.to_csv('data/X_train_eng.csv')\n",
    "X_test.to_csv('data/X_test_eng.csv')\n",
    "y_train.to_csv('data/y_train_eng.csv')\n",
    "y_test.to_csv('data/y_test_eng.csv')"
   ]
  },
  {
   "cell_type": "code",
   "execution_count": 18,
   "metadata": {},
   "outputs": [
    {
     "name": "stdout",
     "output_type": "stream",
     "text": [
      "<class 'pandas.core.frame.DataFrame'>\n",
      "Int64Index: 59400 entries, 69572 to 26348\n",
      "Data columns (total 21 columns):\n",
      " #   Column                            Non-Null Count  Dtype  \n",
      "---  ------                            --------------  -----  \n",
      " 0   installer                         59400 non-null  object \n",
      " 1   longitude                         59400 non-null  float64\n",
      " 2   latitude                          59400 non-null  float64\n",
      " 3   num_private                       59400 non-null  int64  \n",
      " 4   basin                             59400 non-null  object \n",
      " 5   region_code                       59400 non-null  int64  \n",
      " 6   district_code                     59400 non-null  int64  \n",
      " 7   population                        59400 non-null  int64  \n",
      " 8   public_meeting                    59400 non-null  object \n",
      " 9   scheme_management                 59400 non-null  object \n",
      " 10  permit                            59400 non-null  object \n",
      " 11  construction_year                 59400 non-null  int64  \n",
      " 12  management                        59400 non-null  object \n",
      " 13  payment                           59400 non-null  object \n",
      " 14  quantity                          59400 non-null  object \n",
      " 15  status_group                      59400 non-null  object \n",
      " 16  water_quality_by_region           59400 non-null  int64  \n",
      " 17  water_quality_by_extraction_type  59400 non-null  int64  \n",
      " 18  water_quality_by_waterpoint_type  59400 non-null  int64  \n",
      " 19  water_quality_by_source           59400 non-null  int64  \n",
      " 20  water_quality_by_gps_height       59400 non-null  int64  \n",
      "dtypes: float64(2), int64(10), object(9)\n",
      "memory usage: 10.0+ MB\n"
     ]
    }
   ],
   "source": [
    "df.info()"
   ]
  },
  {
   "cell_type": "code",
   "execution_count": null,
   "metadata": {},
   "outputs": [],
   "source": []
  }
 ],
 "metadata": {
  "kernelspec": {
   "display_name": "Python 3",
   "language": "python",
   "name": "python3"
  },
  "language_info": {
   "codemirror_mode": {
    "name": "ipython",
    "version": 3
   },
   "file_extension": ".py",
   "mimetype": "text/x-python",
   "name": "python",
   "nbconvert_exporter": "python",
   "pygments_lexer": "ipython3",
   "version": "3.8.5"
  }
 },
 "nbformat": 4,
 "nbformat_minor": 4
}
